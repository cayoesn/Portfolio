{
 "cells": [
  {
   "cell_type": "markdown",
   "metadata": {},
   "source": [
    "# Implementação do Sistema de Recomendação\n"
   ]
  },
  {
   "cell_type": "markdown",
   "metadata": {},
   "source": [
    "## Importando Bibliotecas\n"
   ]
  },
  {
   "cell_type": "code",
   "execution_count": 101,
   "metadata": {},
   "outputs": [],
   "source": [
    "import numpy as np\n",
    "import pandas as pd\n",
    "import warnings\n",
    "from scipy.sparse import csr_matrix\n",
    "from sklearn.neighbors import NearestNeighbors\n",
    "\n",
    "warnings.simplefilter(action='ignore', category=FutureWarning)"
   ]
  },
  {
   "cell_type": "markdown",
   "metadata": {},
   "source": [
    "## Carregando conjuntos de dados\n"
   ]
  },
  {
   "cell_type": "code",
   "execution_count": 102,
   "metadata": {},
   "outputs": [
    {
     "name": "stdout",
     "output_type": "stream",
     "text": [
      "   book_id  user_id  rating\n",
      "0        1      314       5\n",
      "1        1      439       3\n",
      "2        1      588       5\n",
      "3        1     1169       4\n",
      "4        1     1185       4\n"
     ]
    }
   ],
   "source": [
    "ratings = pd.read_csv(\"ratings.csv\")\n",
    "print(ratings.head())"
   ]
  },
  {
   "cell_type": "code",
   "execution_count": 104,
   "metadata": {},
   "outputs": [
    {
     "name": "stdout",
     "output_type": "stream",
     "text": [
      "   book_id                      authors  \\\n",
      "0        1              Suzanne Collins   \n",
      "1        2  J.K. Rowling, Mary GrandPré   \n",
      "2        3              Stephenie Meyer   \n",
      "3        4                   Harper Lee   \n",
      "4        5          F. Scott Fitzgerald   \n",
      "\n",
      "                             original_title  \\\n",
      "0                          The Hunger Games   \n",
      "1  Harry Potter and the Philosopher's Stone   \n",
      "2                                  Twilight   \n",
      "3                     To Kill a Mockingbird   \n",
      "4                          The Great Gatsby   \n",
      "\n",
      "                                               title  \n",
      "0            The Hunger Games (The Hunger Games, #1)  \n",
      "1  Harry Potter and the Sorcerer's Stone (Harry P...  \n",
      "2                            Twilight (Twilight, #1)  \n",
      "3                              To Kill a Mockingbird  \n",
      "4                                   The Great Gatsby  \n"
     ]
    }
   ],
   "source": [
    "books = pd.read_csv(\"books.csv\")\n",
    "print(books.head())"
   ]
  },
  {
   "cell_type": "markdown",
   "metadata": {},
   "source": [
    "## Análise Estatística de Classificações\n"
   ]
  },
  {
   "cell_type": "code",
   "execution_count": 105,
   "metadata": {},
   "outputs": [
    {
     "name": "stdout",
     "output_type": "stream",
     "text": [
      "Number of ratings: 981756\n",
      "Number of unique book_id's: 10000\n",
      "Number of unique users: 53424\n",
      "Average ratings per user: 18.38\n",
      "Average ratings per book: 98.18\n"
     ]
    }
   ],
   "source": [
    "n_ratings = len(ratings)\n",
    "n_books = len(ratings['book_id'].unique())\n",
    "n_users = len(ratings['user_id'].unique())\n",
    "\n",
    "print(f\"Number of ratings: {n_ratings}\")\n",
    "print(f\"Number of unique book_id's: {n_books}\")\n",
    "print(f\"Number of unique users: {n_users}\")\n",
    "print(f\"Average ratings per user: {round(n_ratings/n_users, 2)}\")\n",
    "print(f\"Average ratings per book: {round(n_ratings/n_books, 2)}\")"
   ]
  },
  {
   "cell_type": "markdown",
   "metadata": {},
   "source": [
    "## Frequência de avaliação do usuário\n"
   ]
  },
  {
   "cell_type": "code",
   "execution_count": 106,
   "metadata": {},
   "outputs": [
    {
     "name": "stdout",
     "output_type": "stream",
     "text": [
      "   user_id  n_ratings\n",
      "0        1          3\n",
      "1        2          3\n",
      "2        3          2\n",
      "3        4          3\n",
      "4        5          5\n"
     ]
    }
   ],
   "source": [
    "user_freq = ratings[['user_id', 'book_id']].groupby(\n",
    "    'user_id').count().reset_index()\n",
    "\n",
    "user_freq.columns = ['user_id', 'n_ratings']\n",
    "print(user_freq.head())"
   ]
  },
  {
   "cell_type": "markdown",
   "metadata": {},
   "source": [
    "## Análise de classificação de livros\n"
   ]
  },
  {
   "cell_type": "code",
   "execution_count": 107,
   "metadata": {},
   "outputs": [],
   "source": [
    "mean_rating = ratings.groupby('book_id')[['rating']].mean()\n",
    "lowest_rated = mean_rating['rating'].idxmin()\n",
    "books.loc[books['book_id'] == lowest_rated]\n",
    "highest_rated = mean_rating['rating'].idxmax()\n",
    "books.loc[books['book_id'] == highest_rated]\n",
    "ratings[ratings['book_id'] == highest_rated]\n",
    "ratings[ratings['book_id'] == lowest_rated]\n",
    "\n",
    "book_stats = ratings.groupby('book_id')[['rating']].agg(['count', 'mean'])\n",
    "book_stats.columns = book_stats.columns.droplevel()"
   ]
  },
  {
   "cell_type": "markdown",
   "metadata": {},
   "source": [
    "## Criação de matriz de item de usuário\n"
   ]
  },
  {
   "cell_type": "code",
   "execution_count": 108,
   "metadata": {},
   "outputs": [],
   "source": [
    "def create_matrix(df):\n",
    "    N = len(df['user_id'].unique())\n",
    "    M = len(df['book_id'].unique())\n",
    "\n",
    "    user_mapper = dict(zip(np.unique(df[\"user_id\"]), list(range(N))))\n",
    "    book_mapper = dict(zip(np.unique(df[\"book_id\"]), list(range(M))))\n",
    "\n",
    "    user_inv_mapper = dict(zip(list(range(N)), np.unique(df[\"user_id\"])))\n",
    "    book_inv_mapper = dict(zip(list(range(M)), np.unique(df[\"book_id\"])))\n",
    "\n",
    "    user_index = [user_mapper[i] for i in df['user_id']]\n",
    "    book_index = [book_mapper[i] for i in df['book_id']]\n",
    "\n",
    "    X = csr_matrix((df[\"rating\"], (book_index, user_index)), shape=(M, N))\n",
    "\n",
    "    return X, user_mapper, book_mapper, user_inv_mapper, book_inv_mapper\n",
    "\n",
    "\n",
    "X, user_mapper, book_mapper, user_inv_mapper, book_inv_mapper = create_matrix(\n",
    "    ratings)"
   ]
  },
  {
   "cell_type": "markdown",
   "metadata": {},
   "source": [
    "## Análise de similaridade de filmes\n"
   ]
  },
  {
   "cell_type": "code",
   "execution_count": 111,
   "metadata": {},
   "outputs": [
    {
     "name": "stdout",
     "output_type": "stream",
     "text": [
      "Since you watched Twilight (Twilight, #1)\n",
      "Harry Potter and the Sorcerer's Stone (Harry Potter, #1)\n",
      "Pride and Prejudice\n",
      "The Hunger Games (The Hunger Games, #1)\n",
      "Memoirs of a Geisha\n",
      "The Kite Runner\n",
      "The Catcher in the Rye\n",
      "The Alchemist\n",
      "The Giver (The Giver, #1)\n",
      "The Diary of a Young Girl\n",
      "The Fellowship of the Ring (The Lord of the Rings, #1)\n"
     ]
    }
   ],
   "source": [
    "def find_similar_books(book_id, X, k, metric='cosine', show_distance=False):\n",
    "    neighbour_ids = []\n",
    "    book_ind = book_mapper[book_id]\n",
    "    book_vec = X[book_ind]\n",
    "    k += 1\n",
    "    kNN = NearestNeighbors(n_neighbors=k, algorithm=\"brute\", metric=metric)\n",
    "    kNN.fit(X)\n",
    "    book_vec = book_vec.reshape(1, -1)\n",
    "    neighbour = kNN.kneighbors(book_vec, return_distance=show_distance)\n",
    "\n",
    "    for i in range(0, k):\n",
    "        n = neighbour.item(i)\n",
    "        neighbour_ids.append(book_inv_mapper[n])\n",
    "    neighbour_ids.pop(0)\n",
    "    return neighbour_ids\n",
    "\n",
    "\n",
    "book_titles = dict(zip(books['book_id'], books['title']))\n",
    "book_id = 3\n",
    "similar_ids = find_similar_books(book_id, X, k=10)\n",
    "book_title = book_titles[book_id]\n",
    "\n",
    "print(f\"Since you watched {book_title}\")\n",
    "for i in similar_ids:\n",
    "    print(book_titles[i])"
   ]
  },
  {
   "cell_type": "markdown",
   "metadata": {},
   "source": [
    "## Recomendação de livros com relação à preferência dos usuários\n"
   ]
  },
  {
   "cell_type": "code",
   "execution_count": 112,
   "metadata": {},
   "outputs": [],
   "source": [
    "def recommend_books_for_user(user_id, X, k=10):\n",
    "    df1 = ratings[ratings['user_id'] == user_id]\n",
    "\n",
    "    if df1.empty:\n",
    "        print(f\"User with ID {user_id} does not exist.\")\n",
    "        return\n",
    "\n",
    "    book_id = df1[df1['rating'] == max(df1['rating'])]['book_id'].iloc[0]\n",
    "    book_titles = dict(zip(books['book_id'], books['title']))\n",
    "    similar_ids = find_similar_books(book_id, X, k)\n",
    "    book_title = book_titles.get(book_id, \"Book not found\")\n",
    "\n",
    "    if book_title == \"Book not found\":\n",
    "        print(f\"Book with ID {book_id} not found.\")\n",
    "        return\n",
    "\n",
    "    print(f\"Since you watched {book_title}, you might also like:\")\n",
    "    for i in similar_ids:\n",
    "        print(book_titles.get(i, \"Book not found\"))"
   ]
  },
  {
   "cell_type": "markdown",
   "metadata": {},
   "source": [
    "## Recomendo os filmes\n"
   ]
  },
  {
   "cell_type": "code",
   "execution_count": 116,
   "metadata": {},
   "outputs": [
    {
     "name": "stdout",
     "output_type": "stream",
     "text": [
      "Since you watched The Looming Tower: Al-Qaeda and the Road to 9/11, you might also like:\n",
      "Ghost Wars: The Secret History of the CIA, Afghanistan, and bin Laden from the Soviet Invasion to September 10, 2001\n",
      "The Big Short: Inside the Doomsday Machine\n",
      "Too Big to Fail: The Inside Story of How Wall Street and Washington Fought to Save the Financial System from Crisis — and Themselves\n",
      "The Making of the Atomic Bomb\n",
      "Going Clear: Scientology, Hollywood, and the Prison of Belief\n",
      "Dispatches\n",
      "Moneyball: The Art of Winning an Unfair Game\n",
      "Train Dreams\n",
      "Liar's Poker\n",
      "The Signal and the Noise: Why So Many Predictions Fail - But Some Don't\n"
     ]
    }
   ],
   "source": [
    "user_id = 180  # Replace with the desired user ID\n",
    "recommend_books_for_user(user_id, X, k=10)"
   ]
  }
 ],
 "metadata": {
  "kernelspec": {
   "display_name": "Python 3",
   "language": "python",
   "name": "python3"
  },
  "language_info": {
   "codemirror_mode": {
    "name": "ipython",
    "version": 3
   },
   "file_extension": ".py",
   "mimetype": "text/x-python",
   "name": "python",
   "nbconvert_exporter": "python",
   "pygments_lexer": "ipython3",
   "version": "3.11.4"
  }
 },
 "nbformat": 4,
 "nbformat_minor": 2
}

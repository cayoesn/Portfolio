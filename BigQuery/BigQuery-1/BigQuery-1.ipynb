{
 "cells": [
  {
   "cell_type": "markdown",
   "id": "0b4d35d2",
   "metadata": {},
   "source": [
    "# Google BigQuery\n",
    "\n",
    "1. Instalando e importando bibliotecas\n",
    "2. inicializando variáveis do envs\n",
    "3. Conectando ao Data Warehouse BigQUery\n",
    "4. Criando tabelas e populando com dados dos scripts SQL (1 a 4)\n",
    "5. Criando tabela e importando dados de arquivo CSV\n",
    "6. Criando tabela com dados externos do Google Cloud Storage\n",
    "7. Criando views e views materializadas\n",
    "\n",
    "<div class=\"alert alert-info\">\n",
    "     \n",
    "**Observações**\n",
    " \n",
    "- Para executar o notebook, é necessário ter uma conta no Google Cloud e o arquivo de credenciais para permitir o acesso, além de ter criado um Bucket Cloud Storage para armazenar os dados. Os dois devem estar na mesma região do GCP.\n",
    "\n",
    "- Os arquivos de exemplos estarão na pasta dados. Os dois arquivos de dados que serão utilizados para nas tabelas externas e na importação de dados para o BigQuery.\n",
    "\n",
    "- Mudar o nome do dataset na variável `dataset_id` e dentro dos arquivos SQL (1 a 4).\n",
    "\n",
    "</div>\n"
   ]
  },
  {
   "cell_type": "markdown",
   "id": "827d2e24",
   "metadata": {},
   "source": [
    "## Passos iniciais\n"
   ]
  },
  {
   "cell_type": "markdown",
   "id": "cb4d8e5b",
   "metadata": {},
   "source": [
    "### Instalando bibliotecas utilizadas no notebook\n"
   ]
  },
  {
   "cell_type": "code",
   "execution_count": 2,
   "id": "15e9270a",
   "metadata": {},
   "outputs": [
    {
     "name": "stdout",
     "output_type": "stream",
     "text": [
      "Requirement already satisfied: google-cloud-bigquery in /home/cayoesn/anaconda3/lib/python3.11/site-packages (3.12.0)\n",
      "Requirement already satisfied: grpcio<2.0dev,>=1.47.0 in /home/cayoesn/anaconda3/lib/python3.11/site-packages (from google-cloud-bigquery) (1.59.0)\n",
      "Requirement already satisfied: google-api-core[grpc]!=2.0.*,!=2.1.*,!=2.2.*,!=2.3.0,<3.0.0dev,>=1.31.5 in /home/cayoesn/anaconda3/lib/python3.11/site-packages (from google-cloud-bigquery) (2.12.0)\n",
      "Requirement already satisfied: proto-plus<2.0.0dev,>=1.15.0 in /home/cayoesn/anaconda3/lib/python3.11/site-packages (from google-cloud-bigquery) (1.22.3)\n",
      "Requirement already satisfied: google-cloud-core<3.0.0dev,>=1.6.0 in /home/cayoesn/anaconda3/lib/python3.11/site-packages (from google-cloud-bigquery) (2.3.3)\n",
      "Requirement already satisfied: google-resumable-media<3.0dev,>=0.6.0 in /home/cayoesn/anaconda3/lib/python3.11/site-packages (from google-cloud-bigquery) (2.6.0)\n",
      "Requirement already satisfied: packaging>=20.0.0 in /home/cayoesn/anaconda3/lib/python3.11/site-packages (from google-cloud-bigquery) (23.1)\n",
      "Requirement already satisfied: protobuf!=3.20.0,!=3.20.1,!=4.21.0,!=4.21.1,!=4.21.2,!=4.21.3,!=4.21.4,!=4.21.5,<5.0.0dev,>=3.19.5 in /home/cayoesn/anaconda3/lib/python3.11/site-packages (from google-cloud-bigquery) (4.24.4)\n",
      "Requirement already satisfied: python-dateutil<3.0dev,>=2.7.2 in /home/cayoesn/anaconda3/lib/python3.11/site-packages (from google-cloud-bigquery) (2.8.2)\n",
      "Requirement already satisfied: requests<3.0.0dev,>=2.21.0 in /home/cayoesn/anaconda3/lib/python3.11/site-packages (from google-cloud-bigquery) (2.31.0)\n",
      "Requirement already satisfied: googleapis-common-protos<2.0.dev0,>=1.56.2 in /home/cayoesn/anaconda3/lib/python3.11/site-packages (from google-api-core[grpc]!=2.0.*,!=2.1.*,!=2.2.*,!=2.3.0,<3.0.0dev,>=1.31.5->google-cloud-bigquery) (1.61.0)\n",
      "Requirement already satisfied: google-auth<3.0.dev0,>=2.14.1 in /home/cayoesn/anaconda3/lib/python3.11/site-packages (from google-api-core[grpc]!=2.0.*,!=2.1.*,!=2.2.*,!=2.3.0,<3.0.0dev,>=1.31.5->google-cloud-bigquery) (2.23.3)\n",
      "Requirement already satisfied: grpcio-status<2.0.dev0,>=1.33.2 in /home/cayoesn/anaconda3/lib/python3.11/site-packages (from google-api-core[grpc]!=2.0.*,!=2.1.*,!=2.2.*,!=2.3.0,<3.0.0dev,>=1.31.5->google-cloud-bigquery) (1.59.0)\n",
      "Requirement already satisfied: google-crc32c<2.0dev,>=1.0 in /home/cayoesn/anaconda3/lib/python3.11/site-packages (from google-resumable-media<3.0dev,>=0.6.0->google-cloud-bigquery) (1.5.0)\n",
      "Requirement already satisfied: six>=1.5 in /home/cayoesn/anaconda3/lib/python3.11/site-packages (from python-dateutil<3.0dev,>=2.7.2->google-cloud-bigquery) (1.16.0)\n",
      "Requirement already satisfied: charset-normalizer<4,>=2 in /home/cayoesn/anaconda3/lib/python3.11/site-packages (from requests<3.0.0dev,>=2.21.0->google-cloud-bigquery) (2.0.4)\n",
      "Requirement already satisfied: idna<4,>=2.5 in /home/cayoesn/anaconda3/lib/python3.11/site-packages (from requests<3.0.0dev,>=2.21.0->google-cloud-bigquery) (3.4)\n",
      "Requirement already satisfied: urllib3<3,>=1.21.1 in /home/cayoesn/anaconda3/lib/python3.11/site-packages (from requests<3.0.0dev,>=2.21.0->google-cloud-bigquery) (1.26.16)\n",
      "Requirement already satisfied: certifi>=2017.4.17 in /home/cayoesn/anaconda3/lib/python3.11/site-packages (from requests<3.0.0dev,>=2.21.0->google-cloud-bigquery) (2023.7.22)\n",
      "Requirement already satisfied: cachetools<6.0,>=2.0.0 in /home/cayoesn/anaconda3/lib/python3.11/site-packages (from google-auth<3.0.dev0,>=2.14.1->google-api-core[grpc]!=2.0.*,!=2.1.*,!=2.2.*,!=2.3.0,<3.0.0dev,>=1.31.5->google-cloud-bigquery) (5.3.1)\n",
      "Requirement already satisfied: pyasn1-modules>=0.2.1 in /home/cayoesn/anaconda3/lib/python3.11/site-packages (from google-auth<3.0.dev0,>=2.14.1->google-api-core[grpc]!=2.0.*,!=2.1.*,!=2.2.*,!=2.3.0,<3.0.0dev,>=1.31.5->google-cloud-bigquery) (0.2.8)\n",
      "Requirement already satisfied: rsa<5,>=3.1.4 in /home/cayoesn/anaconda3/lib/python3.11/site-packages (from google-auth<3.0.dev0,>=2.14.1->google-api-core[grpc]!=2.0.*,!=2.1.*,!=2.2.*,!=2.3.0,<3.0.0dev,>=1.31.5->google-cloud-bigquery) (4.9)\n",
      "Requirement already satisfied: pyasn1<0.5.0,>=0.4.6 in /home/cayoesn/anaconda3/lib/python3.11/site-packages (from pyasn1-modules>=0.2.1->google-auth<3.0.dev0,>=2.14.1->google-api-core[grpc]!=2.0.*,!=2.1.*,!=2.2.*,!=2.3.0,<3.0.0dev,>=1.31.5->google-cloud-bigquery) (0.4.8)\n",
      "Note: you may need to restart the kernel to use updated packages.\n"
     ]
    }
   ],
   "source": [
    "%pip install --upgrade google-cloud-bigquery"
   ]
  },
  {
   "cell_type": "markdown",
   "id": "f8e6221b",
   "metadata": {},
   "source": [
    "### Importando bibliotecas utilizadas no notebook e iniciando environment\n"
   ]
  },
  {
   "cell_type": "code",
   "execution_count": 2,
   "id": "332a25cb",
   "metadata": {},
   "outputs": [
    {
     "data": {
      "text/plain": [
       "True"
      ]
     },
     "execution_count": 2,
     "metadata": {},
     "output_type": "execute_result"
    }
   ],
   "source": [
    "from google.cloud import bigquery\n",
    "from dotenv import load_dotenv\n",
    "import os\n",
    "\n",
    "load_dotenv()"
   ]
  },
  {
   "cell_type": "markdown",
   "id": "fd6ba500",
   "metadata": {},
   "source": [
    "### Iniciando variável de credenciais do GCP\n"
   ]
  },
  {
   "cell_type": "code",
   "execution_count": 3,
   "id": "bba566d2",
   "metadata": {},
   "outputs": [],
   "source": [
    "credentials_path = os.getenv('GOOGLE_APPLICATION_CREDENTIALS_PATH')\n",
    "project_id = 'vendas-401823'\n",
    "dataset_id = 'northwind2'\n",
    "cloud_storage_path = os.getenv('BIGQUERY_CS_BUCKET')"
   ]
  },
  {
   "cell_type": "markdown",
   "id": "ea2e764b",
   "metadata": {},
   "source": [
    "### Conectando no Google BigQuery\n"
   ]
  },
  {
   "cell_type": "code",
   "execution_count": 4,
   "id": "7068d6d5",
   "metadata": {},
   "outputs": [],
   "source": [
    "client = bigquery.Client.from_service_account_json(credentials_path)"
   ]
  },
  {
   "cell_type": "markdown",
   "id": "6d3456ae",
   "metadata": {},
   "source": [
    "## Criação e Inserção dos dados no Data Warehouse BigQuery\n",
    "\n",
    "### Criação das tabelas no BigQuery\n"
   ]
  },
  {
   "cell_type": "code",
   "execution_count": 13,
   "id": "1d213c2c",
   "metadata": {},
   "outputs": [],
   "source": [
    "table_id = 'categories'\n",
    "schema = [\n",
    "    bigquery.SchemaField('category_id', 'INTEGER', mode='required'),\n",
    "    bigquery.SchemaField('category_name', 'STRING', mode='required'),\n",
    "    bigquery.SchemaField('description', 'STRING')\n",
    "]\n",
    "\n",
    "table_ref = client.dataset(dataset_id).table(table_id)\n",
    "table = bigquery.Table(table_ref, schema=schema)\n",
    "table = client.create_table(table)"
   ]
  },
  {
   "cell_type": "code",
   "execution_count": 52,
   "id": "6fb5e3ba",
   "metadata": {},
   "outputs": [],
   "source": [
    "table_id = 'customers'\n",
    "schema = [\n",
    "    bigquery.SchemaField('customer_id', 'STRING', mode='required'),\n",
    "    bigquery.SchemaField('company_name', 'STRING', mode='required'),\n",
    "    bigquery.SchemaField('contact_name', 'STRING'),\n",
    "    bigquery.SchemaField('contact_title', 'STRING'),\n",
    "    bigquery.SchemaField('address', 'STRING'),\n",
    "    bigquery.SchemaField('city', 'STRING'),\n",
    "    bigquery.SchemaField('region', 'STRING'),\n",
    "    bigquery.SchemaField('postal_code', 'STRING'),\n",
    "    bigquery.SchemaField('country', 'STRING'),\n",
    "    bigquery.SchemaField('phone', 'STRING'),\n",
    "\n",
    "]\n",
    "\n",
    "table_ref = client.dataset(dataset_id).table(table_id)\n",
    "table = bigquery.Table(table_ref, schema=schema)\n",
    "table = client.create_table(table)"
   ]
  },
  {
   "cell_type": "code",
   "execution_count": 21,
   "id": "18a299ce",
   "metadata": {},
   "outputs": [],
   "source": [
    "table_id = 'employees'\n",
    "schema = [\n",
    "    bigquery.SchemaField('employee_id', 'INTEGER', mode='required'),\n",
    "    bigquery.SchemaField('last_name', 'STRING', mode='required'),\n",
    "    bigquery.SchemaField('first_name', 'STRING', mode='required'),\n",
    "    bigquery.SchemaField('title', 'STRING'),\n",
    "    bigquery.SchemaField('title_of_courtesy', 'STRING'),\n",
    "    bigquery.SchemaField('birth_date', 'TIMESTAMP'),\n",
    "    bigquery.SchemaField('hire_date', 'DATE'),\n",
    "    bigquery.SchemaField('address', 'STRING'),\n",
    "    bigquery.SchemaField('city', 'STRING'),\n",
    "    bigquery.SchemaField('region', 'STRING'),\n",
    "    bigquery.SchemaField('postal_code', 'STRING'),\n",
    "    bigquery.SchemaField('country', 'STRING'),\n",
    "    bigquery.SchemaField('home_phone', 'STRING'),\n",
    "    bigquery.SchemaField('extension', 'STRING'),\n",
    "    bigquery.SchemaField('notes', 'STRING'),\n",
    "    bigquery.SchemaField('reports_to', 'INTEGER'),\n",
    "    bigquery.SchemaField('photo_path', 'STRING'),\n",
    "    bigquery.SchemaField('salary', 'FLOAT')\n",
    "]\n",
    "\n",
    "table_ref = client.dataset(dataset_id).table(table_id)\n",
    "table = bigquery.Table(table_ref, schema=schema)\n",
    "table.time_partitioning = bigquery.TimePartitioning(\n",
    "    type_=bigquery.TimePartitioningType.DAY,\n",
    "    field=\"birth_date\",\n",
    "    expiration_ms=1036800000,\n",
    "    require_partition_filter=True,\n",
    ")\n",
    "table = client.create_table(table)"
   ]
  },
  {
   "cell_type": "markdown",
   "id": "7bfae913",
   "metadata": {},
   "source": [
    "<div class=\"alert alert-info\">\n",
    "     \n",
    "**Observação**\n",
    " \n",
    "- Tabela criada com script SQL pois a api do BigQuery não tem suporte para criação de partições utilizando o campo _PARTITIONTIME em Python.\n",
    "\n",
    "</div>\n"
   ]
  },
  {
   "cell_type": "code",
   "execution_count": 40,
   "id": "94017f5b",
   "metadata": {},
   "outputs": [
    {
     "data": {
      "text/plain": [
       "<google.cloud.bigquery.table._EmptyRowIterator at 0x7ffaf27e54d0>"
      ]
     },
     "execution_count": 40,
     "metadata": {},
     "output_type": "execute_result"
    }
   ],
   "source": [
    "sql = \"\"\"\n",
    "CREATE TABLE \"\"\" + dataset_id + \"\"\".order_details (\n",
    "    order_id smallint NOT NULL,\n",
    "    product_id smallint NOT NULL,\n",
    "    unit_price FLOAT64 NOT NULL,\n",
    "    quantity smallint NOT NULL,\n",
    "    discount FLOAT64 NOT NULL\n",
    ")\n",
    "PARTITION BY TIMESTAMP_TRUNC(_PARTITIONTIME, HOUR);\n",
    "\"\"\"\n",
    "\n",
    "job = client.query(sql)\n",
    "job.result()"
   ]
  },
  {
   "cell_type": "code",
   "execution_count": 56,
   "id": "caaefae9",
   "metadata": {},
   "outputs": [],
   "source": [
    "table_id = 'orders'\n",
    "schema = [\n",
    "    bigquery.SchemaField('order_id', 'INTEGER'),\n",
    "    bigquery.SchemaField('customer_id', 'STRING'),\n",
    "    bigquery.SchemaField('employee_id', 'INTEGER'),\n",
    "    bigquery.SchemaField('order_date', 'DATE'),\n",
    "    bigquery.SchemaField('required_date', 'DATE'),\n",
    "    bigquery.SchemaField('shipped_date', 'DATE'),\n",
    "    bigquery.SchemaField('ship_via', 'INTEGER'),\n",
    "    bigquery.SchemaField('freight', 'FLOAT'),\n",
    "    bigquery.SchemaField('ship_name', 'STRING'),\n",
    "    bigquery.SchemaField('ship_address', 'STRING'),\n",
    "    bigquery.SchemaField('ship_city', 'STRING'),\n",
    "    bigquery.SchemaField('ship_region', 'STRING'),\n",
    "    bigquery.SchemaField('ship_postal_code', 'STRING'),\n",
    "    bigquery.SchemaField('ship_country', 'STRING')\n",
    "]\n",
    "\n",
    "table_ref = client.dataset(dataset_id).table(table_id)\n",
    "table = bigquery.Table(table_ref, schema=schema)\n",
    "table.range_partitioning = bigquery.RangePartitioning(\n",
    "    range_=bigquery.PartitionRange(start=10300, end=12000, interval=100),\n",
    "    field=\"order_id\",\n",
    ")\n",
    "table = client.create_table(table)"
   ]
  },
  {
   "cell_type": "code",
   "execution_count": 37,
   "id": "9d969bb2",
   "metadata": {},
   "outputs": [],
   "source": [
    "table_id = 'products'\n",
    "schema = [\n",
    "    bigquery.SchemaField('product_id', 'INTEGER', mode='required'),\n",
    "    bigquery.SchemaField('product_name', 'STRING', mode='required'),\n",
    "    bigquery.SchemaField('supplier_id', 'INTEGER'),\n",
    "    bigquery.SchemaField('category_id', 'INTEGER'),\n",
    "    bigquery.SchemaField('quantity_per_unit', 'STRING'),\n",
    "    bigquery.SchemaField('unit_price', 'FLOAT'),\n",
    "    bigquery.SchemaField('units_in_stock', 'INTEGER'),\n",
    "    bigquery.SchemaField('units_on_order', 'INTEGER'),\n",
    "    bigquery.SchemaField('reorder_level', 'INTEGER'),\n",
    "    bigquery.SchemaField('discontinued', 'INTEGER', mode='required'),\n",
    "]\n",
    "\n",
    "table_ref = client.dataset(dataset_id).table(table_id)\n",
    "table = bigquery.Table(table_ref, schema=schema)\n",
    "table.range_partitioning = bigquery.RangePartitioning(\n",
    "    range_=bigquery.PartitionRange(start=1, end=10001, interval=10),\n",
    "    field=\"product_id\",\n",
    ")\n",
    "table.clustering_fields = ['category_id']\n",
    "table = client.create_table(table)"
   ]
  },
  {
   "cell_type": "code",
   "execution_count": 38,
   "id": "7e1aa59a",
   "metadata": {},
   "outputs": [],
   "source": [
    "\n",
    "table_id = 'shippers'\n",
    "schema = [\n",
    "    bigquery.SchemaField('shipper_id', 'INTEGER', mode='required'),\n",
    "    bigquery.SchemaField('company_name', 'STRING', mode='required'),\n",
    "    bigquery.SchemaField('phone', 'STRING')\n",
    "]\n",
    "\n",
    "table_ref = client.dataset(dataset_id).table(table_id)\n",
    "table = bigquery.Table(table_ref, schema=schema)\n",
    "table = client.create_table(table)"
   ]
  },
  {
   "cell_type": "code",
   "execution_count": 39,
   "id": "a546127d",
   "metadata": {},
   "outputs": [],
   "source": [
    "table_id = 'suppliers'\n",
    "schema = [\n",
    "    bigquery.SchemaField('supplier_id', 'INTEGER', mode='required'),\n",
    "    bigquery.SchemaField('company_name', 'STRING', mode='required'),\n",
    "    bigquery.SchemaField('contact_name', 'STRING'),\n",
    "    bigquery.SchemaField('contact_title', 'STRING'),\n",
    "    bigquery.SchemaField('address', 'STRING'),\n",
    "    bigquery.SchemaField('city', 'STRING'),\n",
    "    bigquery.SchemaField('region', 'STRING'),\n",
    "    bigquery.SchemaField('postal_code', 'STRING'),\n",
    "    bigquery.SchemaField('country', 'STRING'),\n",
    "    bigquery.SchemaField('phone', 'STRING'),\n",
    "    bigquery.SchemaField('fax', 'STRING'),\n",
    "    bigquery.SchemaField('homepage', 'STRING'),\n",
    "]\n",
    "\n",
    "table_ref = client.dataset(dataset_id).table(table_id)\n",
    "table = bigquery.Table(table_ref, schema=schema)\n",
    "table = client.create_table(table)"
   ]
  },
  {
   "cell_type": "markdown",
   "id": "8853981b",
   "metadata": {},
   "source": [
    "### Inserindo de dados nas tabelas do BigQuery através dos scripts SQL (1 a 4)\n"
   ]
  },
  {
   "cell_type": "code",
   "execution_count": 58,
   "id": "d314aaa7",
   "metadata": {},
   "outputs": [
    {
     "data": {
      "text/plain": [
       "<google.cloud.bigquery.table._EmptyRowIterator at 0x7ffaf1e56050>"
      ]
     },
     "execution_count": 58,
     "metadata": {},
     "output_type": "execute_result"
    }
   ],
   "source": [
    "with open('1.categories_shippers_suppliers.sql', 'r') as file:\n",
    "    query1 = file.read()\n",
    "\n",
    "with open('2.customers_employees_products.sql', 'r') as file:\n",
    "    query2 = file.read()\n",
    "\n",
    "with open('3.orders.sql', 'r') as file:\n",
    "    query3 = file.read()\n",
    "\n",
    "with open('4.orderdetails1.sql', 'r') as file:\n",
    "    query4 = file.read()\n",
    "\n",
    "with open('4.orderdetails2.sql', 'r') as file:\n",
    "    query5 = file.read()\n",
    "\n",
    "job = client.query(query1)\n",
    "job.result()\n",
    "\n",
    "job = client.query(query2)\n",
    "job.result()\n",
    "\n",
    "job = client.query(query3)\n",
    "job.result()\n",
    "\n",
    "job = client.query(query4)\n",
    "job.result()\n",
    "\n",
    "job = client.query(query5)\n",
    "job.result()"
   ]
  },
  {
   "cell_type": "code",
   "execution_count": 59,
   "id": "67a2afc8",
   "metadata": {},
   "outputs": [
    {
     "name": "stdout",
     "output_type": "stream",
     "text": [
      "Row((1, 'Davolio', 'Nancy', 'Sales Representative', 'Ms.', datetime.datetime(1948, 12, 8, 0, 0, tzinfo=datetime.timezone.utc), datetime.date(1992, 5, 1), '507 - 20th Ave. E.Apt. 2A', 'Seattle', 'WA', '98122', 'USA', '(206) 555-9857', '5467', 'Education includes a BA in psychology from Colorado State University in 1970.  She also completed The Art of the Cold Call.  Nancy is a member of Toastmasters International.', 2, 'http://accweb/emmployees/davolio.bmp', 2954.55), {'employee_id': 0, 'last_name': 1, 'first_name': 2, 'title': 3, 'title_of_courtesy': 4, 'birth_date': 5, 'hire_date': 6, 'address': 7, 'city': 8, 'region': 9, 'postal_code': 10, 'country': 11, 'home_phone': 12, 'extension': 13, 'notes': 14, 'reports_to': 15, 'photo_path': 16, 'salary': 17})\n",
      "Row((1, 'Davolio', 'Nancy', 'Sales Representative', 'Ms.', datetime.datetime(1948, 12, 8, 0, 0, tzinfo=datetime.timezone.utc), datetime.date(1992, 5, 1), '507 - 20th Ave. E.Apt. 2A', 'Seattle', 'WA', '98122', 'USA', '(206) 555-9857', '5467', 'Education includes a BA in psychology from Colorado State University in 1970.  She also completed The Art of the Cold Call.  Nancy is a member of Toastmasters International.', 2, 'http://accweb/emmployees/davolio.bmp', 2954.55), {'employee_id': 0, 'last_name': 1, 'first_name': 2, 'title': 3, 'title_of_courtesy': 4, 'birth_date': 5, 'hire_date': 6, 'address': 7, 'city': 8, 'region': 9, 'postal_code': 10, 'country': 11, 'home_phone': 12, 'extension': 13, 'notes': 14, 'reports_to': 15, 'photo_path': 16, 'salary': 17})\n",
      "Row((2, 'Fuller', 'Andrew', 'Vice President, Sales', 'Dr.', datetime.datetime(1952, 2, 19, 0, 0, tzinfo=datetime.timezone.utc), datetime.date(1992, 8, 14), '908 W. Capital Way', 'Tacoma', 'WA', '98401', 'USA', '(206) 555-9482', '3457', 'Andrew received his BTS commercial in 1974 and a Ph.D. in international marketing from the University of Dallas in 1981.  He is fluent in French and Italian and reads German.  He joined the company as a sales representative, was promoted to sales manager in January 1992 and to vice president of sales in March 1993.  Andrew is a member of the Sales Management Roundtable, the Seattle Chamber of Commerce, and the Pacific Rim Importers Association.', 0, 'http://accweb/emmployees/fuller.bmp', 2254.49), {'employee_id': 0, 'last_name': 1, 'first_name': 2, 'title': 3, 'title_of_courtesy': 4, 'birth_date': 5, 'hire_date': 6, 'address': 7, 'city': 8, 'region': 9, 'postal_code': 10, 'country': 11, 'home_phone': 12, 'extension': 13, 'notes': 14, 'reports_to': 15, 'photo_path': 16, 'salary': 17})\n",
      "Row((2, 'Fuller', 'Andrew', 'Vice President, Sales', 'Dr.', datetime.datetime(1952, 2, 19, 0, 0, tzinfo=datetime.timezone.utc), datetime.date(1992, 8, 14), '908 W. Capital Way', 'Tacoma', 'WA', '98401', 'USA', '(206) 555-9482', '3457', 'Andrew received his BTS commercial in 1974 and a Ph.D. in international marketing from the University of Dallas in 1981.  He is fluent in French and Italian and reads German.  He joined the company as a sales representative, was promoted to sales manager in January 1992 and to vice president of sales in March 1993.  Andrew is a member of the Sales Management Roundtable, the Seattle Chamber of Commerce, and the Pacific Rim Importers Association.', 0, 'http://accweb/emmployees/fuller.bmp', 2254.49), {'employee_id': 0, 'last_name': 1, 'first_name': 2, 'title': 3, 'title_of_courtesy': 4, 'birth_date': 5, 'hire_date': 6, 'address': 7, 'city': 8, 'region': 9, 'postal_code': 10, 'country': 11, 'home_phone': 12, 'extension': 13, 'notes': 14, 'reports_to': 15, 'photo_path': 16, 'salary': 17})\n",
      "Row((4, 'Peacock', 'Margaret', 'Sales Representative', 'Mrs.', datetime.datetime(1937, 9, 19, 0, 0, tzinfo=datetime.timezone.utc), datetime.date(1993, 5, 3), '4110 Old Redmond Rd.', 'Redmond', 'WA', '98052', 'USA', '(206) 555-8122', '5176', 'Margaret holds a BA in English literature from Concordia College (1958) and an MA from the American Institute of Culinary Arts (1966).  She was assigned to the London office temporarily from July through November 1992.', 2, 'http://accweb/emmployees/peacock.bmp', 1861.08), {'employee_id': 0, 'last_name': 1, 'first_name': 2, 'title': 3, 'title_of_courtesy': 4, 'birth_date': 5, 'hire_date': 6, 'address': 7, 'city': 8, 'region': 9, 'postal_code': 10, 'country': 11, 'home_phone': 12, 'extension': 13, 'notes': 14, 'reports_to': 15, 'photo_path': 16, 'salary': 17})\n",
      "Row((4, 'Peacock', 'Margaret', 'Sales Representative', 'Mrs.', datetime.datetime(1937, 9, 19, 0, 0, tzinfo=datetime.timezone.utc), datetime.date(1993, 5, 3), '4110 Old Redmond Rd.', 'Redmond', 'WA', '98052', 'USA', '(206) 555-8122', '5176', 'Margaret holds a BA in English literature from Concordia College (1958) and an MA from the American Institute of Culinary Arts (1966).  She was assigned to the London office temporarily from July through November 1992.', 2, 'http://accweb/emmployees/peacock.bmp', 1861.08), {'employee_id': 0, 'last_name': 1, 'first_name': 2, 'title': 3, 'title_of_courtesy': 4, 'birth_date': 5, 'hire_date': 6, 'address': 7, 'city': 8, 'region': 9, 'postal_code': 10, 'country': 11, 'home_phone': 12, 'extension': 13, 'notes': 14, 'reports_to': 15, 'photo_path': 16, 'salary': 17})\n",
      "Row((5, 'Buchanan', 'Steven', 'Sales Manager', 'Mr.', datetime.datetime(1955, 3, 4, 0, 0, tzinfo=datetime.timezone.utc), datetime.date(1993, 10, 17), '14 Garrett Hill', 'London', '', 'SW1 8JR', 'UK', '(71) 555-4848', '3453', 'Steven Buchanan graduated from St. Andrews University, Scotland, with a BSC degree in 1976.  Upon joining the company as a sales representative in 1992, he spent 6 months in an orientation program at the Seattle office and then returned to his permanent post in London.  He was promoted to sales manager in March 1993.  Mr. Buchanan has completed the courses Successful Telemarketing and International Sales Management.  He is fluent in French.', 2, 'http://accweb/emmployees/buchanan.bmp', 1744.21), {'employee_id': 0, 'last_name': 1, 'first_name': 2, 'title': 3, 'title_of_courtesy': 4, 'birth_date': 5, 'hire_date': 6, 'address': 7, 'city': 8, 'region': 9, 'postal_code': 10, 'country': 11, 'home_phone': 12, 'extension': 13, 'notes': 14, 'reports_to': 15, 'photo_path': 16, 'salary': 17})\n",
      "Row((5, 'Buchanan', 'Steven', 'Sales Manager', 'Mr.', datetime.datetime(1955, 3, 4, 0, 0, tzinfo=datetime.timezone.utc), datetime.date(1993, 10, 17), '14 Garrett Hill', 'London', '', 'SW1 8JR', 'UK', '(71) 555-4848', '3453', 'Steven Buchanan graduated from St. Andrews University, Scotland, with a BSC degree in 1976.  Upon joining the company as a sales representative in 1992, he spent 6 months in an orientation program at the Seattle office and then returned to his permanent post in London.  He was promoted to sales manager in March 1993.  Mr. Buchanan has completed the courses Successful Telemarketing and International Sales Management.  He is fluent in French.', 2, 'http://accweb/emmployees/buchanan.bmp', 1744.21), {'employee_id': 0, 'last_name': 1, 'first_name': 2, 'title': 3, 'title_of_courtesy': 4, 'birth_date': 5, 'hire_date': 6, 'address': 7, 'city': 8, 'region': 9, 'postal_code': 10, 'country': 11, 'home_phone': 12, 'extension': 13, 'notes': 14, 'reports_to': 15, 'photo_path': 16, 'salary': 17})\n",
      "Row((8, 'Callahan', 'Laura', 'Inside Sales Coordinator', 'Ms.', datetime.datetime(1958, 1, 9, 0, 0, tzinfo=datetime.timezone.utc), datetime.date(1994, 3, 5), '4726 - 11th Ave. N.E.', 'Seattle', 'WA', '98105', 'USA', '(206) 555-1189', '2344', 'Laura received a BA in psychology from the University of Washington.  She has also completed a course in business French.  She reads and writes French.', 2, 'http://accweb/emmployees/davolio.bmp', 2100.5), {'employee_id': 0, 'last_name': 1, 'first_name': 2, 'title': 3, 'title_of_courtesy': 4, 'birth_date': 5, 'hire_date': 6, 'address': 7, 'city': 8, 'region': 9, 'postal_code': 10, 'country': 11, 'home_phone': 12, 'extension': 13, 'notes': 14, 'reports_to': 15, 'photo_path': 16, 'salary': 17})\n",
      "Row((8, 'Callahan', 'Laura', 'Inside Sales Coordinator', 'Ms.', datetime.datetime(1958, 1, 9, 0, 0, tzinfo=datetime.timezone.utc), datetime.date(1994, 3, 5), '4726 - 11th Ave. N.E.', 'Seattle', 'WA', '98105', 'USA', '(206) 555-1189', '2344', 'Laura received a BA in psychology from the University of Washington.  She has also completed a course in business French.  She reads and writes French.', 2, 'http://accweb/emmployees/davolio.bmp', 2100.5), {'employee_id': 0, 'last_name': 1, 'first_name': 2, 'title': 3, 'title_of_courtesy': 4, 'birth_date': 5, 'hire_date': 6, 'address': 7, 'city': 8, 'region': 9, 'postal_code': 10, 'country': 11, 'home_phone': 12, 'extension': 13, 'notes': 14, 'reports_to': 15, 'photo_path': 16, 'salary': 17})\n"
     ]
    }
   ],
   "source": [
    "query = f\"\"\"\n",
    "select * from `{dataset_id}.employees` where date(birth_date) between '1900-01-01' and '1980-12-31' order by employee_id\n",
    "\"\"\"\n",
    "query_job = client.query(query)\n",
    "\n",
    "for row in query_job:\n",
    "    print(row)"
   ]
  },
  {
   "cell_type": "markdown",
   "id": "f2d86f75",
   "metadata": {},
   "source": [
    "### Criando uma tabela pivot\n"
   ]
  },
  {
   "cell_type": "code",
   "execution_count": 62,
   "id": "b9ad5eb0",
   "metadata": {},
   "outputs": [
    {
     "name": "stdout",
     "output_type": "stream",
     "text": [
      "Row((1, 2, 0, 0, 0, 0, 0, 0, 0, 0, 0, 0, 0), {'mes_nascimento': 0, 'Janeiro': 1, 'Fevereiro': 2, 'Marco': 3, 'Abril': 4, 'Maio': 5, 'Junho': 6, 'Julho': 7, 'Agosto': 8, 'Setembro': 9, 'Outubro': 10, 'Novembro': 11, 'Dezembro': 12})\n",
      "Row((2, 0, 2, 0, 0, 0, 0, 0, 0, 0, 0, 0, 0), {'mes_nascimento': 0, 'Janeiro': 1, 'Fevereiro': 2, 'Marco': 3, 'Abril': 4, 'Maio': 5, 'Junho': 6, 'Julho': 7, 'Agosto': 8, 'Setembro': 9, 'Outubro': 10, 'Novembro': 11, 'Dezembro': 12})\n",
      "Row((3, 0, 0, 2, 0, 0, 0, 0, 0, 0, 0, 0, 0), {'mes_nascimento': 0, 'Janeiro': 1, 'Fevereiro': 2, 'Marco': 3, 'Abril': 4, 'Maio': 5, 'Junho': 6, 'Julho': 7, 'Agosto': 8, 'Setembro': 9, 'Outubro': 10, 'Novembro': 11, 'Dezembro': 12})\n",
      "Row((9, 0, 0, 0, 0, 0, 0, 0, 0, 2, 0, 0, 0), {'mes_nascimento': 0, 'Janeiro': 1, 'Fevereiro': 2, 'Marco': 3, 'Abril': 4, 'Maio': 5, 'Junho': 6, 'Julho': 7, 'Agosto': 8, 'Setembro': 9, 'Outubro': 10, 'Novembro': 11, 'Dezembro': 12})\n",
      "Row((12, 0, 0, 0, 0, 0, 0, 0, 0, 0, 0, 0, 2), {'mes_nascimento': 0, 'Janeiro': 1, 'Fevereiro': 2, 'Marco': 3, 'Abril': 4, 'Maio': 5, 'Junho': 6, 'Julho': 7, 'Agosto': 8, 'Setembro': 9, 'Outubro': 10, 'Novembro': 11, 'Dezembro': 12})\n"
     ]
    }
   ],
   "source": [
    "query = f\"\"\"\n",
    "with cte_mes as (\n",
    "  select \n",
    "  employee_id,\n",
    "  extract(month FROM birth_date) as mes_nascimento\n",
    "  from `{dataset_id}.employees`\n",
    "  where extract(year FROM birth_date) between 1900 and 1990\n",
    ")\n",
    "select \n",
    "mes_nascimento,\n",
    "sum(case when mes_nascimento = 1 then 1 else 0 end) as Janeiro,\n",
    "sum(case when mes_nascimento = 2 then 1 else 0 end) as Fevereiro,\n",
    "sum(case when mes_nascimento = 3 then 1 else 0 end) as Marco,\n",
    "sum(case when mes_nascimento = 4 then 1 else 0 end) as Abril,\n",
    "sum(case when mes_nascimento = 5 then 1 else 0 end) as Maio,\n",
    "sum(case when mes_nascimento = 6 then 1 else 0 end) as Junho,\n",
    "sum(case when mes_nascimento = 7 then 1 else 0 end) as Julho,\n",
    "sum(case when mes_nascimento = 8 then 1 else 0 end) as Agosto,\n",
    "sum(case when mes_nascimento = 9 then 1 else 0 end) as Setembro,\n",
    "sum(case when mes_nascimento = 10 then 1 else 0 end) as Outubro,\n",
    "sum(case when mes_nascimento = 11 then 1 else 0 end) as Novembro,\n",
    "sum(case when mes_nascimento = 12 then 1 else 0 end) as Dezembro\n",
    "from cte_mes\n",
    "group by mes_nascimento\n",
    "order by mes_nascimento\n",
    "\"\"\"\n",
    "query_job = client.query(query)\n",
    "\n",
    "for row in query_job:\n",
    "    print(row)"
   ]
  },
  {
   "cell_type": "markdown",
   "id": "52084d5d",
   "metadata": {},
   "source": [
    "### Cálculo de média com sub consulta\n"
   ]
  },
  {
   "cell_type": "code",
   "execution_count": 63,
   "id": "3067d276",
   "metadata": {},
   "outputs": [
    {
     "name": "stdout",
     "output_type": "stream",
     "text": [
      "Row((52, 'Filo Mix', 20.25), {'product_id': 0, 'product_name': 1, 'preco_medio': 2})\n",
      "Row((57, 'Ravioli Angelo', 20.25), {'product_id': 0, 'product_name': 1, 'preco_medio': 2})\n",
      "Row((56, 'Gnocchi di nonna Alice', 20.25), {'product_id': 0, 'product_name': 1, 'preco_medio': 2})\n",
      "Row((64, 'Wimmers gute Semmelkndel', 20.25), {'product_id': 0, 'product_name': 1, 'preco_medio': 2})\n",
      "Row((22, 'Gustafs Knckebrd', 20.25), {'product_id': 0, 'product_name': 1, 'preco_medio': 2})\n",
      "Row((23, 'Tunnbrd', 20.25), {'product_id': 0, 'product_name': 1, 'preco_medio': 2})\n",
      "Row((42, 'Singaporean Hokkien Fried Mee', 20.25), {'product_id': 0, 'product_name': 1, 'preco_medio': 2})\n",
      "Row((58, 'Escargots de Bourgogne', 20.682499999999997), {'product_id': 0, 'product_name': 1, 'preco_medio': 2})\n",
      "Row((73, 'Rd Kaviar', 20.682499999999997), {'product_id': 0, 'product_name': 1, 'preco_medio': 2})\n",
      "Row((30, 'Nord-Ost Matjeshering', 20.682499999999997), {'product_id': 0, 'product_name': 1, 'preco_medio': 2})\n",
      "Row((37, 'Gravad lax', 20.682499999999997), {'product_id': 0, 'product_name': 1, 'preco_medio': 2})\n",
      "Row((36, 'Inlagd Sill', 20.682499999999997), {'product_id': 0, 'product_name': 1, 'preco_medio': 2})\n",
      "Row((40, 'Boston Crab Meat', 20.682499999999997), {'product_id': 0, 'product_name': 1, 'preco_medio': 2})\n",
      "Row((41, 'Jacks New England Clam Chowder', 20.682499999999997), {'product_id': 0, 'product_name': 1, 'preco_medio': 2})\n",
      "Row((45, 'Rogede sild', 20.682499999999997), {'product_id': 0, 'product_name': 1, 'preco_medio': 2})\n",
      "Row((46, 'Spegesild', 20.682499999999997), {'product_id': 0, 'product_name': 1, 'preco_medio': 2})\n",
      "Row((10, 'Ikura', 20.682499999999997), {'product_id': 0, 'product_name': 1, 'preco_medio': 2})\n",
      "Row((13, 'Konbu', 20.682499999999997), {'product_id': 0, 'product_name': 1, 'preco_medio': 2})\n",
      "Row((18, 'Carnarvon Tigers', 20.682499999999997), {'product_id': 0, 'product_name': 1, 'preco_medio': 2})\n",
      "Row((77, 'Original Frankfurter grne Soe', 23.0625), {'product_id': 0, 'product_name': 1, 'preco_medio': 2})\n",
      "Row((65, 'Louisiana Fiery Hot Pepper Sauce', 23.0625), {'product_id': 0, 'product_name': 1, 'preco_medio': 2})\n",
      "Row((66, 'Louisiana Hot Spiced Okra', 23.0625), {'product_id': 0, 'product_name': 1, 'preco_medio': 2})\n",
      "Row((61, 'Sirop drable', 23.0625), {'product_id': 0, 'product_name': 1, 'preco_medio': 2})\n",
      "Row((63, 'Vegie-spread', 23.0625), {'product_id': 0, 'product_name': 1, 'preco_medio': 2})\n",
      "Row((44, 'Gula Malacca', 23.0625), {'product_id': 0, 'product_name': 1, 'preco_medio': 2})\n",
      "Row((3, 'Aniseed Syrup', 23.0625), {'product_id': 0, 'product_name': 1, 'preco_medio': 2})\n",
      "Row((5, 'Chef Antons Gumbo Mix', 23.0625), {'product_id': 0, 'product_name': 1, 'preco_medio': 2})\n",
      "Row((4, 'Chef Antons Cajun Seasoning', 23.0625), {'product_id': 0, 'product_name': 1, 'preco_medio': 2})\n",
      "Row((8, 'Northwoods Cranberry Sauce', 23.0625), {'product_id': 0, 'product_name': 1, 'preco_medio': 2})\n",
      "Row((6, 'Grandmas Boysenberry Spread', 23.0625), {'product_id': 0, 'product_name': 1, 'preco_medio': 2})\n",
      "Row((15, 'Genen Shouyu', 23.0625), {'product_id': 0, 'product_name': 1, 'preco_medio': 2})\n",
      "Row((62, 'Tarte au sucre', 25.159999999999997), {'product_id': 0, 'product_name': 1, 'preco_medio': 2})\n",
      "Row((68, 'Scottish Longbreads', 25.159999999999997), {'product_id': 0, 'product_name': 1, 'preco_medio': 2})\n",
      "Row((26, 'Gumbr Gummibrchen', 25.159999999999997), {'product_id': 0, 'product_name': 1, 'preco_medio': 2})\n",
      "Row((27, 'Schoggi Schokolade', 25.159999999999997), {'product_id': 0, 'product_name': 1, 'preco_medio': 2})\n",
      "Row((25, 'NuNuCa Nu-Nougat-Creme', 25.159999999999997), {'product_id': 0, 'product_name': 1, 'preco_medio': 2})\n",
      "Row((21, 'Sir Rodneys Scones', 25.159999999999997), {'product_id': 0, 'product_name': 1, 'preco_medio': 2})\n",
      "Row((47, 'Zaanse koeken', 25.159999999999997), {'product_id': 0, 'product_name': 1, 'preco_medio': 2})\n",
      "Row((48, 'Chocolade', 25.159999999999997), {'product_id': 0, 'product_name': 1, 'preco_medio': 2})\n",
      "Row((50, 'Valkoinen suklaa', 25.159999999999997), {'product_id': 0, 'product_name': 1, 'preco_medio': 2})\n",
      "Row((49, 'Maxilaku', 25.159999999999997), {'product_id': 0, 'product_name': 1, 'preco_medio': 2})\n",
      "Row((16, 'Pavlova', 25.159999999999997), {'product_id': 0, 'product_name': 1, 'preco_medio': 2})\n",
      "Row((19, 'Teatime Chocolate Biscuits', 25.159999999999997), {'product_id': 0, 'product_name': 1, 'preco_medio': 2})\n",
      "Row((20, 'Sir Rodneys Marmalade', 25.159999999999997), {'product_id': 0, 'product_name': 1, 'preco_medio': 2})\n",
      "Row((60, 'Camembert Pierrot', 28.73), {'product_id': 0, 'product_name': 1, 'preco_medio': 2})\n",
      "Row((59, 'Raclette Courdavault', 28.73), {'product_id': 0, 'product_name': 1, 'preco_medio': 2})\n",
      "Row((72, 'Mozzarella di Giovanni', 28.73), {'product_id': 0, 'product_name': 1, 'preco_medio': 2})\n",
      "Row((71, 'Flotemysost', 28.73), {'product_id': 0, 'product_name': 1, 'preco_medio': 2})\n",
      "Row((69, 'Gudbrandsdalsost', 28.73), {'product_id': 0, 'product_name': 1, 'preco_medio': 2})\n",
      "Row((32, 'Mascarpone Fabioli', 28.73), {'product_id': 0, 'product_name': 1, 'preco_medio': 2})\n",
      "Row((31, 'Gorgonzola Telino', 28.73), {'product_id': 0, 'product_name': 1, 'preco_medio': 2})\n",
      "Row((33, 'Geitost', 28.73), {'product_id': 0, 'product_name': 1, 'preco_medio': 2})\n",
      "Row((11, 'Queso Cabrales', 28.73), {'product_id': 0, 'product_name': 1, 'preco_medio': 2})\n",
      "Row((12, 'Queso Manchego La Pastora', 28.73), {'product_id': 0, 'product_name': 1, 'preco_medio': 2})\n",
      "Row((51, 'Manjimup Dried Apples', 32.370000000000005), {'product_id': 0, 'product_name': 1, 'preco_medio': 2})\n",
      "Row((74, 'Longlife Tofu', 32.370000000000005), {'product_id': 0, 'product_name': 1, 'preco_medio': 2})\n",
      "Row((28, 'Rssle Sauerkraut', 32.370000000000005), {'product_id': 0, 'product_name': 1, 'preco_medio': 2})\n",
      "Row((7, 'Uncle Bobs Organic Dried Pears', 32.370000000000005), {'product_id': 0, 'product_name': 1, 'preco_medio': 2})\n",
      "Row((14, 'Tofu', 32.370000000000005), {'product_id': 0, 'product_name': 1, 'preco_medio': 2})\n",
      "Row((76, 'Lakkalikri', 37.979166666666664), {'product_id': 0, 'product_name': 1, 'preco_medio': 2})\n",
      "Row((75, 'Rhnbru Klosterbier', 37.979166666666664), {'product_id': 0, 'product_name': 1, 'preco_medio': 2})\n",
      "Row((70, 'Outback Lager', 37.979166666666664), {'product_id': 0, 'product_name': 1, 'preco_medio': 2})\n",
      "Row((67, 'Laughing Lumberjack Lager', 37.979166666666664), {'product_id': 0, 'product_name': 1, 'preco_medio': 2})\n",
      "Row((24, 'Guaran Fantstica', 37.979166666666664), {'product_id': 0, 'product_name': 1, 'preco_medio': 2})\n",
      "Row((35, 'Steeleye Stout', 37.979166666666664), {'product_id': 0, 'product_name': 1, 'preco_medio': 2})\n",
      "Row((34, 'Sasquatch Ale', 37.979166666666664), {'product_id': 0, 'product_name': 1, 'preco_medio': 2})\n",
      "Row((38, 'Cte de Blaye', 37.979166666666664), {'product_id': 0, 'product_name': 1, 'preco_medio': 2})\n",
      "Row((39, 'Chartreuse verte', 37.979166666666664), {'product_id': 0, 'product_name': 1, 'preco_medio': 2})\n",
      "Row((43, 'Ipoh Coffee', 37.979166666666664), {'product_id': 0, 'product_name': 1, 'preco_medio': 2})\n",
      "Row((1, 'Chai', 37.979166666666664), {'product_id': 0, 'product_name': 1, 'preco_medio': 2})\n",
      "Row((2, 'Chang', 37.979166666666664), {'product_id': 0, 'product_name': 1, 'preco_medio': 2})\n",
      "Row((53, 'Perth Pasties', 54.00666666666667), {'product_id': 0, 'product_name': 1, 'preco_medio': 2})\n",
      "Row((54, 'Tourtire', 54.00666666666667), {'product_id': 0, 'product_name': 1, 'preco_medio': 2})\n",
      "Row((55, 'Pt chinois', 54.00666666666667), {'product_id': 0, 'product_name': 1, 'preco_medio': 2})\n",
      "Row((29, 'Thringer Rostbratwurst', 54.00666666666667), {'product_id': 0, 'product_name': 1, 'preco_medio': 2})\n",
      "Row((9, 'Mishi Kobe Niku', 54.00666666666667), {'product_id': 0, 'product_name': 1, 'preco_medio': 2})\n",
      "Row((17, 'Alice Mutton', 54.00666666666667), {'product_id': 0, 'product_name': 1, 'preco_medio': 2})\n"
     ]
    }
   ],
   "source": [
    "query = f\"\"\"\n",
    "    select \n",
    "    product_id,\n",
    "    product_name,\n",
    "    (select avg(unit_price) from `northwind.products` as products2 where products2.category_id = products.category_id) as preco_medio\n",
    "    from `northwind.products` products\n",
    "    order by preco_medio asc\n",
    "\"\"\"\n",
    "query_job = client.query(query)\n",
    "\n",
    "for row in query_job:\n",
    "    print(row)"
   ]
  },
  {
   "cell_type": "markdown",
   "id": "4afcf2cd",
   "metadata": {},
   "source": [
    "### Criação de tabela apartir de um arquivo CSV\n"
   ]
  },
  {
   "cell_type": "code",
   "execution_count": 10,
   "id": "c7a6eda0",
   "metadata": {},
   "outputs": [
    {
     "data": {
      "text/plain": [
       "LoadJob<project=vendas-401823, location=us-central1, id=182f0bb4-e882-4282-9f62-6e2f2a5528a5>"
      ]
     },
     "execution_count": 10,
     "metadata": {},
     "output_type": "execute_result"
    }
   ],
   "source": [
    "table_id = 'shippers2'\n",
    "csv_file_path = 'manualtable.csv'\n",
    "table_ref = client.dataset(dataset_id).table(table_id)\n",
    "\n",
    "schema = [\n",
    "    bigquery.SchemaField('shipper_id', 'INTEGER', mode='required'),\n",
    "    bigquery.SchemaField('company_name', 'STRING', mode='required'),\n",
    "    bigquery.SchemaField('phone', 'STRING')\n",
    "]\n",
    "\n",
    "job_config = bigquery.LoadJobConfig(\n",
    "    source_format=bigquery.SourceFormat.CSV,\n",
    "    schema=schema,\n",
    ")\n",
    "\n",
    "with open(csv_file_path, 'rb') as source_file:\n",
    "    job = client.load_table_from_file(\n",
    "        source_file, table_ref, job_config=job_config)\n",
    "\n",
    "job.result()"
   ]
  },
  {
   "cell_type": "code",
   "execution_count": 13,
   "id": "3c85593d",
   "metadata": {},
   "outputs": [
    {
     "name": "stdout",
     "output_type": "stream",
     "text": [
      "Row((1, 'Speedy Express', '(503) 555-9831'), {'shipper_id': 0, 'company_name': 1, 'phone': 2})\n",
      "Row((2, 'United Package', '(503) 555-3199'), {'shipper_id': 0, 'company_name': 1, 'phone': 2})\n",
      "Row((3, 'Federal Shipping', '(503) 555-9931'), {'shipper_id': 0, 'company_name': 1, 'phone': 2})\n"
     ]
    }
   ],
   "source": [
    "query = f\"\"\"\n",
    "    SELECT * FROM `{dataset_id}.shippers2`\n",
    "\"\"\"\n",
    "query_job = client.query(query)\n",
    "\n",
    "for row in query_job:\n",
    "    print(row)"
   ]
  },
  {
   "cell_type": "markdown",
   "id": "663e2434",
   "metadata": {},
   "source": [
    "### Importação de tabela apartir de arquivo parquet do Cloud Storage\n"
   ]
  },
  {
   "cell_type": "code",
   "execution_count": 29,
   "id": "399154b6",
   "metadata": {},
   "outputs": [],
   "source": [
    "table_id = f'{project_id}.{dataset_id}.employees2'\n",
    "external_source_format = \"PARQUET\"\n",
    "source_uri = f'{cloud_storage_path}employees.parquet'\n",
    "external_config = bigquery.ExternalConfig(external_source_format)\n",
    "external_config.source_uris = source_uri\n",
    "external_config.autodetect = True\n",
    "\n",
    "table = bigquery.Table(table_id)\n",
    "table.external_data_configuration = external_config\n",
    "table = client.create_table(table)"
   ]
  },
  {
   "cell_type": "code",
   "execution_count": 31,
   "id": "b31b9bc9",
   "metadata": {},
   "outputs": [
    {
     "name": "stdout",
     "output_type": "stream",
     "text": [
      "Row((1, 'Davolio', 'Nancy', 'Sales Representative', 'Ms.', datetime.datetime(1948, 12, 8, 0, 0, tzinfo=datetime.timezone.utc), datetime.datetime(1992, 5, 1, 0, 0, tzinfo=datetime.timezone.utc), '507 - 20th Ave. E.Apt. 2A', 'Seattle', 'WA', '98122', 'USA', '(206) 555-9857', 5467, 'Education includes a BA in psychology from Colorado State University in 1970.  She also completed \"The Art of the Cold Call.\"  Nancy is a member of Toastmasters International.', 2, 'http://accweb/emmployees/davolio.bmp', 2954.55, 'gs://dados-curso/employees.parquet'), {'EmployeeID': 0, 'LastName': 1, 'FirstName': 2, 'Title': 3, 'TitleOfCourtesy': 4, 'BirthDate': 5, 'HireDate': 6, 'Address': 7, 'City': 8, 'Region': 9, 'PostalCode': 10, 'Country': 11, 'HomePhone': 12, 'Extension': 13, 'Notes': 14, 'ReportsTo': 15, 'PhotoPath': 16, 'Salary': 17, 'fn': 18})\n",
      "Row((2, 'Fuller', 'Andrew', 'Vice President, Sales', 'Dr.', datetime.datetime(1952, 2, 19, 0, 0, tzinfo=datetime.timezone.utc), datetime.datetime(1992, 8, 14, 0, 0, tzinfo=datetime.timezone.utc), '908 W. Capital Way', 'Tacoma', 'WA', '98401', 'USA', '(206) 555-9482', 3457, 'Andrew received his BTS commercial in 1974 and a Ph.D. in international marketing from the University of Dallas in 1981.  He is fluent in French and Italian and reads German.  He joined the company as a sales representative, was promoted to sales manager in January 1992 and to vice president of sales in March 1993.  Andrew is a member of the Sales Management Roundtable, the Seattle Chamber of Commerce, and the Pacific Rim Importers Association.', 0, 'http://accweb/emmployees/fuller.bmp', 2254.49, 'gs://dados-curso/employees.parquet'), {'EmployeeID': 0, 'LastName': 1, 'FirstName': 2, 'Title': 3, 'TitleOfCourtesy': 4, 'BirthDate': 5, 'HireDate': 6, 'Address': 7, 'City': 8, 'Region': 9, 'PostalCode': 10, 'Country': 11, 'HomePhone': 12, 'Extension': 13, 'Notes': 14, 'ReportsTo': 15, 'PhotoPath': 16, 'Salary': 17, 'fn': 18})\n",
      "Row((3, 'Leverling', 'Janet', 'Sales Representative', 'Ms.', datetime.datetime(1963, 8, 30, 0, 0, tzinfo=datetime.timezone.utc), datetime.datetime(1992, 4, 1, 0, 0, tzinfo=datetime.timezone.utc), '722 Moss Bay Blvd.', 'Kirkland', 'WA', '98033', 'USA', '(206) 555-3412', 3355, 'Janet has a BS degree in chemistry from Boston College (1984).  She has also completed a certificate program in food retailing management.  Janet was hired as a sales associate in 1991 and promoted to sales representative in February 1992.', 2, 'http://accweb/emmployees/leverling.bmp', 3119.15, 'gs://dados-curso/employees.parquet'), {'EmployeeID': 0, 'LastName': 1, 'FirstName': 2, 'Title': 3, 'TitleOfCourtesy': 4, 'BirthDate': 5, 'HireDate': 6, 'Address': 7, 'City': 8, 'Region': 9, 'PostalCode': 10, 'Country': 11, 'HomePhone': 12, 'Extension': 13, 'Notes': 14, 'ReportsTo': 15, 'PhotoPath': 16, 'Salary': 17, 'fn': 18})\n",
      "Row((4, 'Peacock', 'Margaret', 'Sales Representative', 'Mrs.', datetime.datetime(1937, 9, 19, 0, 0, tzinfo=datetime.timezone.utc), datetime.datetime(1993, 5, 3, 0, 0, tzinfo=datetime.timezone.utc), '4110 Old Redmond Rd.', 'Redmond', 'WA', '98052', 'USA', '(206) 555-8122', 5176, 'Margaret holds a BA in English literature from Concordia College (1958) and an MA from the American Institute of Culinary Arts (1966).  She was assigned to the London office temporarily from July through November 1992.', 2, 'http://accweb/emmployees/peacock.bmp', 1861.08, 'gs://dados-curso/employees.parquet'), {'EmployeeID': 0, 'LastName': 1, 'FirstName': 2, 'Title': 3, 'TitleOfCourtesy': 4, 'BirthDate': 5, 'HireDate': 6, 'Address': 7, 'City': 8, 'Region': 9, 'PostalCode': 10, 'Country': 11, 'HomePhone': 12, 'Extension': 13, 'Notes': 14, 'ReportsTo': 15, 'PhotoPath': 16, 'Salary': 17, 'fn': 18})\n",
      "Row((5, 'Buchanan', 'Steven', 'Sales Manager', 'Mr.', datetime.datetime(1955, 3, 4, 0, 0, tzinfo=datetime.timezone.utc), datetime.datetime(1993, 10, 17, 0, 0, tzinfo=datetime.timezone.utc), '14 Garrett Hill', 'London', None, 'SW1 8JR', 'UK', '(71) 555-4848', 3453, 'Steven Buchanan graduated from St. Andrews University, Scotland, with a BSC degree in 1976.  Upon joining the company as a sales representative in 1992, he spent 6 months in an orientation program at the Seattle office and then returned to his permanent post in London.  He was promoted to sales manager in March 1993.  Mr. Buchanan has completed the courses \"Successful Telemarketing\" and \"International Sales Management.\"  He is fluent in French.', 2, 'http://accweb/emmployees/buchanan.bmp', 1744.21, 'gs://dados-curso/employees.parquet'), {'EmployeeID': 0, 'LastName': 1, 'FirstName': 2, 'Title': 3, 'TitleOfCourtesy': 4, 'BirthDate': 5, 'HireDate': 6, 'Address': 7, 'City': 8, 'Region': 9, 'PostalCode': 10, 'Country': 11, 'HomePhone': 12, 'Extension': 13, 'Notes': 14, 'ReportsTo': 15, 'PhotoPath': 16, 'Salary': 17, 'fn': 18})\n",
      "Row((6, 'Suyama', 'Michael', 'Sales Representative', 'Mr.', datetime.datetime(1963, 7, 2, 0, 0, tzinfo=datetime.timezone.utc), datetime.datetime(1993, 10, 17, 0, 0, tzinfo=datetime.timezone.utc), 'Coventry House Miner Rd.', 'London', None, 'EC2 7JR', 'UK', '(71) 555-7773', 428, 'Michael is a graduate of Sussex University (MA, economics, 1983) and the University of California at Los Angeles (MBA, marketing, 1986).  He has also taken the courses \"Multi-Cultural Selling\" and \"Time Management for the Sales Professional.\"  He is fluent in Japanese and can read and write French, Portuguese, and Spanish.', 5, 'http://accweb/emmployees/davolio.bmp', 2004.07, 'gs://dados-curso/employees.parquet'), {'EmployeeID': 0, 'LastName': 1, 'FirstName': 2, 'Title': 3, 'TitleOfCourtesy': 4, 'BirthDate': 5, 'HireDate': 6, 'Address': 7, 'City': 8, 'Region': 9, 'PostalCode': 10, 'Country': 11, 'HomePhone': 12, 'Extension': 13, 'Notes': 14, 'ReportsTo': 15, 'PhotoPath': 16, 'Salary': 17, 'fn': 18})\n",
      "Row((7, 'King', 'Robert', 'Sales Representative', 'Mr.', datetime.datetime(1960, 5, 29, 0, 0, tzinfo=datetime.timezone.utc), datetime.datetime(1994, 1, 2, 0, 0, tzinfo=datetime.timezone.utc), 'Edgeham Hollow Winchester Way', 'London', None, 'RG1 9SP', 'UK', '(71) 555-5598', 465, 'Robert King served in the Peace Corps and traveled extensively before completing his degree in English at the University of Michigan in 1992, the year he joined the company.  After completing a course entitled \"Selling in Europe,\" he was transferred to the London office in March 1993.', 5, 'http://accweb/emmployees/davolio.bmp', 1991.55, 'gs://dados-curso/employees.parquet'), {'EmployeeID': 0, 'LastName': 1, 'FirstName': 2, 'Title': 3, 'TitleOfCourtesy': 4, 'BirthDate': 5, 'HireDate': 6, 'Address': 7, 'City': 8, 'Region': 9, 'PostalCode': 10, 'Country': 11, 'HomePhone': 12, 'Extension': 13, 'Notes': 14, 'ReportsTo': 15, 'PhotoPath': 16, 'Salary': 17, 'fn': 18})\n",
      "Row((8, 'Callahan', 'Laura', 'Inside Sales Coordinator', 'Ms.', datetime.datetime(1958, 1, 9, 0, 0, tzinfo=datetime.timezone.utc), datetime.datetime(1994, 3, 5, 0, 0, tzinfo=datetime.timezone.utc), '4726 - 11th Ave. N.E.', 'Seattle', 'WA', '98105', 'USA', '(206) 555-1189', 2344, 'Laura received a BA in psychology from the University of Washington.  She has also completed a course in business French.  She reads and writes French.', 2, 'http://accweb/emmployees/davolio.bmp', 2100.5, 'gs://dados-curso/employees.parquet'), {'EmployeeID': 0, 'LastName': 1, 'FirstName': 2, 'Title': 3, 'TitleOfCourtesy': 4, 'BirthDate': 5, 'HireDate': 6, 'Address': 7, 'City': 8, 'Region': 9, 'PostalCode': 10, 'Country': 11, 'HomePhone': 12, 'Extension': 13, 'Notes': 14, 'ReportsTo': 15, 'PhotoPath': 16, 'Salary': 17, 'fn': 18})\n",
      "Row((9, 'Dodsworth', 'Anne', 'Sales Representative', 'Ms.', datetime.datetime(1966, 1, 27, 0, 0, tzinfo=datetime.timezone.utc), datetime.datetime(1994, 11, 15, 0, 0, tzinfo=datetime.timezone.utc), '7 Houndstooth Rd.', 'London', None, 'WG2 7LT', 'UK', '(71) 555-4444', 452, 'Anne has a BA degree in English from St. Lawrence College.  She is fluent in French and German.', 5, 'http://accweb/emmployees/davolio.bmp', 2333.33, 'gs://dados-curso/employees.parquet'), {'EmployeeID': 0, 'LastName': 1, 'FirstName': 2, 'Title': 3, 'TitleOfCourtesy': 4, 'BirthDate': 5, 'HireDate': 6, 'Address': 7, 'City': 8, 'Region': 9, 'PostalCode': 10, 'Country': 11, 'HomePhone': 12, 'Extension': 13, 'Notes': 14, 'ReportsTo': 15, 'PhotoPath': 16, 'Salary': 17, 'fn': 18})\n"
     ]
    }
   ],
   "source": [
    "query = f\"\"\"\n",
    "    SELECT *, _FILE_NAME as fn FROM `{dataset_id}.employees2`\n",
    "\"\"\"\n",
    "query_job = client.query(query)\n",
    "\n",
    "for row in query_job:\n",
    "    print(row)"
   ]
  },
  {
   "cell_type": "markdown",
   "id": "4d976fd5",
   "metadata": {},
   "source": [
    "## Views e Views Materializadas no BigQuery\n",
    "\n",
    "### Criando a view e view materializada\n"
   ]
  },
  {
   "cell_type": "code",
   "execution_count": 32,
   "id": "64a7ad8a",
   "metadata": {},
   "outputs": [
    {
     "data": {
      "text/plain": [
       "<google.cloud.bigquery.table._EmptyRowIterator at 0x7f495f970a10>"
      ]
     },
     "execution_count": 32,
     "metadata": {},
     "output_type": "execute_result"
    }
   ],
   "source": [
    "sql = f\"\"\"\n",
    "create view `{dataset_id}.sales_by_year` as\n",
    "select\n",
    "  employee_id, \n",
    "  extract(year from order_date) as order_year,\n",
    "  sum(unit_price * quantity) as total_sales\n",
    "from northwind.orders\n",
    "join northwind.order_details on orders.order_id = order_details.order_id\n",
    "group by employee_id, order_year\n",
    "\"\"\"\n",
    "\n",
    "job = client.query(sql)\n",
    "job.result()\n",
    "\n",
    "sql = f\"\"\"\n",
    "create materialized view `{dataset_id}.sales_by_year_mat` cluster by employee_id as\n",
    "select\n",
    "  employee_id, \n",
    "  extract(year from order_date) as order_year,\n",
    "  sum(unit_price * quantity) as total_sales\n",
    "from northwind.orders\n",
    "join northwind.order_details on orders.order_id = order_details.order_id\n",
    "group by employee_id, order_year\n",
    "\"\"\"\n",
    "\n",
    "job = client.query(sql)\n",
    "job.result()"
   ]
  },
  {
   "cell_type": "markdown",
   "id": "25dc52de",
   "metadata": {},
   "source": [
    "### Executando consultas utilizando a view e a view materializada criada\n"
   ]
  },
  {
   "cell_type": "code",
   "execution_count": 33,
   "id": "ed9d38bf",
   "metadata": {},
   "outputs": [
    {
     "name": "stdout",
     "output_type": "stream",
     "text": [
      "Row((1, 2021, 53546.38), {'employee_id': 0, 'order_year': 1, 'total_sales': 2})\n",
      "Row((1, 2020, 38789.0), {'employee_id': 0, 'order_year': 1, 'total_sales': 2})\n",
      "Row((2, 2020, 22834.699999999997), {'employee_id': 0, 'order_year': 1, 'total_sales': 2})\n",
      "Row((2, 2021, 43684.3), {'employee_id': 0, 'order_year': 1, 'total_sales': 2})\n",
      "Row((3, 2021, 66836.5), {'employee_id': 0, 'order_year': 1, 'total_sales': 2})\n",
      "Row((3, 2020, 19231.8), {'employee_id': 0, 'order_year': 1, 'total_sales': 2})\n",
      "Row((4, 2020, 53114.799999999996), {'employee_id': 0, 'order_year': 1, 'total_sales': 2})\n",
      "Row((4, 2021, 79795.49), {'employee_id': 0, 'order_year': 1, 'total_sales': 2})\n",
      "Row((5, 2021, 17362.199999999997), {'employee_id': 0, 'order_year': 1, 'total_sales': 2})\n",
      "Row((5, 2020, 21965.2), {'employee_id': 0, 'order_year': 1, 'total_sales': 2})\n",
      "Row((6, 2020, 17731.1), {'employee_id': 0, 'order_year': 1, 'total_sales': 2})\n",
      "Row((6, 2021, 20081.54), {'employee_id': 0, 'order_year': 1, 'total_sales': 2})\n",
      "Row((7, 2020, 18104.800000000003), {'employee_id': 0, 'order_year': 1, 'total_sales': 2})\n",
      "Row((7, 2021, 41436.8), {'employee_id': 0, 'order_year': 1, 'total_sales': 2})\n",
      "Row((8, 2021, 32894.600000000006), {'employee_id': 0, 'order_year': 1, 'total_sales': 2})\n",
      "Row((8, 2020, 23161.4), {'employee_id': 0, 'order_year': 1, 'total_sales': 2})\n",
      "Row((9, 2020, 11365.7), {'employee_id': 0, 'order_year': 1, 'total_sales': 2})\n",
      "Row((9, 2021, 7519.6), {'employee_id': 0, 'order_year': 1, 'total_sales': 2})\n"
     ]
    }
   ],
   "source": [
    "query = f\"\"\"\n",
    "    select * from `{dataset_id}.sales_by_year`;\n",
    "\"\"\"\n",
    "query_job = client.query(query)\n",
    "\n",
    "for row in query_job:\n",
    "    print(row)"
   ]
  },
  {
   "cell_type": "code",
   "execution_count": 34,
   "id": "24b0a984",
   "metadata": {},
   "outputs": [
    {
     "name": "stdout",
     "output_type": "stream",
     "text": [
      "Row((9, 2020, 11365.7), {'employee_id': 0, 'order_year': 1, 'total_sales': 2})\n",
      "Row((6, 2020, 17731.1), {'employee_id': 0, 'order_year': 1, 'total_sales': 2})\n",
      "Row((5, 2020, 21965.2), {'employee_id': 0, 'order_year': 1, 'total_sales': 2})\n",
      "Row((4, 2020, 53114.799999999996), {'employee_id': 0, 'order_year': 1, 'total_sales': 2})\n",
      "Row((7, 2020, 18104.800000000003), {'employee_id': 0, 'order_year': 1, 'total_sales': 2})\n",
      "Row((2, 2020, 22834.699999999997), {'employee_id': 0, 'order_year': 1, 'total_sales': 2})\n",
      "Row((3, 2020, 19231.8), {'employee_id': 0, 'order_year': 1, 'total_sales': 2})\n",
      "Row((1, 2020, 38789.0), {'employee_id': 0, 'order_year': 1, 'total_sales': 2})\n",
      "Row((8, 2020, 23161.4), {'employee_id': 0, 'order_year': 1, 'total_sales': 2})\n",
      "Row((9, 2021, 7519.6), {'employee_id': 0, 'order_year': 1, 'total_sales': 2})\n",
      "Row((4, 2021, 79795.48999999999), {'employee_id': 0, 'order_year': 1, 'total_sales': 2})\n",
      "Row((1, 2021, 53546.38), {'employee_id': 0, 'order_year': 1, 'total_sales': 2})\n",
      "Row((6, 2021, 20081.54), {'employee_id': 0, 'order_year': 1, 'total_sales': 2})\n",
      "Row((2, 2021, 43684.3), {'employee_id': 0, 'order_year': 1, 'total_sales': 2})\n",
      "Row((8, 2021, 32894.600000000006), {'employee_id': 0, 'order_year': 1, 'total_sales': 2})\n",
      "Row((5, 2021, 17362.2), {'employee_id': 0, 'order_year': 1, 'total_sales': 2})\n",
      "Row((3, 2021, 66836.5), {'employee_id': 0, 'order_year': 1, 'total_sales': 2})\n",
      "Row((7, 2021, 41436.8), {'employee_id': 0, 'order_year': 1, 'total_sales': 2})\n"
     ]
    }
   ],
   "source": [
    "query = f\"\"\"\n",
    "    select * from `{dataset_id}.sales_by_year_mat`;\n",
    "\"\"\"\n",
    "query_job = client.query(query)\n",
    "\n",
    "for row in query_job:\n",
    "    print(row)"
   ]
  }
 ],
 "metadata": {
  "kernelspec": {
   "display_name": "Python 3 (ipykernel)",
   "language": "python",
   "name": "python3"
  },
  "language_info": {
   "codemirror_mode": {
    "name": "ipython",
    "version": 3
   },
   "file_extension": ".py",
   "mimetype": "text/x-python",
   "name": "python",
   "nbconvert_exporter": "python",
   "pygments_lexer": "ipython3",
   "version": "3.11.5"
  }
 },
 "nbformat": 4,
 "nbformat_minor": 5
}

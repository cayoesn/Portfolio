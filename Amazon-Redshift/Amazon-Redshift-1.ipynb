{
 "cells": [
  {
   "cell_type": "markdown",
   "id": "0b4d35d2",
   "metadata": {},
   "source": [
    "<h1><b>Amazon Redshift</b></h1>\n",
    "\n",
    "- Importando bibliotecas e inicializando variáveis do envs\n",
    "- Conectando ao Data Warehouse Redshift\n",
    "- Criando tabelas e populando com dados dos scripts SQL (1 a 4)\n",
    "- Carregando dados externos para o Redshift Spectrum do Bucket S3\n",
    "- Importando dados do Bucket S3 para o Redshift\n",
    "- Criando views e views materializadas e testando a diferença de desempelho entre elas\n",
    "\n",
    "Obs.:\n",
    "\n",
    "- Para executar o notebook, é necessário ter o Redshift configurado e rodando na AWS, além de ter criado um Bucket S3 para armazenar os dados. Os dois devem estar na mesma região da AWS.\n",
    "\n",
    "- Os arquivos de exemplos estarão na pasta dados. Os dois scripts que serão utilizados para o Redshift Spectrum e a carga de dados devem estar em pastas separadas para evitar possíveis erros.\n",
    "\n",
    "- O Cluster Redshift e o Bucket S3 devem estar configurados com as rules corretas e permissões para ser acessados publicamente."
   ]
  },
  {
   "cell_type": "markdown",
   "id": "cb4d8e5b",
   "metadata": {},
   "source": [
    "Instalando bibliotecas utilizadas no notebook\n"
   ]
  },
  {
   "cell_type": "code",
   "execution_count": 5,
   "id": "15e9270a",
   "metadata": {},
   "outputs": [
    {
     "name": "stdout",
     "output_type": "stream",
     "text": [
      "Requirement already satisfied: psycopg2 in /home/cayoesn/anaconda3/lib/python3.11/site-packages (2.9.9)\n",
      "Note: you may need to restart the kernel to use updated packages.\n",
      "Requirement already satisfied: python-dotenv in /home/cayoesn/anaconda3/lib/python3.11/site-packages (0.21.0)\n",
      "Note: you may need to restart the kernel to use updated packages.\n"
     ]
    }
   ],
   "source": [
    "%pip install psycopg2\n",
    "%pip install python-dotenv"
   ]
  },
  {
   "cell_type": "markdown",
   "id": "f8e6221b",
   "metadata": {},
   "source": [
    "Importando bibliotecas utilizadas no notebook e iniciando environment\n"
   ]
  },
  {
   "cell_type": "code",
   "execution_count": 11,
   "id": "332a25cb",
   "metadata": {},
   "outputs": [
    {
     "name": "stdout",
     "output_type": "stream",
     "text": [
      "redshift-cluster.chflctapid3q.us-east-1.redshift.amazonaws.com\n"
     ]
    }
   ],
   "source": [
    "from dotenv import load_dotenv\n",
    "import os\n",
    "import psycopg2\n",
    "\n",
    "load_dotenv()\n",
    "\n",
    "print(os.getenv('REDSHIFT_HOST'))"
   ]
  },
  {
   "cell_type": "markdown",
   "id": "fd6ba500",
   "metadata": {},
   "source": [
    "Inicializando variáveis utiilizandas no código com os valores do arquivo env\n"
   ]
  },
  {
   "cell_type": "code",
   "execution_count": 12,
   "id": "bba566d2",
   "metadata": {},
   "outputs": [],
   "source": [
    "host = os.getenv('REDSHIFT_HOST')\n",
    "database = os.getenv('REDSHIFT_DATABASE')\n",
    "user = os.getenv('REDSHIFT_USER')\n",
    "password = os.getenv('REDSHIFT_PASSWORD')\n",
    "port = os.getenv('REDSHIFT_PORT')\n",
    "\n",
    "role_iam = os.getenv('REDSHIFT_ROLE_IAM')\n",
    "s3_bucket = os.getenv('REDSHIFT_S3_BUCKET')\n",
    "\n",
    "aws_access_key_id = os.getenv('AWS_ACCESS_KEY_ID')\n",
    "aws_secret_access_key = os.getenv('AWS_SECRET_ACCESS_KEY')\n",
    "aws_region = os.getenv('AWS_REGION')"
   ]
  },
  {
   "cell_type": "markdown",
   "id": "ea2e764b",
   "metadata": {},
   "source": [
    "Conectando no Redshift\n"
   ]
  },
  {
   "cell_type": "code",
   "execution_count": 13,
   "id": "7068d6d5",
   "metadata": {},
   "outputs": [],
   "source": [
    "conn = psycopg2.connect(\n",
    "    host=host,\n",
    "    database=database,\n",
    "    user=user,\n",
    "    password=password,\n",
    "    port=port\n",
    ")\n",
    "\n",
    "conn.autocommit = True\n",
    "cur = conn.cursor()"
   ]
  },
  {
   "cell_type": "markdown",
   "id": "6d3456ae",
   "metadata": {},
   "source": [
    "<h2>Criação e Inserção dos dados no Data Warehouse Redshift</h2"
   ]
  },
  {
   "cell_type": "markdown",
   "id": "367fce57",
   "metadata": {},
   "source": [
    "Criação das tabelas no Redshift"
   ]
  },
  {
   "cell_type": "code",
   "execution_count": 14,
   "id": "1d213c2c",
   "metadata": {},
   "outputs": [],
   "source": [
    "cur.execute(\"CREATE TABLE categories (\\\n",
    "    category_id smallint NOT NULL,\\\n",
    "    category_name varchar(15) NOT NULL,\\\n",
    "    description VARCHAR(max)\\\n",
    ");\")\n",
    "\n",
    "cur.execute(\"CREATE TABLE customers (\\\n",
    "    customer_id varchar(40) NOT NULL,\\\n",
    "    company_name varchar(40) NOT NULL,\\\n",
    "    contact_name varchar(30),\\\n",
    "    contact_title varchar(30),\\\n",
    "    address varchar(60),\\\n",
    "    city varchar(15),\\\n",
    "    region varchar(15),\\\n",
    "    postal_code varchar(10),\\\n",
    "    country varchar(15),\\\n",
    "    phone varchar(24)\\\n",
    ");\")\n",
    "\n",
    "cur.execute(\"CREATE TABLE employees (\\\n",
    "    employee_id smallint NOT NULL,\\\n",
    "    last_name varchar(20) NOT NULL,\\\n",
    "    first_name varchar(10) NOT NULL,\\\n",
    "    title varchar(30),\\\n",
    "    title_of_courtesy varchar(25),\\\n",
    "    birth_date date,\\\n",
    "    hire_date date,\\\n",
    "    address varchar(60),\\\n",
    "    city varchar(15),\\\n",
    "    region varchar(15),\\\n",
    "    postal_code varchar(10),\\\n",
    "    country varchar(15),\\\n",
    "    home_phone varchar(24),\\\n",
    "    extension varchar(4),\\\n",
    "    notes varchar(max),\\\n",
    "    reports_to smallint,\\\n",
    "    photo_path varchar(255),\\\n",
    "\tsalary real\\\n",
    ");\")\n",
    "\n",
    "cur.execute(\"CREATE TABLE order_details (\\\n",
    "    order_id smallint NOT NULL,\\\n",
    "    product_id smallint NOT NULL,\\\n",
    "    unit_price real NOT NULL,\\\n",
    "    quantity smallint NOT NULL,\\\n",
    "    discount real NOT NULL\\\n",
    ");\")\n",
    "\n",
    "cur.execute(\"CREATE TABLE orders (\\\n",
    "    order_id smallint NOT NULL,\\\n",
    "    customer_id bpchar,\\\n",
    "    employee_id smallint,\\\n",
    "    order_date date DISTKEY SORTKEY,\\\n",
    "    required_date date,\\\n",
    "    shipped_date date,\\\n",
    "    ship_via smallint,\\\n",
    "    freight real,\\\n",
    "    ship_name varchar(40),\\\n",
    "    ship_address varchar(60),\\\n",
    "    ship_city varchar(15),\\\n",
    "    ship_region varchar(15),\\\n",
    "    ship_postal_code varchar(10),\\\n",
    "    ship_country varchar(15)\\\n",
    ") DISTSTYLE KEY;\")\n",
    "\n",
    "cur.execute(\"CREATE TABLE products (\\\n",
    "    product_id smallint NOT NULL,\\\n",
    "    product_name varchar(40) NOT NULL,\\\n",
    "    supplier_id smallint,\\\n",
    "    category_id smallint,\\\n",
    "    quantity_per_unit varchar(20),\\\n",
    "    unit_price real,\\\n",
    "    units_in_stock smallint,\\\n",
    "    units_on_order smallint,\\\n",
    "    reorder_level smallint,\\\n",
    "    discontinued integer NOT NULL\\\n",
    ");\")\n",
    "\n",
    "cur.execute(\"CREATE TABLE shippers (\\\n",
    "    shipper_id smallint NOT NULL,\\\n",
    "    company_name varchar(40) NOT NULL,\\\n",
    "    phone varchar(24)\\\n",
    ");\")\n",
    "\n",
    "cur.execute(\"CREATE TABLE suppliers (\\\n",
    "    supplier_id smallint NOT NULL,\\\n",
    "    company_name varchar(40) NOT NULL,\\\n",
    "    contact_name varchar(30),\\\n",
    "    contact_title varchar(30),\\\n",
    "    address varchar(60),\\\n",
    "    city varchar(15),\\\n",
    "    region varchar(15),\\\n",
    "    postal_code varchar(10),\\\n",
    "    country varchar(15),\\\n",
    "    phone varchar(24),\\\n",
    "    fax varchar(24),\\\n",
    "    homepage varchar(max)\\\n",
    ");\")"
   ]
  },
  {
   "cell_type": "markdown",
   "id": "7e8f6dfc",
   "metadata": {},
   "source": [
    "Verificando a existência das tabelas criadas"
   ]
  },
  {
   "cell_type": "code",
   "execution_count": 15,
   "id": "cf166f8f",
   "metadata": {},
   "outputs": [
    {
     "name": "stdout",
     "output_type": "stream",
     "text": [
      "suppliers\n",
      "shippers\n",
      "products\n",
      "orders\n",
      "order_details\n",
      "employees\n",
      "customers\n",
      "categories\n"
     ]
    }
   ],
   "source": [
    "cur.execute(\n",
    "    \"SELECT table_name FROM information_schema.tables WHERE table_schema = 'public';\")\n",
    "\n",
    "tables = cur.fetchall()\n",
    "\n",
    "for table in tables:\n",
    "    print(table[0])"
   ]
  },
  {
   "cell_type": "markdown",
   "id": "8853981b",
   "metadata": {},
   "source": [
    "Inserindo de dados nas tabelas do Redshift através dos scripts SQL (1 a 4)\n"
   ]
  },
  {
   "cell_type": "code",
   "execution_count": 16,
   "id": "d314aaa7",
   "metadata": {},
   "outputs": [],
   "source": [
    "with open('1.categories_shippers_suppliers.sql', 'r') as file:\n",
    "    query1 = file.read()\n",
    "\n",
    "with open('2.customers_employees_products.sql', 'r') as file:\n",
    "    query2 = file.read()\n",
    "\n",
    "with open('3.orders.sql', 'r') as file:\n",
    "    query3 = file.read()\n",
    "\n",
    "with open('4.orderdetails.sql', 'r') as file:\n",
    "    query4 = file.read()\n",
    "\n",
    "cur.execute(query1)\n",
    "cur.execute(query2)\n",
    "cur.execute(query3)\n",
    "cur.execute(query4)"
   ]
  },
  {
   "cell_type": "code",
   "execution_count": 17,
   "id": "67a2afc8",
   "metadata": {},
   "outputs": [
    {
     "name": "stdout",
     "output_type": "stream",
     "text": [
      "(10808, 'OLDWO                                                                                                                                                                                                                                                           ', 2, datetime.date(2022, 1, 1), datetime.date(2022, 1, 29), datetime.date(2022, 1, 9), 3, 45.53, 'Old World Delicatessen', '2743 Bering St.', 'Anchorage', 'AK', '99508', 'USA')\n",
      "(10809, 'WELLI                                                                                                                                                                                                                                                           ', 7, datetime.date(2022, 1, 1), datetime.date(2022, 1, 29), datetime.date(2022, 1, 7), 1, 4.87, 'Wellington Importadora', 'Rua do Mercado, 12', 'Resende', 'SP', '08737-363', 'Brazil')\n",
      "(10810, 'LAUGB                                                                                                                                                                                                                                                           ', 2, datetime.date(2022, 1, 1), datetime.date(2022, 1, 29), datetime.date(2022, 1, 7), 3, 4.33, 'Laughing Bacchus Wine Cellars', '2319 Elm St.', 'Vancouver', 'BC', 'V3F 2K1', 'Canada')\n",
      "(10811, 'LINOD                                                                                                                                                                                                                                                           ', 8, datetime.date(2022, 1, 2), datetime.date(2022, 1, 30), datetime.date(2022, 1, 8), 1, 31.22, 'LINO-Delicateses', 'Ave. 5 de Mayo Porlamar', 'I. de Margarita', 'Nueva Esparta', '4980', 'Venezuela')\n",
      "(10812, 'REGGC                                                                                                                                                                                                                                                           ', 5, datetime.date(2022, 1, 2), datetime.date(2022, 1, 30), datetime.date(2022, 1, 12), 1, 59.78, 'Reggiani Caseifici', 'Strada Provinciale 124', 'Reggio Emilia', None, '42100', 'Italy')\n",
      "(10813, 'RICAR                                                                                                                                                                                                                                                           ', 1, datetime.date(2022, 1, 5), datetime.date(2022, 2, 2), datetime.date(2022, 1, 9), 1, 47.38, 'Ricardo Adocicados', 'Av. Copacabana, 267', 'Rio de Janeiro', 'RJ', '02389-890', 'Brazil')\n",
      "(10814, 'VICTE                                                                                                                                                                                                                                                           ', 3, datetime.date(2022, 1, 5), datetime.date(2022, 2, 2), datetime.date(2022, 1, 14), 3, 130.94, 'Victuailles en stock', '2, rue du Commerce', 'Lyon', None, '69004', 'France')\n",
      "(10815, 'SAVEA                                                                                                                                                                                                                                                           ', 2, datetime.date(2022, 1, 5), datetime.date(2022, 2, 2), datetime.date(2022, 1, 14), 3, 14.62, 'Save-a-lot Markets', '187 Suffolk Ln.', 'Boise', 'ID', '83720', 'USA')\n",
      "(10818, 'MAGAA                                                                                                                                                                                                                                                           ', 7, datetime.date(2022, 1, 7), datetime.date(2022, 2, 4), datetime.date(2022, 1, 12), 3, 65.48, 'Magazzini Alimentari Riuniti', 'Via Ludovico il Moro 22', 'Bergamo', None, '24100', 'Italy')\n",
      "(10819, 'CACTU                                                                                                                                                                                                                                                           ', 2, datetime.date(2022, 1, 7), datetime.date(2022, 2, 4), datetime.date(2022, 1, 16), 3, 19.76, 'Cactus Comidas para llevar', 'Cerrito 333', 'Buenos Aires', None, '1010', 'Argentina')\n",
      "(10820, 'RATTC                                                                                                                                                                                                                                                           ', 3, datetime.date(2022, 1, 7), datetime.date(2022, 2, 4), datetime.date(2022, 1, 13), 2, 37.52, 'Rattlesnake Canyon Grocery', '2817 Milton Dr.', 'Albuquerque', 'NM', '87110', 'USA')\n",
      "(10823, 'LILAS                                                                                                                                                                                                                                                           ', 5, datetime.date(2022, 1, 9), datetime.date(2022, 2, 6), datetime.date(2022, 1, 13), 2, 163.97, 'LILA-Supermercado', 'Carrera 52 con Ave. Bolvar #65-98 Llano Largo', 'Barquisimeto', 'Lara', '3508', 'Venezuela')\n",
      "(10824, 'FOLKO                                                                                                                                                                                                                                                           ', 8, datetime.date(2022, 1, 9), datetime.date(2022, 2, 6), datetime.date(2022, 1, 30), 1, 1.23, 'Folk och f HB', 'kergatan 24', 'Brcke', None, 'S-844 67', 'Sweden')\n",
      "(10825, 'DRACD                                                                                                                                                                                                                                                           ', 1, datetime.date(2022, 1, 9), datetime.date(2022, 2, 6), datetime.date(2022, 1, 14), 1, 79.25, 'Drachenblut Delikatessen', 'Walserweg 21', 'Aachen', None, '52066', 'Germany')\n",
      "(10828, 'RANCH                                                                                                                                                                                                                                                           ', 9, datetime.date(2022, 1, 13), datetime.date(2022, 1, 27), datetime.date(2022, 2, 4), 1, 90.85, 'Rancho grande', 'Av. del Libertador 900', 'Buenos Aires', None, '1010', 'Argentina')\n",
      "(10829, 'ISLAT                                                                                                                                                                                                                                                           ', 9, datetime.date(2022, 1, 13), datetime.date(2022, 2, 10), datetime.date(2022, 1, 23), 1, 154.72, 'Island Trading', 'Garden House Crowther Way', 'Cowes', 'Isle of Wight', 'PO31 7PJ', 'UK')\n",
      "(10830, 'TRADH                                                                                                                                                                                                                                                           ', 4, datetime.date(2022, 1, 13), datetime.date(2022, 2, 24), datetime.date(2022, 1, 21), 2, 81.83, 'Tradiao Hipermercados', 'Av. Ins de Castro, 414', 'Sao Paulo', 'SP', '05634-030', 'Brazil')\n",
      "(10848, 'CONSH                                                                                                                                                                                                                                                           ', 7, datetime.date(2022, 1, 23), datetime.date(2022, 2, 20), datetime.date(2022, 1, 29), 2, 38.24, 'Consolidated Holdings', 'Berkeley Gardens 12 Brewery', 'London', None, 'WX1 6LT', 'UK')\n",
      "(10849, 'KOENE                                                                                                                                                                                                                                                           ', 9, datetime.date(2022, 1, 23), datetime.date(2022, 2, 20), datetime.date(2022, 1, 30), 2, 0.56, 'Kniglich Essen', 'Maubelstr. 90', 'Brandenburg', None, '14776', 'Germany')\n",
      "(10850, 'VICTE                                                                                                                                                                                                                                                           ', 1, datetime.date(2022, 1, 23), datetime.date(2022, 3, 6), datetime.date(2022, 1, 30), 1, 49.19, 'Victuailles en stock', '2, rue du Commerce', 'Lyon', None, '69004', 'France')\n",
      "(10853, 'BLAUS                                                                                                                                                                                                                                                           ', 9, datetime.date(2022, 1, 27), datetime.date(2022, 2, 24), datetime.date(2022, 2, 3), 2, 53.83, 'Blauer See Delikatessen', 'Forsterstr. 57', 'Mannheim', None, '68306', 'Germany')\n",
      "(10854, 'ERNSH                                                                                                                                                                                                                                                           ', 3, datetime.date(2022, 1, 27), datetime.date(2022, 2, 24), datetime.date(2022, 2, 5), 2, 100.22, 'Ernst Handel', 'Kirchgasse 6', 'Graz', None, '8010', 'Austria')\n",
      "(10816, 'GREAL                                                                                                                                                                                                                                                           ', 4, datetime.date(2022, 1, 6), datetime.date(2022, 2, 3), datetime.date(2022, 2, 4), 2, 719.78, 'Great Lakes Food Market', '2732 Baker Blvd.', 'Eugene', 'OR', '97403', 'USA')\n",
      "(10817, 'KOENE                                                                                                                                                                                                                                                           ', 3, datetime.date(2022, 1, 6), datetime.date(2022, 1, 20), datetime.date(2022, 1, 13), 2, 306.07, 'Kniglich Essen', 'Maubelstr. 90', 'Brandenburg', None, '14776', 'Germany')\n",
      "(10821, 'SPLIR                                                                                                                                                                                                                                                           ', 1, datetime.date(2022, 1, 8), datetime.date(2022, 2, 5), datetime.date(2022, 1, 15), 1, 36.68, 'Split Rail Beer & Ale', 'P.O. Box 555', 'Lander', 'WY', '82520', 'USA')\n",
      "(10822, 'TRAIH                                                                                                                                                                                                                                                           ', 6, datetime.date(2022, 1, 8), datetime.date(2022, 2, 5), datetime.date(2022, 1, 16), 3, 7.0, 'Trail-s Head Gourmet Provisioners', '722 DaVinci Blvd.', 'Kirkland', 'WA', '98034', 'USA')\n",
      "(10826, 'BLONP                                                                                                                                                                                                                                                           ', 6, datetime.date(2022, 1, 12), datetime.date(2022, 2, 9), datetime.date(2022, 2, 6), 1, 7.09, 'Blondel pre et fils', '24, place Klber', 'Strasbourg', None, '67000', 'France')\n",
      "(10827, 'BONAP                                                                                                                                                                                                                                                           ', 1, datetime.date(2022, 1, 12), datetime.date(2022, 1, 26), datetime.date(2022, 2, 6), 2, 63.54, 'Bon app-', '12, rue des Bouchers', 'Marseille', None, '13008', 'France')\n",
      "(10831, 'SANTG                                                                                                                                                                                                                                                           ', 3, datetime.date(2022, 1, 14), datetime.date(2022, 2, 11), datetime.date(2022, 1, 23), 2, 72.19, 'Sant Gourmet', 'Erling Skakkes gate 78', 'Stavern', None, '4110', 'Norway')\n",
      "(10832, 'LAMAI                                                                                                                                                                                                                                                           ', 2, datetime.date(2022, 1, 14), datetime.date(2022, 2, 11), datetime.date(2022, 1, 19), 2, 43.26, 'La maison d-Asie', '1 rue Alsace-Lorraine', 'Toulouse', None, '31000', 'France')\n",
      "(10833, 'OTTIK                                                                                                                                                                                                                                                           ', 6, datetime.date(2022, 1, 15), datetime.date(2022, 2, 12), datetime.date(2022, 1, 23), 2, 71.49, 'Ottilies Kseladen', 'Mehrheimerstr. 369', 'Kln', None, '50739', 'Germany')\n",
      "(10834, 'TRADH                                                                                                                                                                                                                                                           ', 1, datetime.date(2022, 1, 15), datetime.date(2022, 2, 12), datetime.date(2022, 1, 19), 3, 29.78, 'Tradiao Hipermercados', 'Av. Ins de Castro, 414', 'Sao Paulo', 'SP', '05634-030', 'Brazil')\n",
      "(10835, 'ALFKI                                                                                                                                                                                                                                                           ', 1, datetime.date(2022, 1, 15), datetime.date(2022, 2, 12), datetime.date(2022, 1, 21), 3, 69.53, 'Alfred-s Futterkiste', 'Obere Str. 57', 'Berlin', None, '12209', 'Germany')\n",
      "(10836, 'ERNSH                                                                                                                                                                                                                                                           ', 7, datetime.date(2022, 1, 16), datetime.date(2022, 2, 13), datetime.date(2022, 1, 21), 1, 411.88, 'Ernst Handel', 'Kirchgasse 6', 'Graz', None, '8010', 'Austria')\n",
      "(10837, 'BERGS                                                                                                                                                                                                                                                           ', 9, datetime.date(2022, 1, 16), datetime.date(2022, 2, 13), datetime.date(2022, 1, 23), 3, 13.32, 'Berglunds snabbkp', 'Berguvsvgen 8', 'Lule', None, 'S-958 22', 'Sweden')\n",
      "(10838, 'LINOD                                                                                                                                                                                                                                                           ', 3, datetime.date(2022, 1, 19), datetime.date(2022, 2, 16), datetime.date(2022, 1, 23), 3, 59.28, 'LINO-Delicateses', 'Ave. 5 de Mayo Porlamar', 'I. de Margarita', 'Nueva Esparta', '4980', 'Venezuela')\n",
      "(10839, 'TRADH                                                                                                                                                                                                                                                           ', 3, datetime.date(2022, 1, 19), datetime.date(2022, 2, 16), datetime.date(2022, 1, 22), 3, 35.43, 'Tradiao Hipermercados', 'Av. Ins de Castro, 414', 'Sao Paulo', 'SP', '05634-030', 'Brazil')\n",
      "(10840, 'LINOD                                                                                                                                                                                                                                                           ', 4, datetime.date(2022, 1, 19), datetime.date(2022, 3, 2), datetime.date(2022, 2, 16), 2, 2.71, 'LINO-Delicateses', 'Ave. 5 de Mayo Porlamar', 'I. de Margarita', 'Nueva Esparta', '4980', 'Venezuela')\n",
      "(10841, 'SUPRD                                                                                                                                                                                                                                                           ', 5, datetime.date(2022, 1, 20), datetime.date(2022, 2, 17), datetime.date(2022, 1, 29), 2, 424.3, 'Suprmes dlices', 'Boulevard Tirou, 255', 'Charleroi', None, 'B-6000', 'Belgium')\n",
      "(10842, 'TORTU                                                                                                                                                                                                                                                           ', 1, datetime.date(2022, 1, 20), datetime.date(2022, 2, 17), datetime.date(2022, 1, 29), 3, 54.42, 'Tortuga Restaurante', 'Avda. Azteca 123', 'Mxico D.F.', None, '5033', 'Mexico')\n",
      "(10843, 'VICTE                                                                                                                                                                                                                                                           ', 4, datetime.date(2022, 1, 21), datetime.date(2022, 2, 18), datetime.date(2022, 1, 26), 2, 9.26, 'Victuailles en stock', '2, rue du Commerce', 'Lyon', None, '69004', 'France')\n",
      "(10844, 'PICCO                                                                                                                                                                                                                                                           ', 8, datetime.date(2022, 1, 21), datetime.date(2022, 2, 18), datetime.date(2022, 1, 26), 2, 25.22, 'Piccolo und mehr', 'Geislweg 14', 'Salzburg', None, '5020', 'Austria')\n",
      "(10845, 'QUICK                                                                                                                                                                                                                                                           ', 8, datetime.date(2022, 1, 21), datetime.date(2022, 2, 4), datetime.date(2022, 1, 30), 1, 212.98, 'QUICK-Stop', 'Taucherstrae 10', 'Cunewalde', None, '1307', 'Germany')\n",
      "(10846, 'SUPRD                                                                                                                                                                                                                                                           ', 2, datetime.date(2022, 1, 22), datetime.date(2022, 3, 5), datetime.date(2022, 1, 23), 3, 56.46, 'Suprmes dlices', 'Boulevard Tirou, 255', 'Charleroi', None, 'B-6000', 'Belgium')\n",
      "(10847, 'SAVEA                                                                                                                                                                                                                                                           ', 4, datetime.date(2022, 1, 22), datetime.date(2022, 2, 5), datetime.date(2022, 2, 10), 3, 487.57, 'Save-a-lot Markets', '187 Suffolk Ln.', 'Boise', 'ID', '83720', 'USA')\n",
      "(10851, 'RICAR                                                                                                                                                                                                                                                           ', 5, datetime.date(2022, 1, 26), datetime.date(2022, 2, 23), datetime.date(2022, 2, 2), 1, 160.55, 'Ricardo Adocicados', 'Av. Copacabana, 267', 'Rio de Janeiro', 'RJ', '02389-890', 'Brazil')\n",
      "(10852, 'RATTC                                                                                                                                                                                                                                                           ', 8, datetime.date(2022, 1, 26), datetime.date(2022, 2, 9), datetime.date(2022, 1, 30), 1, 174.05, 'Rattlesnake Canyon Grocery', '2817 Milton Dr.', 'Albuquerque', 'NM', '87110', 'USA')\n",
      "(10856, 'ANTON                                                                                                                                                                                                                                                           ', 3, datetime.date(2022, 1, 28), datetime.date(2022, 2, 25), datetime.date(2022, 2, 10), 2, 58.43, 'Antonio Moreno Taquera', 'Mataderos 2312', 'Mxico D.F.', None, '5023', 'Mexico')\n",
      "(10857, 'BERGS                                                                                                                                                                                                                                                           ', 8, datetime.date(2022, 1, 28), datetime.date(2022, 2, 25), datetime.date(2022, 2, 6), 2, 188.85, 'Berglunds snabbkp', 'Berguvsvgen 8', 'Lule', None, 'S-958 22', 'Sweden')\n",
      "(10858, 'LACOR                                                                                                                                                                                                                                                           ', 2, datetime.date(2022, 1, 29), datetime.date(2022, 2, 26), datetime.date(2022, 2, 3), 1, 52.51, 'La corne d-abondance', '67, avenue de l-Europe', 'Versailles', None, '78000', 'France')\n",
      "(10859, 'FRANK                                                                                                                                                                                                                                                           ', 1, datetime.date(2022, 1, 29), datetime.date(2022, 2, 26), datetime.date(2022, 2, 2), 2, 76.1, 'Frankenversand', 'Berliner Platz 43', 'Mnchen', None, '80805', 'Germany')\n",
      "(10860, 'FRANR                                                                                                                                                                                                                                                           ', 3, datetime.date(2022, 1, 29), datetime.date(2022, 2, 26), datetime.date(2022, 2, 4), 3, 19.26, 'France restauration', '54, rue Royale', 'Nantes', None, '44000', 'France')\n",
      "(10861, 'WHITC                                                                                                                                                                                                                                                           ', 4, datetime.date(2022, 1, 30), datetime.date(2022, 2, 27), datetime.date(2022, 2, 17), 2, 14.93, 'White Clover Markets', '1029 - 12th Ave. S.', 'Seattle', 'WA', '98124', 'USA')\n",
      "(10862, 'LEHMS                                                                                                                                                                                                                                                           ', 8, datetime.date(2022, 1, 30), datetime.date(2022, 3, 13), datetime.date(2022, 2, 2), 2, 53.23, 'Lehmanns Marktstand', 'Magazinweg 7', 'Frankfurt a.M.', None, '60528', 'Germany')\n",
      "(10863, 'HILAA                                                                                                                                                                                                                                                           ', 4, datetime.date(2022, 2, 2), datetime.date(2022, 3, 2), datetime.date(2022, 2, 17), 2, 30.26, 'HILARION-Abastos', 'Carrera 22 con Ave. Carlos Soublette #8-35', 'San Cristbal', 'Tchira', '5022', 'Venezuela')\n",
      "(10864, 'AROUT                                                                                                                                                                                                                                                           ', 4, datetime.date(2022, 2, 2), datetime.date(2022, 3, 2), datetime.date(2022, 2, 9), 2, 3.04, 'Around the Horn', 'Brook Farm Stratford St. Mary', 'Colchester', 'Essex', 'CO7 6JX', 'UK')\n",
      "(10865, 'QUICK                                                                                                                                                                                                                                                           ', 2, datetime.date(2022, 2, 2), datetime.date(2022, 2, 16), datetime.date(2022, 2, 12), 1, 348.14, 'QUICK-Stop', 'Taucherstrae 10', 'Cunewalde', None, '1307', 'Germany')\n",
      "(10868, 'QUEEN                                                                                                                                                                                                                                                           ', 7, datetime.date(2022, 2, 4), datetime.date(2022, 3, 4), datetime.date(2022, 2, 23), 2, 191.27, 'Queen Cozinha', 'Alameda dos Canrios, 891', 'Sao Paulo', 'SP', '05487-020', 'Brazil')\n",
      "(10869, 'SEVES                                                                                                                                                                                                                                                           ', 5, datetime.date(2022, 2, 4), datetime.date(2022, 3, 4), datetime.date(2022, 2, 9), 1, 143.28, 'Seven Seas Imports', '90 Wadhurst Rd.', 'London', None, 'OX15 4NB', 'UK')\n",
      "(10870, 'WOLZA                                                                                                                                                                                                                                                           ', 5, datetime.date(2022, 2, 4), datetime.date(2022, 3, 4), datetime.date(2022, 2, 13), 3, 12.04, 'Wolski Zajazd', 'ul. Filtrowa 68', 'Warszawa', None, '01-012', 'Poland')\n",
      "(10871, 'BONAP                                                                                                                                                                                                                                                           ', 9, datetime.date(2022, 2, 5), datetime.date(2022, 3, 5), datetime.date(2022, 2, 10), 2, 112.27, 'Bon app-', '12, rue des Bouchers', 'Marseille', None, '13008', 'France')\n",
      "(10872, 'GODOS                                                                                                                                                                                                                                                           ', 5, datetime.date(2022, 2, 5), datetime.date(2022, 3, 5), datetime.date(2022, 2, 9), 2, 175.32, 'Godos Cocina Tpica', 'C/ Romero, 33', 'Sevilla', None, '41101', 'Spain')\n",
      "(10873, 'WILMK                                                                                                                                                                                                                                                           ', 4, datetime.date(2022, 2, 6), datetime.date(2022, 3, 6), datetime.date(2022, 2, 9), 1, 0.82, 'Wilman Kala', 'Keskuskatu 45', 'Helsinki', None, '21240', 'Finland')\n",
      "(10874, 'GODOS                                                                                                                                                                                                                                                           ', 5, datetime.date(2022, 2, 6), datetime.date(2022, 3, 6), datetime.date(2022, 2, 11), 2, 19.58, 'Godos Cocina Tpica', 'C/ Romero, 33', 'Sevilla', None, '41101', 'Spain')\n",
      "(10875, 'BERGS                                                                                                                                                                                                                                                           ', 4, datetime.date(2022, 2, 6), datetime.date(2022, 3, 6), datetime.date(2022, 3, 3), 2, 32.37, 'Berglunds snabbkp', 'Berguvsvgen 8', 'Lule', None, 'S-958 22', 'Sweden')\n",
      "(10878, 'QUICK                                                                                                                                                                                                                                                           ', 4, datetime.date(2022, 2, 10), datetime.date(2022, 3, 10), datetime.date(2022, 2, 12), 1, 46.69, 'QUICK-Stop', 'Taucherstrae 10', 'Cunewalde', None, '1307', 'Germany')\n",
      "(10879, 'WILMK                                                                                                                                                                                                                                                           ', 3, datetime.date(2022, 2, 10), datetime.date(2022, 3, 10), datetime.date(2022, 2, 12), 3, 8.5, 'Wilman Kala', 'Keskuskatu 45', 'Helsinki', None, '21240', 'Finland')\n",
      "(10880, 'FOLKO                                                                                                                                                                                                                                                           ', 7, datetime.date(2022, 2, 10), datetime.date(2022, 3, 24), datetime.date(2022, 2, 18), 1, 88.01, 'Folk och f HB', 'kergatan 24', 'Brcke', None, 'S-844 67', 'Sweden')\n",
      "(10881, 'CACTU                                                                                                                                                                                                                                                           ', 4, datetime.date(2022, 2, 11), datetime.date(2022, 3, 11), datetime.date(2022, 2, 18), 1, 2.84, 'Cactus Comidas para llevar', 'Cerrito 333', 'Buenos Aires', None, '1010', 'Argentina')\n",
      "(10882, 'SAVEA                                                                                                                                                                                                                                                           ', 4, datetime.date(2022, 2, 11), datetime.date(2022, 3, 11), datetime.date(2022, 2, 20), 3, 23.1, 'Save-a-lot Markets', '187 Suffolk Ln.', 'Boise', 'ID', '83720', 'USA')\n",
      "(10883, 'LONEP                                                                                                                                                                                                                                                           ', 8, datetime.date(2022, 2, 12), datetime.date(2022, 3, 12), datetime.date(2022, 2, 20), 3, 0.53, 'Lonesome Pine Restaurant', '89 Chiaroscuro Rd.', 'Portland', 'OR', '97219', 'USA')\n",
      "(10884, 'LETSS                                                                                                                                                                                                                                                           ', 4, datetime.date(2022, 2, 12), datetime.date(2022, 3, 12), datetime.date(2022, 2, 13), 2, 90.97, 'Let-s Stop N Shop', '87 Polk St. Suite 5', 'San Francisco', 'CA', '94117', 'USA')\n",
      "(10885, 'SUPRD                                                                                                                                                                                                                                                           ', 6, datetime.date(2022, 2, 12), datetime.date(2022, 3, 12), datetime.date(2022, 2, 18), 3, 5.64, 'Suprmes dlices', 'Boulevard Tirou, 255', 'Charleroi', None, 'B-6000', 'Belgium')\n",
      "(10888, 'GODOS                                                                                                                                                                                                                                                           ', 1, datetime.date(2022, 2, 16), datetime.date(2022, 3, 16), datetime.date(2022, 2, 23), 2, 51.87, 'Godos Cocina Tpica', 'C/ Romero, 33', 'Sevilla', None, '41101', 'Spain')\n",
      "(10889, 'RATTC                                                                                                                                                                                                                                                           ', 9, datetime.date(2022, 2, 16), datetime.date(2022, 3, 16), datetime.date(2022, 2, 23), 3, 280.61, 'Rattlesnake Canyon Grocery', '2817 Milton Dr.', 'Albuquerque', 'NM', '87110', 'USA')\n",
      "(10890, 'DUMON                                                                                                                                                                                                                                                           ', 7, datetime.date(2022, 2, 16), datetime.date(2022, 3, 16), datetime.date(2022, 2, 18), 1, 32.76, 'Du monde entier', '67, rue des Cinquante Otages', 'Nantes', None, '44000', 'France')\n",
      "(10891, 'LEHMS                                                                                                                                                                                                                                                           ', 7, datetime.date(2022, 2, 17), datetime.date(2022, 3, 17), datetime.date(2022, 2, 19), 2, 20.37, 'Lehmanns Marktstand', 'Magazinweg 7', 'Frankfurt a.M.', None, '60528', 'Germany')\n",
      "(10892, 'MAISD                                                                                                                                                                                                                                                           ', 4, datetime.date(2022, 2, 17), datetime.date(2022, 3, 17), datetime.date(2022, 2, 19), 2, 120.27, 'Maison Dewey', 'Rue Joseph-Bens 532', 'Bruxelles', None, 'B-1180', 'Belgium')\n",
      "(10893, 'KOENE                                                                                                                                                                                                                                                           ', 9, datetime.date(2022, 2, 18), datetime.date(2022, 3, 18), datetime.date(2022, 2, 20), 2, 77.78, 'Kniglich Essen', 'Maubelstr. 90', 'Brandenburg', None, '14776', 'Germany')\n",
      "(10894, 'SAVEA                                                                                                                                                                                                                                                           ', 1, datetime.date(2022, 2, 18), datetime.date(2022, 3, 18), datetime.date(2022, 2, 20), 1, 116.13, 'Save-a-lot Markets', '187 Suffolk Ln.', 'Boise', 'ID', '83720', 'USA')\n",
      "(10895, 'ERNSH                                                                                                                                                                                                                                                           ', 3, datetime.date(2022, 2, 18), datetime.date(2022, 3, 18), datetime.date(2022, 2, 23), 1, 162.75, 'Ernst Handel', 'Kirchgasse 6', 'Graz', None, '8010', 'Austria')\n",
      "(10898, 'OCEAN                                                                                                                                                                                                                                                           ', 4, datetime.date(2022, 2, 20), datetime.date(2022, 3, 20), datetime.date(2022, 3, 6), 2, 1.27, 'Ocano Atlntico Ltda.', 'Ing. Gustavo Moncada 8585 Piso 20-A', 'Buenos Aires', None, '1010', 'Argentina')\n",
      "(10899, 'LILAS                                                                                                                                                                                                                                                           ', 5, datetime.date(2022, 2, 20), datetime.date(2022, 3, 20), datetime.date(2022, 2, 26), 3, 1.21, 'LILA-Supermercado', 'Carrera 52 con Ave. Bolvar #65-98 Llano Largo', 'Barquisimeto', 'Lara', '3508', 'Venezuela')\n",
      "(10900, 'WELLI                                                                                                                                                                                                                                                           ', 1, datetime.date(2022, 2, 20), datetime.date(2022, 3, 20), datetime.date(2022, 3, 4), 2, 1.66, 'Wellington Importadora', 'Rua do Mercado, 12', 'Resende', 'SP', '08737-363', 'Brazil')\n",
      "(10901, 'HILAA                                                                                                                                                                                                                                                           ', 4, datetime.date(2022, 2, 23), datetime.date(2022, 3, 23), datetime.date(2022, 2, 26), 1, 62.09, 'HILARION-Abastos', 'Carrera 22 con Ave. Carlos Soublette #8-35', 'San Cristbal', 'Tchira', '5022', 'Venezuela')\n",
      "(10902, 'FOLKO                                                                                                                                                                                                                                                           ', 1, datetime.date(2022, 2, 23), datetime.date(2022, 3, 23), datetime.date(2022, 3, 3), 1, 44.15, 'Folk och f HB', 'kergatan 24', 'Brcke', None, 'S-844 67', 'Sweden')\n",
      "(10903, 'HANAR                                                                                                                                                                                                                                                           ', 3, datetime.date(2022, 2, 24), datetime.date(2022, 3, 24), datetime.date(2022, 3, 4), 3, 36.71, 'Hanari Carnes', 'Rua do Pao, 67', 'Rio de Janeiro', 'RJ', '05454-876', 'Brazil')\n",
      "(10904, 'WHITC                                                                                                                                                                                                                                                           ', 3, datetime.date(2022, 2, 24), datetime.date(2022, 3, 24), datetime.date(2022, 2, 27), 3, 162.95, 'White Clover Markets', '1029 - 12th Ave. S.', 'Seattle', 'WA', '98124', 'USA')\n",
      "(10905, 'WELLI                                                                                                                                                                                                                                                           ', 9, datetime.date(2022, 2, 24), datetime.date(2022, 3, 24), datetime.date(2022, 3, 6), 2, 13.72, 'Wellington Importadora', 'Rua do Mercado, 12', 'Resende', 'SP', '08737-363', 'Brazil')\n",
      "(10927, 'LACOR                                                                                                                                                                                                                                                           ', 4, datetime.date(2022, 3, 5), datetime.date(2022, 4, 2), datetime.date(2022, 4, 8), 1, 19.79, 'La corne d-abondance', '67, avenue de l-Europe', 'Versailles', None, '78000', 'France')\n",
      "(10928, 'GALED                                                                                                                                                                                                                                                           ', 1, datetime.date(2022, 3, 5), datetime.date(2022, 4, 2), datetime.date(2022, 3, 18), 1, 1.36, 'Galera del gastronmo', 'Rambla de Catalua, 23', 'Barcelona', None, '8022', 'Spain')\n",
      "(10929, 'FRANK                                                                                                                                                                                                                                                           ', 6, datetime.date(2022, 3, 5), datetime.date(2022, 4, 2), datetime.date(2022, 3, 12), 1, 33.93, 'Frankenversand', 'Berliner Platz 43', 'Mnchen', None, '80805', 'Germany')\n",
      "(10937, 'CACTU                                                                                                                                                                                                                                                           ', 7, datetime.date(2022, 3, 10), datetime.date(2022, 3, 24), datetime.date(2022, 3, 13), 3, 31.51, 'Cactus Comidas para llevar', 'Cerrito 333', 'Buenos Aires', None, '1010', 'Argentina')\n",
      "(10938, 'QUICK                                                                                                                                                                                                                                                           ', 3, datetime.date(2022, 3, 10), datetime.date(2022, 4, 7), datetime.date(2022, 3, 16), 2, 31.89, 'QUICK-Stop', 'Taucherstrae 10', 'Cunewalde', None, '1307', 'Germany')\n",
      "(10939, 'MAGAA                                                                                                                                                                                                                                                           ', 2, datetime.date(2022, 3, 10), datetime.date(2022, 4, 7), datetime.date(2022, 3, 13), 2, 76.33, 'Magazzini Alimentari Riuniti', 'Via Ludovico il Moro 22', 'Bergamo', None, '24100', 'Italy')\n",
      "(10944, 'BOTTM                                                                                                                                                                                                                                                           ', 6, datetime.date(2022, 3, 12), datetime.date(2022, 3, 26), datetime.date(2022, 3, 13), 3, 52.92, 'Bottom-Dollar Markets', '23 Tsawassen Blvd.', 'Tsawassen', 'BC', 'T2F 8M4', 'Canada')\n",
      "(10945, 'MORGK                                                                                                                                                                                                                                                           ', 4, datetime.date(2022, 3, 12), datetime.date(2022, 4, 9), datetime.date(2022, 3, 18), 1, 10.22, 'Morgenstern Gesundkost', 'Heerstr. 22', 'Leipzig', None, '4179', 'Germany')\n",
      "(10946, 'VAFFE                                                                                                                                                                                                                                                           ', 1, datetime.date(2022, 3, 12), datetime.date(2022, 4, 9), datetime.date(2022, 3, 19), 2, 27.2, 'Vaffeljernet', 'Smagsloget 45', 'rhus', None, '8200', 'Denmark')\n",
      "(10947, 'BSBEV                                                                                                                                                                                                                                                           ', 3, datetime.date(2022, 3, 13), datetime.date(2022, 4, 10), datetime.date(2022, 3, 16), 2, 3.26, 'B-s Beverages', 'Fauntleroy Circus', 'London', None, 'EC2 5NT', 'UK')\n",
      "(10948, 'GODOS                                                                                                                                                                                                                                                           ', 3, datetime.date(2022, 3, 13), datetime.date(2022, 4, 10), datetime.date(2022, 3, 19), 3, 23.39, 'Godos Cocina Tpica', 'C/ Romero, 33', 'Sevilla', None, '41101', 'Spain')\n",
      "(10949, 'BOTTM                                                                                                                                                                                                                                                           ', 2, datetime.date(2022, 3, 13), datetime.date(2022, 4, 10), datetime.date(2022, 3, 17), 3, 74.44, 'Bottom-Dollar Markets', '23 Tsawassen Blvd.', 'Tsawassen', 'BC', 'T2F 8M4', 'Canada')\n",
      "(10950, 'MAGAA                                                                                                                                                                                                                                                           ', 1, datetime.date(2022, 3, 16), datetime.date(2022, 4, 13), datetime.date(2022, 3, 23), 2, 2.5, 'Magazzini Alimentari Riuniti', 'Via Ludovico il Moro 22', 'Bergamo', None, '24100', 'Italy')\n",
      "(10951, 'RICSU                                                                                                                                                                                                                                                           ', 9, datetime.date(2022, 3, 16), datetime.date(2022, 4, 27), datetime.date(2022, 4, 7), 2, 30.85, 'Richter Supermarkt', 'Starenweg 5', 'Genve', None, '1204', 'Switzerland')\n",
      "(10952, 'ALFKI                                                                                                                                                                                                                                                           ', 1, datetime.date(2022, 3, 16), datetime.date(2022, 4, 27), datetime.date(2022, 3, 24), 1, 40.42, 'Alfred-s Futterkiste', 'Obere Str. 57', 'Berlin', None, '12209', 'Germany')\n",
      "(10953, 'AROUT                                                                                                                                                                                                                                                           ', 9, datetime.date(2022, 3, 16), datetime.date(2022, 3, 30), datetime.date(2022, 3, 25), 2, 23.72, 'Around the Horn', 'Brook Farm Stratford St. Mary', 'Colchester', 'Essex', 'CO7 6JX', 'UK')\n",
      "(10957, 'HILAA                                                                                                                                                                                                                                                           ', 8, datetime.date(2022, 3, 18), datetime.date(2022, 4, 15), datetime.date(2022, 3, 27), 3, 105.36, 'HILARION-Abastos', 'Carrera 22 con Ave. Carlos Soublette #8-35', 'San Cristbal', 'Tchira', '5022', 'Venezuela')\n",
      "(10958, 'OCEAN                                                                                                                                                                                                                                                           ', 7, datetime.date(2022, 3, 18), datetime.date(2022, 4, 15), datetime.date(2022, 3, 27), 2, 49.56, 'Ocano Atlntico Ltda.', 'Ing. Gustavo Moncada 8585 Piso 20-A', 'Buenos Aires', None, '1010', 'Argentina')\n",
      "(10959, 'GOURL                                                                                                                                                                                                                                                           ', 6, datetime.date(2022, 3, 18), datetime.date(2022, 4, 29), datetime.date(2022, 3, 23), 2, 4.98, 'Gourmet Lanchonetes', 'Av. Brasil, 442', 'Campinas', 'SP', '04876-786', 'Brazil')\n",
      "(10960, 'HILAA                                                                                                                                                                                                                                                           ', 3, datetime.date(2022, 3, 19), datetime.date(2022, 4, 2), datetime.date(2022, 4, 8), 1, 2.08, 'HILARION-Abastos', 'Carrera 22 con Ave. Carlos Soublette #8-35', 'San Cristbal', 'Tchira', '5022', 'Venezuela')\n",
      "(10961, 'QUEEN                                                                                                                                                                                                                                                           ', 8, datetime.date(2022, 3, 19), datetime.date(2022, 4, 16), datetime.date(2022, 3, 30), 1, 104.47, 'Queen Cozinha', 'Alameda dos Canrios, 891', 'Sao Paulo', 'SP', '05487-020', 'Brazil')\n",
      "(10962, 'QUICK                                                                                                                                                                                                                                                           ', 8, datetime.date(2022, 3, 19), datetime.date(2022, 4, 16), datetime.date(2022, 3, 23), 2, 275.79, 'QUICK-Stop', 'Taucherstrae 10', 'Cunewalde', None, '1307', 'Germany')\n",
      "(10963, 'FURIB                                                                                                                                                                                                                                                           ', 9, datetime.date(2022, 3, 19), datetime.date(2022, 4, 16), datetime.date(2022, 3, 26), 3, 2.7, 'Furia Bacalhau e Frutos do Mar', 'Jardim das rosas n. 32', 'Lisboa', None, '1675', 'Portugal')\n",
      "(10964, 'SPECD                                                                                                                                                                                                                                                           ', 3, datetime.date(2022, 3, 20), datetime.date(2022, 4, 17), datetime.date(2022, 3, 24), 2, 87.38, 'Spcialits du monde', '25, rue Lauriston', 'Paris', None, '75016', 'France')\n",
      "(10965, 'OLDWO                                                                                                                                                                                                                                                           ', 6, datetime.date(2022, 3, 20), datetime.date(2022, 4, 17), datetime.date(2022, 3, 30), 3, 144.38, 'Old World Delicatessen', '2743 Bering St.', 'Anchorage', 'AK', '99508', 'USA')\n",
      "(10966, 'CHOPS                                                                                                                                                                                                                                                           ', 4, datetime.date(2022, 3, 20), datetime.date(2022, 4, 17), datetime.date(2022, 4, 8), 1, 27.19, 'Chop-suey Chinese', 'Hauptstr. 31', 'Bern', None, '3012', 'Switzerland')\n",
      "(10974, 'SPLIR                                                                                                                                                                                                                                                           ', 3, datetime.date(2022, 3, 25), datetime.date(2022, 4, 8), datetime.date(2022, 4, 3), 3, 12.96, 'Split Rail Beer & Ale', 'P.O. Box 555', 'Lander', 'WY', '82520', 'USA')\n",
      "(10975, 'BOTTM                                                                                                                                                                                                                                                           ', 1, datetime.date(2022, 3, 25), datetime.date(2022, 4, 22), datetime.date(2022, 3, 27), 3, 32.27, 'Bottom-Dollar Markets', '23 Tsawassen Blvd.', 'Tsawassen', 'BC', 'T2F 8M4', 'Canada')\n",
      "(10976, 'HILAA                                                                                                                                                                                                                                                           ', 1, datetime.date(2022, 3, 25), datetime.date(2022, 5, 6), datetime.date(2022, 4, 3), 1, 37.97, 'HILARION-Abastos', 'Carrera 22 con Ave. Carlos Soublette #8-35', 'San Cristbal', 'Tchira', '5022', 'Venezuela')\n",
      "(10977, 'FOLKO                                                                                                                                                                                                                                                           ', 8, datetime.date(2022, 3, 26), datetime.date(2022, 4, 23), datetime.date(2022, 4, 10), 3, 208.5, 'Folk och f HB', 'kergatan 24', 'Brcke', None, 'S-844 67', 'Sweden')\n",
      "(10978, 'MAISD                                                                                                                                                                                                                                                           ', 9, datetime.date(2022, 3, 26), datetime.date(2022, 4, 23), datetime.date(2022, 4, 23), 2, 32.82, 'Maison Dewey', 'Rue Joseph-Bens 532', 'Bruxelles', None, 'B-1180', 'Belgium')\n",
      "(10979, 'ERNSH                                                                                                                                                                                                                                                           ', 8, datetime.date(2022, 3, 26), datetime.date(2022, 4, 23), datetime.date(2022, 3, 31), 2, 353.07, 'Ernst Handel', 'Kirchgasse 6', 'Graz', None, '8010', 'Austria')\n",
      "(10984, 'SAVEA                                                                                                                                                                                                                                                           ', 1, datetime.date(2022, 3, 30), datetime.date(2022, 4, 27), datetime.date(2022, 4, 3), 3, 211.22, 'Save-a-lot Markets', '187 Suffolk Ln.', 'Boise', 'ID', '83720', 'USA')\n",
      "(10985, 'HUNGO                                                                                                                                                                                                                                                           ', 2, datetime.date(2022, 3, 30), datetime.date(2022, 4, 27), datetime.date(2022, 4, 2), 1, 91.51, 'Hungry Owl All-Night Grocers', '8 Johnstown Road', 'Cork', 'Co. Cork', None, 'Ireland')\n",
      "(10986, 'OCEAN                                                                                                                                                                                                                                                           ', 8, datetime.date(2022, 3, 30), datetime.date(2022, 4, 27), datetime.date(2022, 4, 21), 2, 217.86, 'Ocano Atlntico Ltda.', 'Ing. Gustavo Moncada 8585 Piso 20-A', 'Buenos Aires', None, '1010', 'Argentina')\n",
      "(10987, 'EASTC                                                                                                                                                                                                                                                           ', 8, datetime.date(2022, 3, 31), datetime.date(2022, 4, 28), datetime.date(2022, 4, 6), 1, 185.48, 'Eastern Connection', '35 King George', 'London', None, 'WX3 6FW', 'UK')\n",
      "(10988, 'RATTC                                                                                                                                                                                                                                                           ', 3, datetime.date(2022, 3, 31), datetime.date(2022, 4, 28), datetime.date(2022, 4, 10), 2, 61.14, 'Rattlesnake Canyon Grocery', '2817 Milton Dr.', 'Albuquerque', 'NM', '87110', 'USA')\n",
      "(10989, 'QUEDE                                                                                                                                                                                                                                                           ', 2, datetime.date(2022, 3, 31), datetime.date(2022, 4, 28), datetime.date(2022, 4, 2), 1, 34.76, 'Que Delcia', 'Rua da Panificadora, 12', 'Rio de Janeiro', 'RJ', '02389-673', 'Brazil')\n",
      "(10990, 'ERNSH                                                                                                                                                                                                                                                           ', 2, datetime.date(2022, 4, 1), datetime.date(2022, 5, 13), datetime.date(2022, 4, 7), 3, 117.61, 'Ernst Handel', 'Kirchgasse 6', 'Graz', None, '8010', 'Austria')\n",
      "(10991, 'QUICK                                                                                                                                                                                                                                                           ', 1, datetime.date(2022, 4, 1), datetime.date(2022, 4, 29), datetime.date(2022, 4, 7), 1, 38.51, 'QUICK-Stop', 'Taucherstrae 10', 'Cunewalde', None, '1307', 'Germany')\n",
      "(10992, 'THEBI                                                                                                                                                                                                                                                           ', 1, datetime.date(2022, 4, 1), datetime.date(2022, 4, 29), datetime.date(2022, 4, 3), 3, 4.27, 'The Big Cheese', '89 Jefferson Way Suite 2', 'Portland', 'OR', '97201', 'USA')\n",
      "(10993, 'FOLKO                                                                                                                                                                                                                                                           ', 7, datetime.date(2022, 4, 1), datetime.date(2022, 4, 29), datetime.date(2022, 4, 10), 3, 8.81, 'Folk och f HB', 'kergatan 24', 'Brcke', None, 'S-844 67', 'Sweden')\n",
      "(10997, 'LILAS                                                                                                                                                                                                                                                           ', 8, datetime.date(2022, 4, 3), datetime.date(2022, 5, 15), datetime.date(2022, 4, 13), 2, 73.91, 'LILA-Supermercado', 'Carrera 52 con Ave. Bolvar #65-98 Llano Largo', 'Barquisimeto', 'Lara', '3508', 'Venezuela')\n",
      "(10998, 'WOLZA                                                                                                                                                                                                                                                           ', 8, datetime.date(2022, 4, 3), datetime.date(2022, 4, 17), datetime.date(2022, 4, 17), 2, 20.31, 'Wolski Zajazd', 'ul. Filtrowa 68', 'Warszawa', None, '01-012', 'Poland')\n",
      "(10999, 'OTTIK                                                                                                                                                                                                                                                           ', 6, datetime.date(2022, 4, 3), datetime.date(2022, 5, 1), datetime.date(2022, 4, 10), 2, 96.35, 'Ottilies Kseladen', 'Mehrheimerstr. 369', 'Kln', None, '50739', 'Germany')\n",
      "(11004, 'MAISD                                                                                                                                                                                                                                                           ', 3, datetime.date(2022, 4, 7), datetime.date(2022, 5, 5), datetime.date(2022, 4, 20), 1, 44.84, 'Maison Dewey', 'Rue Joseph-Bens 532', 'Bruxelles', None, 'B-1180', 'Belgium')\n",
      "(11005, 'WILMK                                                                                                                                                                                                                                                           ', 2, datetime.date(2022, 4, 7), datetime.date(2022, 5, 5), datetime.date(2022, 4, 10), 1, 0.75, 'Wilman Kala', 'Keskuskatu 45', 'Helsinki', None, '21240', 'Finland')\n",
      "(11006, 'GREAL                                                                                                                                                                                                                                                           ', 3, datetime.date(2022, 4, 7), datetime.date(2022, 5, 5), datetime.date(2022, 4, 15), 2, 25.19, 'Great Lakes Food Market', '2732 Baker Blvd.', 'Eugene', 'OR', '97403', 'USA')\n",
      "(11007, 'PRINI                                                                                                                                                                                                                                                           ', 8, datetime.date(2022, 4, 8), datetime.date(2022, 5, 6), datetime.date(2022, 4, 13), 2, 202.24, 'Princesa Isabel Vinhos', 'Estrada da sade n. 58', 'Lisboa', None, '1756', 'Portugal')\n",
      "(11008, 'ERNSH                                                                                                                                                                                                                                                           ', 7, datetime.date(2022, 4, 8), datetime.date(2022, 5, 6), None, 3, 79.46, 'Ernst Handel', 'Kirchgasse 6', 'Graz', None, '8010', 'Austria')\n",
      "(11009, 'GODOS                                                                                                                                                                                                                                                           ', 2, datetime.date(2022, 4, 8), datetime.date(2022, 5, 6), datetime.date(2022, 4, 10), 1, 59.11, 'Godos Cocina Tpica', 'C/ Romero, 33', 'Sevilla', None, '41101', 'Spain')\n",
      "(11010, 'REGGC                                                                                                                                                                                                                                                           ', 2, datetime.date(2022, 4, 9), datetime.date(2022, 5, 7), datetime.date(2022, 4, 21), 2, 28.71, 'Reggiani Caseifici', 'Strada Provinciale 124', 'Reggio Emilia', None, '42100', 'Italy')\n",
      "(11011, 'ALFKI                                                                                                                                                                                                                                                           ', 3, datetime.date(2022, 4, 9), datetime.date(2022, 5, 7), datetime.date(2022, 4, 13), 1, 1.21, 'Alfred-s Futterkiste', 'Obere Str. 57', 'Berlin', None, '12209', 'Germany')\n",
      "(11012, 'FRANK                                                                                                                                                                                                                                                           ', 1, datetime.date(2022, 4, 9), datetime.date(2022, 4, 23), datetime.date(2022, 4, 17), 3, 242.95, 'Frankenversand', 'Berliner Platz 43', 'Mnchen', None, '80805', 'Germany')\n",
      "(11013, 'ROMEY                                                                                                                                                                                                                                                           ', 2, datetime.date(2022, 4, 9), datetime.date(2022, 5, 7), datetime.date(2022, 4, 10), 1, 32.99, 'Romero y tomillo', 'Gran Va, 1', 'Madrid', None, '28001', 'Spain')\n",
      "(11014, 'LINOD                                                                                                                                                                                                                                                           ', 2, datetime.date(2022, 4, 10), datetime.date(2022, 5, 8), datetime.date(2022, 4, 15), 3, 23.6, 'LINO-Delicateses', 'Ave. 5 de Mayo Porlamar', 'I. de Margarita', 'Nueva Esparta', '4980', 'Venezuela')\n",
      "(11015, 'SANTG                                                                                                                                                                                                                                                           ', 2, datetime.date(2022, 4, 10), datetime.date(2022, 4, 24), datetime.date(2022, 4, 20), 2, 4.62, 'Sant Gourmet', 'Erling Skakkes gate 78', 'Stavern', None, '4110', 'Norway')\n",
      "(11016, 'AROUT                                                                                                                                                                                                                                                           ', 9, datetime.date(2022, 4, 10), datetime.date(2022, 5, 8), datetime.date(2022, 4, 13), 2, 33.8, 'Around the Horn', 'Brook Farm Stratford St. Mary', 'Colchester', 'Essex', 'CO7 6JX', 'UK')\n",
      "(11017, 'ERNSH                                                                                                                                                                                                                                                           ', 9, datetime.date(2022, 4, 13), datetime.date(2022, 5, 11), datetime.date(2022, 4, 20), 2, 754.26, 'Ernst Handel', 'Kirchgasse 6', 'Graz', None, '8010', 'Austria')\n",
      "(11018, 'LONEP                                                                                                                                                                                                                                                           ', 4, datetime.date(2022, 4, 13), datetime.date(2022, 5, 11), datetime.date(2022, 4, 16), 2, 11.65, 'Lonesome Pine Restaurant', '89 Chiaroscuro Rd.', 'Portland', 'OR', '97219', 'USA')\n",
      "(11019, 'RANCH                                                                                                                                                                                                                                                           ', 6, datetime.date(2022, 4, 13), datetime.date(2022, 5, 11), None, 3, 3.17, 'Rancho grande', 'Av. del Libertador 900', 'Buenos Aires', None, '1010', 'Argentina')\n",
      "(11020, 'OTTIK                                                                                                                                                                                                                                                           ', 2, datetime.date(2022, 4, 14), datetime.date(2022, 5, 12), datetime.date(2022, 4, 16), 2, 43.3, 'Ottilies Kseladen', 'Mehrheimerstr. 369', 'Kln', None, '50739', 'Germany')\n",
      "(11021, 'QUICK                                                                                                                                                                                                                                                           ', 3, datetime.date(2022, 4, 14), datetime.date(2022, 5, 12), datetime.date(2022, 4, 21), 1, 297.18, 'QUICK-Stop', 'Taucherstrae 10', 'Cunewalde', None, '1307', 'Germany')\n",
      "(11022, 'HANAR                                                                                                                                                                                                                                                           ', 9, datetime.date(2022, 4, 14), datetime.date(2022, 5, 12), datetime.date(2022, 5, 4), 2, 6.27, 'Hanari Carnes', 'Rua do Pao, 67', 'Rio de Janeiro', 'RJ', '05454-876', 'Brazil')\n",
      "(11023, 'BSBEV                                                                                                                                                                                                                                                           ', 1, datetime.date(2022, 4, 14), datetime.date(2022, 4, 28), datetime.date(2022, 4, 24), 2, 123.83, 'B-s Beverages', 'Fauntleroy Circus', 'London', None, 'EC2 5NT', 'UK')\n",
      "(11024, 'EASTC                                                                                                                                                                                                                                                           ', 4, datetime.date(2022, 4, 15), datetime.date(2022, 5, 13), datetime.date(2022, 4, 20), 1, 74.36, 'Eastern Connection', '35 King George', 'London', None, 'WX3 6FW', 'UK')\n",
      "(11025, 'WARTH                                                                                                                                                                                                                                                           ', 6, datetime.date(2022, 4, 15), datetime.date(2022, 5, 13), datetime.date(2022, 4, 24), 3, 29.17, 'Wartian Herkku', 'Torikatu 38', 'Oulu', None, '90110', 'Finland')\n",
      "(11026, 'FRANS                                                                                                                                                                                                                                                           ', 4, datetime.date(2022, 4, 15), datetime.date(2022, 5, 13), datetime.date(2022, 4, 28), 1, 47.09, 'Franchi S.p.A.', 'Via Monte Bianco 34', 'Torino', None, '10100', 'Italy')\n",
      "(11030, 'SAVEA                                                                                                                                                                                                                                                           ', 7, datetime.date(2022, 4, 17), datetime.date(2022, 5, 15), datetime.date(2022, 4, 27), 2, 830.75, 'Save-a-lot Markets', '187 Suffolk Ln.', 'Boise', 'ID', '83720', 'USA')\n",
      "(11031, 'SAVEA                                                                                                                                                                                                                                                           ', 6, datetime.date(2022, 4, 17), datetime.date(2022, 5, 15), datetime.date(2022, 4, 24), 2, 227.22, 'Save-a-lot Markets', '187 Suffolk Ln.', 'Boise', 'ID', '83720', 'USA')\n",
      "(11032, 'WHITC                                                                                                                                                                                                                                                           ', 2, datetime.date(2022, 4, 17), datetime.date(2022, 5, 15), datetime.date(2022, 4, 23), 3, 606.19, 'White Clover Markets', '1029 - 12th Ave. S.', 'Seattle', 'WA', '98124', 'USA')\n",
      "(11033, 'RICSU                                                                                                                                                                                                                                                           ', 7, datetime.date(2022, 4, 17), datetime.date(2022, 5, 15), datetime.date(2022, 4, 23), 3, 84.74, 'Richter Supermarkt', 'Starenweg 5', 'Genve', None, '1204', 'Switzerland')\n",
      "(11034, 'OLDWO                                                                                                                                                                                                                                                           ', 8, datetime.date(2022, 4, 20), datetime.date(2022, 6, 1), datetime.date(2022, 4, 27), 1, 40.32, 'Old World Delicatessen', '2743 Bering St.', 'Anchorage', 'AK', '99508', 'USA')\n",
      "(11035, 'SUPRD                                                                                                                                                                                                                                                           ', 2, datetime.date(2022, 4, 20), datetime.date(2022, 5, 18), datetime.date(2022, 4, 24), 2, 0.17, 'Suprmes dlices', 'Boulevard Tirou, 255', 'Charleroi', None, 'B-6000', 'Belgium')\n",
      "(11036, 'DRACD                                                                                                                                                                                                                                                           ', 8, datetime.date(2022, 4, 20), datetime.date(2022, 5, 18), datetime.date(2022, 4, 22), 3, 149.47, 'Drachenblut Delikatessen', 'Walserweg 21', 'Aachen', None, '52066', 'Germany')\n",
      "(11037, 'GODOS                                                                                                                                                                                                                                                           ', 7, datetime.date(2022, 4, 21), datetime.date(2022, 5, 19), datetime.date(2022, 4, 27), 1, 3.2, 'Godos Cocina Tpica', 'C/ Romero, 33', 'Sevilla', None, '41101', 'Spain')\n",
      "(11038, 'SUPRD                                                                                                                                                                                                                                                           ', 1, datetime.date(2022, 4, 21), datetime.date(2022, 5, 19), datetime.date(2022, 4, 30), 2, 29.59, 'Suprmes dlices', 'Boulevard Tirou, 255', 'Charleroi', None, 'B-6000', 'Belgium')\n",
      "(11039, 'LINOD                                                                                                                                                                                                                                                           ', 1, datetime.date(2022, 4, 21), datetime.date(2022, 5, 19), None, 2, 65.0, 'LINO-Delicateses', 'Ave. 5 de Mayo Porlamar', 'I. de Margarita', 'Nueva Esparta', '4980', 'Venezuela')\n",
      "(11040, 'GREAL                                                                                                                                                                                                                                                           ', 4, datetime.date(2022, 4, 22), datetime.date(2022, 5, 20), None, 3, 18.84, 'Great Lakes Food Market', '2732 Baker Blvd.', 'Eugene', 'OR', '97403', 'USA')\n",
      "(11041, 'CHOPS                                                                                                                                                                                                                                                           ', 3, datetime.date(2022, 4, 22), datetime.date(2022, 5, 20), datetime.date(2022, 4, 28), 2, 48.22, 'Chop-suey Chinese', 'Hauptstr. 31', 'Bern', None, '3012', 'Switzerland')\n",
      "(11042, 'COMMI                                                                                                                                                                                                                                                           ', 2, datetime.date(2022, 4, 22), datetime.date(2022, 5, 6), datetime.date(2022, 5, 1), 1, 29.99, 'Comrcio Mineiro', 'Av. dos Lusadas, 23', 'Sao Paulo', 'SP', '05432-043', 'Brazil')\n",
      "(11043, 'SPECD                                                                                                                                                                                                                                                           ', 5, datetime.date(2022, 4, 22), datetime.date(2022, 5, 20), datetime.date(2022, 4, 29), 2, 8.8, 'Spcialits du monde', '25, rue Lauriston', 'Paris', None, '75016', 'France')\n",
      "(11044, 'WOLZA                                                                                                                                                                                                                                                           ', 4, datetime.date(2022, 4, 23), datetime.date(2022, 5, 21), datetime.date(2022, 5, 1), 1, 8.72, 'Wolski Zajazd', 'ul. Filtrowa 68', 'Warszawa', None, '01-012', 'Poland')\n",
      "(11045, 'BOTTM                                                                                                                                                                                                                                                           ', 6, datetime.date(2022, 4, 23), datetime.date(2022, 5, 21), None, 2, 70.58, 'Bottom-Dollar Markets', '23 Tsawassen Blvd.', 'Tsawassen', 'BC', 'T2F 8M4', 'Canada')\n",
      "(11046, 'WANDK                                                                                                                                                                                                                                                           ', 8, datetime.date(2022, 4, 23), datetime.date(2022, 5, 21), datetime.date(2022, 4, 24), 2, 71.64, 'Die Wandernde Kuh', 'Adenauerallee 900', 'Stuttgart', None, '70563', 'Germany')\n",
      "(11047, 'EASTC                                                                                                                                                                                                                                                           ', 7, datetime.date(2022, 4, 24), datetime.date(2022, 5, 22), datetime.date(2022, 5, 1), 3, 46.62, 'Eastern Connection', '35 King George', 'London', None, 'WX3 6FW', 'UK')\n",
      "(11048, 'BOTTM                                                                                                                                                                                                                                                           ', 7, datetime.date(2022, 4, 24), datetime.date(2022, 5, 22), datetime.date(2022, 4, 30), 3, 24.12, 'Bottom-Dollar Markets', '23 Tsawassen Blvd.', 'Tsawassen', 'BC', 'T2F 8M4', 'Canada')\n",
      "(11049, 'GOURL                                                                                                                                                                                                                                                           ', 3, datetime.date(2022, 4, 24), datetime.date(2022, 5, 22), datetime.date(2022, 5, 4), 1, 8.34, 'Gourmet Lanchonetes', 'Av. Brasil, 442', 'Campinas', 'SP', '04876-786', 'Brazil')\n",
      "(11050, 'FOLKO                                                                                                                                                                                                                                                           ', 8, datetime.date(2022, 4, 27), datetime.date(2022, 5, 25), datetime.date(2022, 5, 5), 2, 59.41, 'Folk och f HB', 'kergatan 24', 'Brcke', None, 'S-844 67', 'Sweden')\n",
      "(11051, 'LAMAI                                                                                                                                                                                                                                                           ', 7, datetime.date(2022, 4, 27), datetime.date(2022, 5, 25), None, 3, 2.79, 'La maison d-Asie', '1 rue Alsace-Lorraine', 'Toulouse', None, '31000', 'France')\n",
      "(11052, 'HANAR                                                                                                                                                                                                                                                           ', 3, datetime.date(2022, 4, 27), datetime.date(2022, 5, 25), datetime.date(2022, 5, 1), 1, 67.26, 'Hanari Carnes', 'Rua do Pao, 67', 'Rio de Janeiro', 'RJ', '05454-876', 'Brazil')\n",
      "(11053, 'PICCO                                                                                                                                                                                                                                                           ', 2, datetime.date(2022, 4, 27), datetime.date(2022, 5, 25), datetime.date(2022, 4, 29), 2, 53.05, 'Piccolo und mehr', 'Geislweg 14', 'Salzburg', None, '5020', 'Austria')\n",
      "(10855, 'OLDWO                                                                                                                                                                                                                                                           ', 3, datetime.date(2022, 1, 27), datetime.date(2022, 2, 24), datetime.date(2022, 2, 4), 1, 170.97, 'Old World Delicatessen', '2743 Bering St.', 'Anchorage', 'AK', '99508', 'USA')\n",
      "(10866, 'BERGS                                                                                                                                                                                                                                                           ', 5, datetime.date(2022, 2, 3), datetime.date(2022, 3, 3), datetime.date(2022, 2, 12), 1, 109.11, 'Berglunds snabbkp', 'Berguvsvgen 8', 'Lule', None, 'S-958 22', 'Sweden')\n",
      "(10867, 'LONEP                                                                                                                                                                                                                                                           ', 6, datetime.date(2022, 2, 3), datetime.date(2022, 3, 17), datetime.date(2022, 2, 11), 1, 1.93, 'Lonesome Pine Restaurant', '89 Chiaroscuro Rd.', 'Portland', 'OR', '97219', 'USA')\n",
      "(10876, 'BONAP                                                                                                                                                                                                                                                           ', 7, datetime.date(2022, 2, 9), datetime.date(2022, 3, 9), datetime.date(2022, 2, 12), 3, 60.42, 'Bon app-', '12, rue des Bouchers', 'Marseille', None, '13008', 'France')\n",
      "(10877, 'RICAR                                                                                                                                                                                                                                                           ', 1, datetime.date(2022, 2, 9), datetime.date(2022, 3, 9), datetime.date(2022, 2, 19), 1, 38.06, 'Ricardo Adocicados', 'Av. Copacabana, 267', 'Rio de Janeiro', 'RJ', '02389-890', 'Brazil')\n",
      "(10886, 'HANAR                                                                                                                                                                                                                                                           ', 1, datetime.date(2022, 2, 13), datetime.date(2022, 3, 13), datetime.date(2022, 3, 2), 1, 4.99, 'Hanari Carnes', 'Rua do Pao, 67', 'Rio de Janeiro', 'RJ', '05454-876', 'Brazil')\n",
      "(10887, 'GALED                                                                                                                                                                                                                                                           ', 8, datetime.date(2022, 2, 13), datetime.date(2022, 3, 13), datetime.date(2022, 2, 16), 3, 1.25, 'Galera del gastronmo', 'Rambla de Catalua, 23', 'Barcelona', None, '8022', 'Spain')\n",
      "(10896, 'MAISD                                                                                                                                                                                                                                                           ', 7, datetime.date(2022, 2, 19), datetime.date(2022, 3, 19), datetime.date(2022, 2, 27), 3, 32.45, 'Maison Dewey', 'Rue Joseph-Bens 532', 'Bruxelles', None, 'B-1180', 'Belgium')\n",
      "(10897, 'HUNGO                                                                                                                                                                                                                                                           ', 3, datetime.date(2022, 2, 19), datetime.date(2022, 3, 19), datetime.date(2022, 2, 25), 2, 603.54, 'Hungry Owl All-Night Grocers', '8 Johnstown Road', 'Cork', 'Co. Cork', None, 'Ireland')\n",
      "(10906, 'WOLZA                                                                                                                                                                                                                                                           ', 4, datetime.date(2022, 2, 25), datetime.date(2022, 3, 11), datetime.date(2022, 3, 3), 3, 26.29, 'Wolski Zajazd', 'ul. Filtrowa 68', 'Warszawa', None, '01-012', 'Poland')\n",
      "(10907, 'SPECD                                                                                                                                                                                                                                                           ', 6, datetime.date(2022, 2, 25), datetime.date(2022, 3, 25), datetime.date(2022, 2, 27), 3, 9.19, 'Spcialits du monde', '25, rue Lauriston', 'Paris', None, '75016', 'France')\n",
      "(10908, 'REGGC                                                                                                                                                                                                                                                           ', 4, datetime.date(2022, 2, 26), datetime.date(2022, 3, 26), datetime.date(2022, 3, 6), 2, 32.96, 'Reggiani Caseifici', 'Strada Provinciale 124', 'Reggio Emilia', None, '42100', 'Italy')\n",
      "(10909, 'SANTG                                                                                                                                                                                                                                                           ', 1, datetime.date(2022, 2, 26), datetime.date(2022, 3, 26), datetime.date(2022, 3, 10), 2, 53.05, 'Sant Gourmet', 'Erling Skakkes gate 78', 'Stavern', None, '4110', 'Norway')\n",
      "(10910, 'WILMK                                                                                                                                                                                                                                                           ', 1, datetime.date(2022, 2, 26), datetime.date(2022, 3, 26), datetime.date(2022, 3, 4), 3, 38.11, 'Wilman Kala', 'Keskuskatu 45', 'Helsinki', None, '21240', 'Finland')\n",
      "(10911, 'GODOS                                                                                                                                                                                                                                                           ', 3, datetime.date(2022, 2, 26), datetime.date(2022, 3, 26), datetime.date(2022, 3, 5), 1, 38.19, 'Godos Cocina Tpica', 'C/ Romero, 33', 'Sevilla', None, '41101', 'Spain')\n",
      "(10912, 'HUNGO                                                                                                                                                                                                                                                           ', 2, datetime.date(2022, 2, 26), datetime.date(2022, 3, 26), datetime.date(2022, 3, 18), 2, 580.91, 'Hungry Owl All-Night Grocers', '8 Johnstown Road', 'Cork', 'Co. Cork', None, 'Ireland')\n",
      "(10913, 'QUEEN                                                                                                                                                                                                                                                           ', 4, datetime.date(2022, 2, 26), datetime.date(2022, 3, 26), datetime.date(2022, 3, 4), 1, 33.05, 'Queen Cozinha', 'Alameda dos Canrios, 891', 'Sao Paulo', 'SP', '05487-020', 'Brazil')\n",
      "(10914, 'QUEEN                                                                                                                                                                                                                                                           ', 6, datetime.date(2022, 2, 27), datetime.date(2022, 3, 27), datetime.date(2022, 3, 2), 1, 21.19, 'Queen Cozinha', 'Alameda dos Canrios, 891', 'Sao Paulo', 'SP', '05487-020', 'Brazil')\n",
      "(10915, 'TORTU                                                                                                                                                                                                                                                           ', 2, datetime.date(2022, 2, 27), datetime.date(2022, 3, 27), datetime.date(2022, 3, 2), 2, 3.51, 'Tortuga Restaurante', 'Avda. Azteca 123', 'Mxico D.F.', None, '5033', 'Mexico')\n",
      "(10916, 'RANCH                                                                                                                                                                                                                                                           ', 1, datetime.date(2022, 2, 27), datetime.date(2022, 3, 27), datetime.date(2022, 3, 9), 2, 63.77, 'Rancho grande', 'Av. del Libertador 900', 'Buenos Aires', None, '1010', 'Argentina')\n",
      "(10917, 'ROMEY                                                                                                                                                                                                                                                           ', 4, datetime.date(2022, 3, 2), datetime.date(2022, 3, 30), datetime.date(2022, 3, 11), 2, 8.29, 'Romero y tomillo', 'Gran Va, 1', 'Madrid', None, '28001', 'Spain')\n",
      "(10918, 'BOTTM                                                                                                                                                                                                                                                           ', 3, datetime.date(2022, 3, 2), datetime.date(2022, 3, 30), datetime.date(2022, 3, 11), 3, 48.83, 'Bottom-Dollar Markets', '23 Tsawassen Blvd.', 'Tsawassen', 'BC', 'T2F 8M4', 'Canada')\n",
      "(11057, 'NORTS                                                                                                                                                                                                                                                           ', 3, datetime.date(2022, 4, 29), datetime.date(2022, 5, 27), datetime.date(2022, 5, 1), 3, 4.13, 'North/South', 'South House 300 Queensbridge', 'London', None, 'SW7 1RZ', 'UK')\n",
      "(11058, 'BLAUS                                                                                                                                                                                                                                                           ', 9, datetime.date(2022, 4, 29), datetime.date(2022, 5, 27), None, 3, 31.14, 'Blauer See Delikatessen', 'Forsterstr. 57', 'Mannheim', None, '68306', 'Germany')\n",
      "(11059, 'RICAR                                                                                                                                                                                                                                                           ', 2, datetime.date(2022, 4, 29), datetime.date(2022, 6, 10), None, 2, 85.8, 'Ricardo Adocicados', 'Av. Copacabana, 267', 'Rio de Janeiro', 'RJ', '02389-890', 'Brazil')\n",
      "(11060, 'FRANS                                                                                                                                                                                                                                                           ', 2, datetime.date(2022, 4, 30), datetime.date(2022, 5, 28), datetime.date(2022, 5, 4), 2, 10.98, 'Franchi S.p.A.', 'Via Monte Bianco 34', 'Torino', None, '10100', 'Italy')\n",
      "(11061, 'GREAL                                                                                                                                                                                                                                                           ', 4, datetime.date(2022, 4, 30), datetime.date(2022, 6, 11), None, 3, 14.01, 'Great Lakes Food Market', '2732 Baker Blvd.', 'Eugene', 'OR', '97403', 'USA')\n",
      "(11062, 'REGGC                                                                                                                                                                                                                                                           ', 4, datetime.date(2022, 4, 30), datetime.date(2022, 5, 28), None, 2, 29.93, 'Reggiani Caseifici', 'Strada Provinciale 124', 'Reggio Emilia', None, '42100', 'Italy')\n",
      "(11063, 'HUNGO                                                                                                                                                                                                                                                           ', 3, datetime.date(2022, 4, 30), datetime.date(2022, 5, 28), datetime.date(2022, 5, 6), 2, 81.73, 'Hungry Owl All-Night Grocers', '8 Johnstown Road', 'Cork', 'Co. Cork', None, 'Ireland')\n",
      "(11064, 'SAVEA                                                                                                                                                                                                                                                           ', 1, datetime.date(2022, 5, 1), datetime.date(2022, 5, 29), datetime.date(2022, 5, 4), 1, 30.09, 'Save-a-lot Markets', '187 Suffolk Ln.', 'Boise', 'ID', '83720', 'USA')\n",
      "(11065, 'LILAS                                                                                                                                                                                                                                                           ', 8, datetime.date(2022, 5, 1), datetime.date(2022, 5, 29), None, 1, 12.91, 'LILA-Supermercado', 'Carrera 52 con Ave. Bolvar #65-98 Llano Largo', 'Barquisimeto', 'Lara', '3508', 'Venezuela')\n",
      "(11066, 'WHITC                                                                                                                                                                                                                                                           ', 7, datetime.date(2022, 5, 1), datetime.date(2022, 5, 29), datetime.date(2022, 5, 4), 2, 44.72, 'White Clover Markets', '1029 - 12th Ave. S.', 'Seattle', 'WA', '98124', 'USA')\n",
      "(11074, 'SIMOB                                                                                                                                                                                                                                                           ', 7, datetime.date(2022, 5, 6), datetime.date(2022, 6, 3), None, 2, 18.44, 'Simons bistro', 'Vinbltet 34', 'Kobenhavn', None, '1734', 'Denmark')\n",
      "(11075, 'RICSU                                                                                                                                                                                                                                                           ', 8, datetime.date(2022, 5, 6), datetime.date(2022, 6, 3), None, 2, 6.19, 'Richter Supermarkt', 'Starenweg 5', 'Genve', None, '1204', 'Switzerland')\n",
      "(11076, 'BONAP                                                                                                                                                                                                                                                           ', 4, datetime.date(2022, 5, 6), datetime.date(2022, 6, 3), None, 2, 38.28, 'Bon app-', '12, rue des Bouchers', 'Marseille', None, '13008', 'France')\n",
      "(11077, 'RATTC                                                                                                                                                                                                                                                           ', 1, datetime.date(2022, 5, 6), datetime.date(2022, 6, 3), None, 2, 8.53, 'Rattlesnake Canyon Grocery', '2817 Milton Dr.', 'Albuquerque', 'NM', '87110', 'USA')\n",
      "(10919, 'LINOD                                                                                                                                                                                                                                                           ', 2, datetime.date(2022, 3, 2), datetime.date(2022, 3, 30), datetime.date(2022, 3, 4), 2, 19.8, 'LINO-Delicateses', 'Ave. 5 de Mayo Porlamar', 'I. de Margarita', 'Nueva Esparta', '4980', 'Venezuela')\n",
      "(10920, 'AROUT                                                                                                                                                                                                                                                           ', 4, datetime.date(2022, 3, 3), datetime.date(2022, 3, 31), datetime.date(2022, 3, 9), 2, 29.61, 'Around the Horn', 'Brook Farm Stratford St. Mary', 'Colchester', 'Essex', 'CO7 6JX', 'UK')\n",
      "(10921, 'VAFFE                                                                                                                                                                                                                                                           ', 1, datetime.date(2022, 3, 3), datetime.date(2022, 4, 14), datetime.date(2022, 3, 9), 1, 176.48, 'Vaffeljernet', 'Smagsloget 45', 'rhus', None, '8200', 'Denmark')\n",
      "(10922, 'HANAR                                                                                                                                                                                                                                                           ', 5, datetime.date(2022, 3, 3), datetime.date(2022, 3, 31), datetime.date(2022, 3, 5), 3, 62.74, 'Hanari Carnes', 'Rua do Pao, 67', 'Rio de Janeiro', 'RJ', '05454-876', 'Brazil')\n",
      "(10923, 'LAMAI                                                                                                                                                                                                                                                           ', 7, datetime.date(2022, 3, 3), datetime.date(2022, 4, 14), datetime.date(2022, 3, 13), 3, 68.26, 'La maison d-Asie', '1 rue Alsace-Lorraine', 'Toulouse', None, '31000', 'France')\n",
      "(10924, 'BERGS                                                                                                                                                                                                                                                           ', 3, datetime.date(2022, 3, 4), datetime.date(2022, 4, 1), datetime.date(2022, 4, 8), 2, 151.52, 'Berglunds snabbkp', 'Berguvsvgen 8', 'Lule', None, 'S-958 22', 'Sweden')\n",
      "(10925, 'HANAR                                                                                                                                                                                                                                                           ', 3, datetime.date(2022, 3, 4), datetime.date(2022, 4, 1), datetime.date(2022, 3, 13), 1, 2.27, 'Hanari Carnes', 'Rua do Pao, 67', 'Rio de Janeiro', 'RJ', '05454-876', 'Brazil')\n",
      "(10926, 'ANATR                                                                                                                                                                                                                                                           ', 4, datetime.date(2022, 3, 4), datetime.date(2022, 4, 1), datetime.date(2022, 3, 11), 3, 39.92, 'Ana Trujillo Emparedados y helados', 'Avda. de la Constitucin 2222', 'Mxico D.F.', None, '5021', 'Mexico')\n",
      "(10930, 'SUPRD                                                                                                                                                                                                                                                           ', 4, datetime.date(2022, 3, 6), datetime.date(2022, 4, 17), datetime.date(2022, 3, 18), 3, 15.55, 'Suprmes dlices', 'Boulevard Tirou, 255', 'Charleroi', None, 'B-6000', 'Belgium')\n",
      "(10931, 'RICSU                                                                                                                                                                                                                                                           ', 4, datetime.date(2022, 3, 6), datetime.date(2022, 3, 20), datetime.date(2022, 3, 19), 2, 13.6, 'Richter Supermarkt', 'Starenweg 5', 'Genve', None, '1204', 'Switzerland')\n",
      "(10932, 'BONAP                                                                                                                                                                                                                                                           ', 8, datetime.date(2022, 3, 6), datetime.date(2022, 4, 3), datetime.date(2022, 3, 24), 1, 134.64, 'Bon app-', '12, rue des Bouchers', 'Marseille', None, '13008', 'France')\n",
      "(10933, 'ISLAT                                                                                                                                                                                                                                                           ', 6, datetime.date(2022, 3, 6), datetime.date(2022, 4, 3), datetime.date(2022, 3, 16), 3, 54.15, 'Island Trading', 'Garden House Crowther Way', 'Cowes', 'Isle of Wight', 'PO31 7PJ', 'UK')\n",
      "(10934, 'LEHMS                                                                                                                                                                                                                                                           ', 3, datetime.date(2022, 3, 9), datetime.date(2022, 4, 6), datetime.date(2022, 3, 12), 3, 32.01, 'Lehmanns Marktstand', 'Magazinweg 7', 'Frankfurt a.M.', None, '60528', 'Germany')\n",
      "(10935, 'WELLI                                                                                                                                                                                                                                                           ', 4, datetime.date(2022, 3, 9), datetime.date(2022, 4, 6), datetime.date(2022, 3, 18), 3, 47.59, 'Wellington Importadora', 'Rua do Mercado, 12', 'Resende', 'SP', '08737-363', 'Brazil')\n",
      "(10936, 'GREAL                                                                                                                                                                                                                                                           ', 3, datetime.date(2022, 3, 9), datetime.date(2022, 4, 6), datetime.date(2022, 3, 18), 2, 33.68, 'Great Lakes Food Market', '2732 Baker Blvd.', 'Eugene', 'OR', '97403', 'USA')\n",
      "(10940, 'BONAP                                                                                                                                                                                                                                                           ', 8, datetime.date(2022, 3, 11), datetime.date(2022, 4, 8), datetime.date(2022, 3, 23), 3, 19.77, 'Bon app-', '12, rue des Bouchers', 'Marseille', None, '13008', 'France')\n",
      "(10941, 'SAVEA                                                                                                                                                                                                                                                           ', 7, datetime.date(2022, 3, 11), datetime.date(2022, 4, 8), datetime.date(2022, 3, 20), 2, 400.81, 'Save-a-lot Markets', '187 Suffolk Ln.', 'Boise', 'ID', '83720', 'USA')\n",
      "(10942, 'REGGC                                                                                                                                                                                                                                                           ', 9, datetime.date(2022, 3, 11), datetime.date(2022, 4, 8), datetime.date(2022, 3, 18), 3, 17.95, 'Reggiani Caseifici', 'Strada Provinciale 124', 'Reggio Emilia', None, '42100', 'Italy')\n",
      "(10943, 'BSBEV                                                                                                                                                                                                                                                           ', 4, datetime.date(2022, 3, 11), datetime.date(2022, 4, 8), datetime.date(2022, 3, 19), 2, 2.17, 'B-s Beverages', 'Fauntleroy Circus', 'London', None, 'EC2 5NT', 'UK')\n",
      "(10954, 'LINOD                                                                                                                                                                                                                                                           ', 5, datetime.date(2022, 3, 17), datetime.date(2022, 4, 28), datetime.date(2022, 3, 20), 1, 27.91, 'LINO-Delicateses', 'Ave. 5 de Mayo Porlamar', 'I. de Margarita', 'Nueva Esparta', '4980', 'Venezuela')\n",
      "(10955, 'FOLKO                                                                                                                                                                                                                                                           ', 8, datetime.date(2022, 3, 17), datetime.date(2022, 4, 14), datetime.date(2022, 3, 20), 2, 3.26, 'Folk och f HB', 'kergatan 24', 'Brcke', None, 'S-844 67', 'Sweden')\n",
      "(10956, 'BLAUS                                                                                                                                                                                                                                                           ', 6, datetime.date(2022, 3, 17), datetime.date(2022, 4, 28), datetime.date(2022, 3, 20), 2, 44.65, 'Blauer See Delikatessen', 'Forsterstr. 57', 'Mannheim', None, '68306', 'Germany')\n",
      "(10967, 'TOMSP                                                                                                                                                                                                                                                           ', 2, datetime.date(2022, 3, 23), datetime.date(2022, 4, 20), datetime.date(2022, 4, 2), 2, 62.22, 'Toms Spezialitten', 'Luisenstr. 48', 'Mnster', None, '44087', 'Germany')\n",
      "(10968, 'ERNSH                                                                                                                                                                                                                                                           ', 1, datetime.date(2022, 3, 23), datetime.date(2022, 4, 20), datetime.date(2022, 4, 1), 3, 74.6, 'Ernst Handel', 'Kirchgasse 6', 'Graz', None, '8010', 'Austria')\n",
      "(10969, 'COMMI                                                                                                                                                                                                                                                           ', 1, datetime.date(2022, 3, 23), datetime.date(2022, 4, 20), datetime.date(2022, 3, 30), 2, 0.21, 'Comrcio Mineiro', 'Av. dos Lusadas, 23', 'Sao Paulo', 'SP', '05432-043', 'Brazil')\n",
      "(10970, 'BOLID                                                                                                                                                                                                                                                           ', 9, datetime.date(2022, 3, 24), datetime.date(2022, 4, 7), datetime.date(2022, 4, 24), 1, 16.16, 'Blido Comidas preparadas', 'C/ Araquil, 67', 'Madrid', None, '28023', 'Spain')\n",
      "(10971, 'FRANR                                                                                                                                                                                                                                                           ', 2, datetime.date(2022, 3, 24), datetime.date(2022, 4, 21), datetime.date(2022, 4, 2), 2, 121.82, 'France restauration', '54, rue Royale', 'Nantes', None, '44000', 'France')\n",
      "(10972, 'LACOR                                                                                                                                                                                                                                                           ', 4, datetime.date(2022, 3, 24), datetime.date(2022, 4, 21), datetime.date(2022, 3, 26), 2, 0.02, 'La corne d-abondance', '67, avenue de l-Europe', 'Versailles', None, '78000', 'France')\n",
      "(10973, 'LACOR                                                                                                                                                                                                                                                           ', 6, datetime.date(2022, 3, 24), datetime.date(2022, 4, 21), datetime.date(2022, 3, 27), 2, 15.17, 'La corne d-abondance', '67, avenue de l-Europe', 'Versailles', None, '78000', 'France')\n",
      "(10980, 'FOLKO                                                                                                                                                                                                                                                           ', 4, datetime.date(2022, 3, 27), datetime.date(2022, 5, 8), datetime.date(2022, 4, 17), 1, 1.26, 'Folk och f HB', 'kergatan 24', 'Brcke', None, 'S-844 67', 'Sweden')\n",
      "(10981, 'HANAR                                                                                                                                                                                                                                                           ', 1, datetime.date(2022, 3, 27), datetime.date(2022, 4, 24), datetime.date(2022, 4, 2), 2, 193.37, 'Hanari Carnes', 'Rua do Pao, 67', 'Rio de Janeiro', 'RJ', '05454-876', 'Brazil')\n",
      "(10982, 'BOTTM                                                                                                                                                                                                                                                           ', 2, datetime.date(2022, 3, 27), datetime.date(2022, 4, 24), datetime.date(2022, 4, 8), 1, 14.01, 'Bottom-Dollar Markets', '23 Tsawassen Blvd.', 'Tsawassen', 'BC', 'T2F 8M4', 'Canada')\n",
      "(10983, 'SAVEA                                                                                                                                                                                                                                                           ', 2, datetime.date(2022, 3, 27), datetime.date(2022, 4, 24), datetime.date(2022, 4, 6), 2, 657.54, 'Save-a-lot Markets', '187 Suffolk Ln.', 'Boise', 'ID', '83720', 'USA')\n",
      "(10994, 'VAFFE                                                                                                                                                                                                                                                           ', 2, datetime.date(2022, 4, 2), datetime.date(2022, 4, 16), datetime.date(2022, 4, 9), 3, 65.53, 'Vaffeljernet', 'Smagsloget 45', 'rhus', None, '8200', 'Denmark')\n",
      "(10995, 'PERIC                                                                                                                                                                                                                                                           ', 1, datetime.date(2022, 4, 2), datetime.date(2022, 4, 30), datetime.date(2022, 4, 6), 3, 46.0, 'Pericles Comidas clsicas', 'Calle Dr. Jorge Cash 321', 'Mxico D.F.', None, '5033', 'Mexico')\n",
      "(10996, 'QUICK                                                                                                                                                                                                                                                           ', 4, datetime.date(2022, 4, 2), datetime.date(2022, 4, 30), datetime.date(2022, 4, 10), 2, 1.12, 'QUICK-Stop', 'Taucherstrae 10', 'Cunewalde', None, '1307', 'Germany')\n",
      "(11000, 'RATTC                                                                                                                                                                                                                                                           ', 2, datetime.date(2022, 4, 6), datetime.date(2022, 5, 4), datetime.date(2022, 4, 14), 3, 55.12, 'Rattlesnake Canyon Grocery', '2817 Milton Dr.', 'Albuquerque', 'NM', '87110', 'USA')\n",
      "(11001, 'FOLKO                                                                                                                                                                                                                                                           ', 2, datetime.date(2022, 4, 6), datetime.date(2022, 5, 4), datetime.date(2022, 4, 14), 2, 197.3, 'Folk och f HB', 'kergatan 24', 'Brcke', None, 'S-844 67', 'Sweden')\n",
      "(11002, 'SAVEA                                                                                                                                                                                                                                                           ', 4, datetime.date(2022, 4, 6), datetime.date(2022, 5, 4), datetime.date(2022, 4, 16), 1, 141.16, 'Save-a-lot Markets', '187 Suffolk Ln.', 'Boise', 'ID', '83720', 'USA')\n",
      "(11003, 'THECR                                                                                                                                                                                                                                                           ', 3, datetime.date(2022, 4, 6), datetime.date(2022, 5, 4), datetime.date(2022, 4, 8), 3, 14.91, 'The Cracker Box', '55 Grizzly Peak Rd.', 'Butte', 'MT', '59801', 'USA')\n",
      "(11027, 'BOTTM                                                                                                                                                                                                                                                           ', 1, datetime.date(2022, 4, 16), datetime.date(2022, 5, 14), datetime.date(2022, 4, 20), 1, 52.52, 'Bottom-Dollar Markets', '23 Tsawassen Blvd.', 'Tsawassen', 'BC', 'T2F 8M4', 'Canada')\n",
      "(11028, 'KOENE                                                                                                                                                                                                                                                           ', 2, datetime.date(2022, 4, 16), datetime.date(2022, 5, 14), datetime.date(2022, 4, 22), 1, 29.59, 'Kniglich Essen', 'Maubelstr. 90', 'Brandenburg', None, '14776', 'Germany')\n",
      "(11029, 'CHOPS                                                                                                                                                                                                                                                           ', 4, datetime.date(2022, 4, 16), datetime.date(2022, 5, 14), datetime.date(2022, 4, 27), 1, 47.84, 'Chop-suey Chinese', 'Hauptstr. 31', 'Bern', None, '3012', 'Switzerland')\n",
      "(11054, 'CACTU                                                                                                                                                                                                                                                           ', 8, datetime.date(2022, 4, 28), datetime.date(2022, 5, 26), None, 1, 0.33, 'Cactus Comidas para llevar', 'Cerrito 333', 'Buenos Aires', None, '1010', 'Argentina')\n",
      "(11055, 'HILAA                                                                                                                                                                                                                                                           ', 7, datetime.date(2022, 4, 28), datetime.date(2022, 5, 26), datetime.date(2022, 5, 5), 2, 120.92, 'HILARION-Abastos', 'Carrera 22 con Ave. Carlos Soublette #8-35', 'San Cristbal', 'Tchira', '5022', 'Venezuela')\n",
      "(11056, 'EASTC                                                                                                                                                                                                                                                           ', 8, datetime.date(2022, 4, 28), datetime.date(2022, 5, 12), datetime.date(2022, 5, 1), 2, 278.96, 'Eastern Connection', '35 King George', 'London', None, 'WX3 6FW', 'UK')\n",
      "(11067, 'DRACD                                                                                                                                                                                                                                                           ', 1, datetime.date(2022, 5, 4), datetime.date(2022, 5, 18), datetime.date(2022, 5, 6), 2, 7.98, 'Drachenblut Delikatessen', 'Walserweg 21', 'Aachen', None, '52066', 'Germany')\n",
      "(11068, 'QUEEN                                                                                                                                                                                                                                                           ', 8, datetime.date(2022, 5, 4), datetime.date(2022, 6, 1), None, 2, 81.75, 'Queen Cozinha', 'Alameda dos Canrios, 891', 'Sao Paulo', 'SP', '05487-020', 'Brazil')\n",
      "(11069, 'TORTU                                                                                                                                                                                                                                                           ', 1, datetime.date(2022, 5, 4), datetime.date(2022, 6, 1), datetime.date(2022, 5, 6), 2, 15.67, 'Tortuga Restaurante', 'Avda. Azteca 123', 'Mxico D.F.', None, '5033', 'Mexico')\n",
      "(11070, 'LEHMS                                                                                                                                                                                                                                                           ', 2, datetime.date(2022, 5, 5), datetime.date(2022, 6, 2), None, 1, 136.0, 'Lehmanns Marktstand', 'Magazinweg 7', 'Frankfurt a.M.', None, '60528', 'Germany')\n",
      "(11071, 'LILAS                                                                                                                                                                                                                                                           ', 1, datetime.date(2022, 5, 5), datetime.date(2022, 6, 2), None, 1, 0.93, 'LILA-Supermercado', 'Carrera 52 con Ave. Bolvar #65-98 Llano Largo', 'Barquisimeto', 'Lara', '3508', 'Venezuela')\n",
      "(11072, 'ERNSH                                                                                                                                                                                                                                                           ', 4, datetime.date(2022, 5, 5), datetime.date(2022, 6, 2), None, 2, 258.64, 'Ernst Handel', 'Kirchgasse 6', 'Graz', None, '8010', 'Austria')\n",
      "(11073, 'PERIC                                                                                                                                                                                                                                                           ', 2, datetime.date(2022, 5, 5), datetime.date(2022, 6, 2), None, 2, 24.95, 'Pericles Comidas clsicas', 'Calle Dr. Jorge Cash 321', 'Mxico D.F.', None, '5033', 'Mexico')\n"
     ]
    }
   ],
   "source": [
    "cur.execute(\n",
    "    \"SELECT * FROM orders WHERE order_date BETWEEN '2022-01-01' AND '2022-12-31';\")\n",
    "\n",
    "tables = cur.fetchall()\n",
    "\n",
    "for table in tables:\n",
    "    print(table)"
   ]
  },
  {
   "cell_type": "markdown",
   "id": "75b74b1b",
   "metadata": {},
   "source": [
    "<h2>Carregando dados externos Redshift Spectrum (Bucket S3)</h2>\n",
    "\n",
    "<h6>Obs.: A role IAM deve ser antes associada ao cluster Redshift.</h6>\n"
   ]
  },
  {
   "cell_type": "code",
   "execution_count": 18,
   "id": "ac22f5a5",
   "metadata": {},
   "outputs": [],
   "source": [
    "cur.execute(f\"create external schema schema_dev \\\n",
    "from data catalog \\\n",
    "database '{database}' \\\n",
    "iam_role '{role_iam}' \\\n",
    "create external database if not exists;\")"
   ]
  },
  {
   "cell_type": "code",
   "execution_count": 20,
   "id": "607b53eb",
   "metadata": {},
   "outputs": [],
   "source": [
    "cur.execute(f\"create external table schema_dev.employees ( \\\n",
    "EmployeeID bigint, \\\n",
    "LastName varchar, \\\n",
    "FirstName varchar, \\\n",
    "Title varchar, \\\n",
    "TitleOfCourtesy varchar, \\\n",
    "BirthDate bigint, \\\n",
    "HireDate bigint, \\\n",
    "Address varchar, \\\n",
    "City  varchar, \\\n",
    "Region varchar, \\\n",
    "PostalCode varchar, \\\n",
    "Country varchar, \\\n",
    "HomePhone varchar, \\\n",
    "Extension bigint, \\\n",
    "Notes varchar, \\\n",
    "ReportsTo bigint, \\\n",
    "PhotoPath varchar, \\\n",
    "Salary FLOAT8) \\\n",
    "stored as parquet location '{s3_bucket}redshift/';\")"
   ]
  },
  {
   "cell_type": "markdown",
   "id": "63a3c237",
   "metadata": {},
   "source": [
    "Verificando a existencia da tabela externa employees"
   ]
  },
  {
   "cell_type": "code",
   "execution_count": 21,
   "id": "3e879274",
   "metadata": {},
   "outputs": [
    {
     "name": "stdout",
     "output_type": "stream",
     "text": [
      "employees\n"
     ]
    }
   ],
   "source": [
    "cur.execute(\"SELECT tablename FROM svv_external_tables;\")\n",
    "\n",
    "tables = cur.fetchall()\n",
    "\n",
    "for table in tables:\n",
    "    print(table[0])"
   ]
  },
  {
   "cell_type": "markdown",
   "id": "24c783a7",
   "metadata": {},
   "source": [
    "Consulta na tabela externa employees, criada apartir de um arquivo parquet do Bucket S3."
   ]
  },
  {
   "cell_type": "code",
   "execution_count": 22,
   "id": "fa6f993a",
   "metadata": {},
   "outputs": [
    {
     "name": "stdout",
     "output_type": "stream",
     "text": [
      "(1, 'Davolio', 'Nancy', 'Sales Representative', 'Ms.', -664761600000000, 704678400000000, '507 - 20th Ave. E.Apt. 2A', 'Seattle', 'WA', '98122', 'USA', '(206) 555-9857', 5467, 'Education includes a BA in psychology from Colorado State University in 1970.  She also completed \"The Art of the Cold Call.\"  Nancy is a member of Toastmasters International.', 2, 'http://accweb/emmployees/davolio.bmp', 2954.55)\n",
      "(2, 'Fuller', 'Andrew', 'Vice President, Sales', 'Dr.', -563846400000000, 713750400000000, '908 W. Capital Way', 'Tacoma', 'WA', '98401', 'USA', '(206) 555-9482', 3457, 'Andrew received his BTS commercial in 1974 and a Ph.D. in international marketing from the University of Dallas in 1981.  He is fluent in French and Italian and reads German.  He joined the company as a sales representative, was promoted to sales manager i', 0, 'http://accweb/emmployees/fuller.bmp', 2254.49)\n",
      "(3, 'Leverling', 'Janet', 'Sales Representative', 'Ms.', -200102400000000, 702086400000000, '722 Moss Bay Blvd.', 'Kirkland', 'WA', '98033', 'USA', '(206) 555-3412', 3355, 'Janet has a BS degree in chemistry from Boston College (1984).  She has also completed a certificate program in food retailing management.  Janet was hired as a sales associate in 1991 and promoted to sales representative in February 1992.', 2, 'http://accweb/emmployees/leverling.bmp', 3119.15)\n",
      "(4, 'Peacock', 'Margaret', 'Sales Representative', 'Mrs.', -1018828800000000, 736387200000000, '4110 Old Redmond Rd.', 'Redmond', 'WA', '98052', 'USA', '(206) 555-8122', 5176, 'Margaret holds a BA in English literature from Concordia College (1958) and an MA from the American Institute of Culinary Arts (1966).  She was assigned to the London office temporarily from July through November 1992.', 2, 'http://accweb/emmployees/peacock.bmp', 1861.08)\n",
      "(5, 'Buchanan', 'Steven', 'Sales Manager', 'Mr.', -468028800000000, 750816000000000, '14 Garrett Hill', 'London', None, 'SW1 8JR', 'UK', '(71) 555-4848', 3453, 'Steven Buchanan graduated from St. Andrews University, Scotland, with a BSC degree in 1976.  Upon joining the company as a sales representative in 1992, he spent 6 months in an orientation program at the Seattle office and then returned to his permanent po', 2, 'http://accweb/emmployees/buchanan.bmp', 1744.21)\n",
      "(6, 'Suyama', 'Michael', 'Sales Representative', 'Mr.', -205200000000000, 750816000000000, 'Coventry House Miner Rd.', 'London', None, 'EC2 7JR', 'UK', '(71) 555-7773', 428, 'Michael is a graduate of Sussex University (MA, economics, 1983) and the University of California at Los Angeles (MBA, marketing, 1986).  He has also taken the courses \"Multi-Cultural Selling\" and \"Time Management for the Sales Professional.\"  He is fluent', 5, 'http://accweb/emmployees/davolio.bmp', 2004.07)\n",
      "(7, 'King', 'Robert', 'Sales Representative', 'Mr.', -302745600000000, 757468800000000, 'Edgeham Hollow Winchester Way', 'London', None, 'RG1 9SP', 'UK', '(71) 555-5598', 465, 'Robert King served in the Peace Corps and traveled extensively before completing his degree in English at the University of Michigan in 1992, the year he joined the company.  After completing a course entitled \"Selling in Europe,\" he was transferred to the', 5, 'http://accweb/emmployees/davolio.bmp', 1991.55)\n",
      "(8, 'Callahan', 'Laura', 'Inside Sales Coordinator', 'Ms.', -378000000000000, 762825600000000, '4726 - 11th Ave. N.E.', 'Seattle', 'WA', '98105', 'USA', '(206) 555-1189', 2344, 'Laura received a BA in psychology from the University of Washington.  She has also completed a course in business French.  She reads and writes French.', 2, 'http://accweb/emmployees/davolio.bmp', 2100.5)\n",
      "(9, 'Dodsworth', 'Anne', 'Sales Representative', 'Ms.', -123984000000000, 784857600000000, '7 Houndstooth Rd.', 'London', None, 'WG2 7LT', 'UK', '(71) 555-4444', 452, 'Anne has a BA degree in English from St. Lawrence College.  She is fluent in French and German.', 5, 'http://accweb/emmployees/davolio.bmp', 2333.33)\n"
     ]
    }
   ],
   "source": [
    "cur.execute(f\"SELECT * FROM {database}.schema_dev.employees;\")\n",
    "\n",
    "tables = cur.fetchall()\n",
    "\n",
    "for table in tables:\n",
    "    print(table)"
   ]
  },
  {
   "cell_type": "code",
   "execution_count": 23,
   "id": "59e598b0",
   "metadata": {},
   "outputs": [
    {
     "name": "stdout",
     "output_type": "stream",
     "text": [
      "('Margaret Peacock', 250187.45025301)\n",
      "('Janet Leverling', 213051.299479961)\n",
      "('Nancy Davolio', 202143.710308552)\n",
      "('Andrew Fuller', 177749.260476589)\n",
      "('Robert King', 141295.990102768)\n",
      "('Laura Callahan', 133301.030065536)\n",
      "('Anne Dodsworth', 82963.9998178482)\n",
      "('Michael Suyama', 78198.0999336243)\n",
      "('Steven Buchanan', 75567.7500033379)\n"
     ]
    }
   ],
   "source": [
    "cur.execute(f\"select e.FirstName + ' ' + e.LastName nome, \\\n",
    "sum(od.unit_price * od.quantity - od.discount) total \\\n",
    "from order_details od \\\n",
    "inner join orders o on o.order_id = od.order_id \\\n",
    "inner join schema_dev.employees e on e.employeeid = o.employee_id \\\n",
    "group by nome \\\n",
    "order by total desc;\")\n",
    "\n",
    "tables = cur.fetchall()\n",
    "\n",
    "for table in tables:\n",
    "    print(table)"
   ]
  },
  {
   "cell_type": "markdown",
   "id": "6b3dc8ce",
   "metadata": {},
   "source": [
    "<h2>Carga de dados (Bucket S3)</h2>\n"
   ]
  },
  {
   "cell_type": "markdown",
   "id": "f915083c",
   "metadata": {},
   "source": [
    "Criando a tabela employees que receberá os dados importados do Bucket S3"
   ]
  },
  {
   "cell_type": "code",
   "execution_count": 24,
   "id": "f35dab7a",
   "metadata": {},
   "outputs": [],
   "source": [
    "cur.execute(\"CREATE TABLE employees2 ( \\\n",
    "    employee_id smallint NOT NULL, \\\n",
    "    last_name varchar(20) NOT NULL, \\\n",
    "    first_name varchar(10) NOT NULL, \\\n",
    "    title varchar(30), \\\n",
    "    title_of_courtesy varchar(25), \\\n",
    "    birth_date date, \\\n",
    "    hire_date date, \\\n",
    "    address varchar(60), \\\n",
    "    city varchar(15), \\\n",
    "    region varchar(15), \\\n",
    "    postal_code varchar(10), \\\n",
    "    country varchar(15), \\\n",
    "    home_phone varchar(24), \\\n",
    "    extension varchar(4), \\\n",
    "    notes varchar(max), \\\n",
    "    reports_to smallint, \\\n",
    "    photo_path varchar(255), \\\n",
    "\tsalary real);\")"
   ]
  },
  {
   "cell_type": "markdown",
   "id": "b6b63ed0",
   "metadata": {},
   "source": [
    "Importando dados do arquivo CSV employees.csv para a tabela employees2 com o comando COPY"
   ]
  },
  {
   "cell_type": "code",
   "execution_count": 25,
   "id": "194813b6",
   "metadata": {},
   "outputs": [],
   "source": [
    "cur.execute(f\"copy employees2 \\\n",
    "from '{s3_bucket}employees/employees2.csv' \\\n",
    "CREDENTIALS 'aws_access_key_id={aws_access_key_id};aws_secret_access_key={aws_secret_access_key}' \\\n",
    "delimiter ';' \\\n",
    "region '{aws_region}' \\\n",
    "IGNOREHEADER 1 \\\n",
    "DATEFORMAT AS 'YYYY-MM-DD HH:MI:SS' \\\n",
    "removequotes;\")"
   ]
  },
  {
   "cell_type": "markdown",
   "id": "e73b764c",
   "metadata": {},
   "source": [
    "Verificando dados da tabela employees2"
   ]
  },
  {
   "cell_type": "code",
   "execution_count": 26,
   "id": "eff034ad",
   "metadata": {},
   "outputs": [
    {
     "name": "stdout",
     "output_type": "stream",
     "text": [
      "(1, 'Davolio', 'Nancy', 'Sales Representative', 'Ms.', datetime.date(1948, 12, 8), datetime.date(1992, 5, 1), '507 - 20th Ave. E.Apt. 2A', 'Seattle', 'WA', '98122', 'USA', '(206) 555-9857', '5467', 'Education includes a BA in psychology from Colorado State University in 1970.  She also completed \"\"The Art of the Cold Call.\"\"  Nancy is a member of Toastmasters International.', 2, 'http://accweb/emmployees/davolio.bmp', 2954.55)\n",
      "(2, 'Fuller', 'Andrew', 'Vice President, Sales', 'Dr.', datetime.date(1952, 2, 19), datetime.date(1992, 8, 14), '908 W. Capital Way', 'Tacoma', 'WA', '98401', 'USA', '(206) 555-9482', '3457', 'Andrew received his BTS commercial in 1974 and a Ph.D. in international marketing from the University of Dallas in 1981.  He is fluent in French and Italian and reads German.  He joined the company as a sales representative, was promoted to sales manager in January 1992 and to vice president of sales in March 1993.  Andrew is a member of the Sales Management Roundtable, the Seattle Chamber of Commerce, and the Pacific Rim Importers Association.', 0, 'http://accweb/emmployees/fuller.bmp', 2254.49)\n",
      "(3, 'Leverling', 'Janet', 'Sales Representative', 'Ms.', datetime.date(1963, 8, 30), datetime.date(1992, 4, 1), '722 Moss Bay Blvd.', 'Kirkland', 'WA', '98033', 'USA', '(206) 555-3412', '3355', 'Janet has a BS degree in chemistry from Boston College (1984).  She has also completed a certificate program in food retailing management.  Janet was hired as a sales associate in 1991 and promoted to sales representative in February 1992.', 2, 'http://accweb/emmployees/leverling.bmp', 3119.15)\n",
      "(4, 'Peacock', 'Margaret', 'Sales Representative', 'Mrs.', datetime.date(1937, 9, 19), datetime.date(1993, 5, 3), '4110 Old Redmond Rd.', 'Redmond', 'WA', '98052', 'USA', '(206) 555-8122', '5176', 'Margaret holds a BA in English literature from Concordia College (1958) and an MA from the American Institute of Culinary Arts (1966).  She was assigned to the London office temporarily from July through November 1992.', 2, 'http://accweb/emmployees/peacock.bmp', 1861.08)\n",
      "(5, 'Buchanan', 'Steven', 'Sales Manager', 'Mr.', datetime.date(1955, 3, 4), datetime.date(1993, 10, 17), '14 Garrett Hill', 'London', '', 'SW1 8JR', 'UK', '(71) 555-4848', '3453', 'Steven Buchanan graduated from St. Andrews University, Scotland, with a BSC degree in 1976.  Upon joining the company as a sales representative in 1992, he spent 6 months in an orientation program at the Seattle office and then returned to his permanent post in London.  He was promoted to sales manager in March 1993.  Mr. Buchanan has completed the courses \"\"Successful Telemarketing\"\" and \"\"International Sales Management.\"\"  He is fluent in French.', 2, 'http://accweb/emmployees/buchanan.bmp', 1744.21)\n",
      "(6, 'Suyama', 'Michael', 'Sales Representative', 'Mr.', datetime.date(1963, 7, 2), datetime.date(1993, 10, 17), 'Coventry House Miner Rd.', 'London', '', 'EC2 7JR', 'UK', '(71) 555-7773', '428', 'Michael is a graduate of Sussex University (MA, economics, 1983) and the University of California at Los Angeles (MBA, marketing, 1986).  He has also taken the courses \"\"Multi-Cultural Selling\"\" and \"\"Time Management for the Sales Professional.\"\"  He is fluent in Japanese and can read and write French, Portuguese, and Spanish.', 5, 'http://accweb/emmployees/davolio.bmp', 2004.07)\n",
      "(7, 'King', 'Robert', 'Sales Representative', 'Mr.', datetime.date(1960, 5, 29), datetime.date(1994, 1, 2), 'Edgeham Hollow Winchester Way', 'London', '', 'RG1 9SP', 'UK', '(71) 555-5598', '465', 'Robert King served in the Peace Corps and traveled extensively before completing his degree in English at the University of Michigan in 1992, the year he joined the company.  After completing a course entitled \"\"Selling in Europe,\"\" he was transferred to the London office in March 1993.', 5, 'http://accweb/emmployees/davolio.bmp', 1991.55)\n",
      "(8, 'Callahan', 'Laura', 'Inside Sales Coordinator', 'Ms.', datetime.date(1958, 1, 9), datetime.date(1994, 3, 5), '4726 - 11th Ave. N.E.', 'Seattle', 'WA', '98105', 'USA', '(206) 555-1189', '2344', 'Laura received a BA in psychology from the University of Washington.  She has also completed a course in business French.  She reads and writes French.', 2, 'http://accweb/emmployees/davolio.bmp', 2100.5)\n",
      "(9, 'Dodsworth', 'Anne', 'Sales Representative', 'Ms.', datetime.date(1966, 1, 27), datetime.date(1994, 11, 15), '7 Houndstooth Rd.', 'London', '', 'WG2 7LT', 'UK', '(71) 555-4444', '452', 'Anne has a BA degree in English from St. Lawrence College.  She is fluent in French and German.', 5, 'http://accweb/emmployees/davolio.bmp', 2333.33)\n"
     ]
    }
   ],
   "source": [
    "cur.execute(\"select * from employees2;\")\n",
    "\n",
    "tables = cur.fetchall()\n",
    "\n",
    "for table in tables:\n",
    "    print(table)"
   ]
  },
  {
   "cell_type": "markdown",
   "id": "4d976fd5",
   "metadata": {},
   "source": [
    "<h2>Views e Views Materializadas no Redshift</h2>\n"
   ]
  },
  {
   "cell_type": "markdown",
   "id": "b3095534",
   "metadata": {},
   "source": [
    "Criando a view e view materializada"
   ]
  },
  {
   "cell_type": "code",
   "execution_count": 27,
   "id": "64a7ad8a",
   "metadata": {},
   "outputs": [],
   "source": [
    "cur.execute(\"create view view_employee as \\\n",
    "select \\\n",
    "    e.employee_id, \\\n",
    "    e.first_name, \\\n",
    "    e.last_name, \\\n",
    "    extract(month from o.order_date) as month, \\\n",
    "    extract(year from o.order_date) as year, \\\n",
    "    sum(od.unit_price * od.quantity) as total_sales \\\n",
    "from \\\n",
    "    employees e \\\n",
    "join orders o on e.employee_id = o.employee_id \\\n",
    "join order_details od on o.order_id = od.order_id \\\n",
    "group by \\\n",
    "    e.employee_id, \\\n",
    "    e.first_name, \\\n",
    "    e.last_name, \\\n",
    "    month, \\\n",
    "    year;\")\n",
    "\n",
    "cur.execute(\"create materialized view view_employee_mat as \\\n",
    "select \\\n",
    "    e.employee_id, \\\n",
    "    e.first_name, \\\n",
    "    e.last_name, \\\n",
    "    extract(month from o.order_date) as month, \\\n",
    "    extract(year from o.order_date) as year, \\\n",
    "    sum(od.unit_price * od.quantity) as total_sales \\\n",
    "from \\\n",
    "    employees e \\\n",
    "join orders o on e.employee_id = o.employee_id \\\n",
    "join order_details od on o.order_id = od.order_id \\\n",
    "group by \\\n",
    "    e.employee_id, \\\n",
    "    e.first_name, \\\n",
    "    e.last_name, \\\n",
    "    month, \\\n",
    "    year;\")"
   ]
  },
  {
   "cell_type": "markdown",
   "id": "25dc52de",
   "metadata": {},
   "source": [
    "Analisando diferença de desempenho entre view normal e view materializada com o comando explain"
   ]
  },
  {
   "cell_type": "code",
   "execution_count": 28,
   "id": "ed9d38bf",
   "metadata": {},
   "outputs": [
    {
     "name": "stdout",
     "output_type": "stream",
     "text": [
      "('XN HashAggregate  (cost=49.97..50.00 rows=2 width=93)',)\n",
      "('  ->  XN Hash Join DS_DIST_ALL_NONE  (cost=27.05..49.16 rows=54 width=93)',)\n",
      "('        Hash Cond: (\"outer\".order_id = \"inner\".order_id)',)\n",
      "('        ->  XN Hash Join DS_DIST_ALL_NONE  (cost=0.12..10.60 rows=5 width=89)',)\n",
      "('              Hash Cond: (\"outer\".employee_id = \"inner\".employee_id)',)\n",
      "('              ->  XN Seq Scan on orders o  (cost=0.00..10.38 rows=5 width=8)',)\n",
      "('                    Filter: (employee_id = 7)',)\n",
      "('              ->  XN Hash  (cost=0.11..0.11 rows=1 width=83)',)\n",
      "('                    ->  XN Seq Scan on employees e  (cost=0.00..0.11 rows=1 width=83)',)\n",
      "('                          Filter: (employee_id = 7)',)\n",
      "('        ->  XN Hash  (cost=21.55..21.55 rows=2155 width=8)',)\n",
      "('              ->  XN Seq Scan on order_details od  (cost=0.00..21.55 rows=2155 width=8)',)\n",
      "('----- Tables missing statistics: employees, order_details, orders -----',)\n",
      "('----- Update statistics by running the ANALYZE command on these tables -----',)\n"
     ]
    }
   ],
   "source": [
    "cur.execute(f\"explain select * from view_employee where employee_id = 7\")\n",
    "\n",
    "tables = cur.fetchall()\n",
    "\n",
    "for table in tables:\n",
    "    print(table)"
   ]
  },
  {
   "cell_type": "code",
   "execution_count": 29,
   "id": "24b0a984",
   "metadata": {},
   "outputs": [
    {
     "name": "stdout",
     "output_type": "stream",
     "text": [
      "('XN Seq Scan on mv_tbl__view_employee_mat__0 derived_table1  (cost=0.00..2.40 rows=21 width=38)',)\n",
      "('  Filter: (grvar_1 = 7)',)\n"
     ]
    }
   ],
   "source": [
    "cur.execute(f\"explain select * from view_employee_mat where employee_id = 7\")\n",
    "\n",
    "tables = cur.fetchall()\n",
    "\n",
    "for table in tables:\n",
    "    print(table)"
   ]
  },
  {
   "cell_type": "code",
   "execution_count": 30,
   "id": "c2ed4927",
   "metadata": {},
   "outputs": [],
   "source": [
    "cur.close()\n",
    "conn.close()"
   ]
  }
 ],
 "metadata": {
  "kernelspec": {
   "display_name": "Python 3 (ipykernel)",
   "language": "python",
   "name": "python3"
  },
  "language_info": {
   "codemirror_mode": {
    "name": "ipython",
    "version": 3
   },
   "file_extension": ".py",
   "mimetype": "text/x-python",
   "name": "python",
   "nbconvert_exporter": "python",
   "pygments_lexer": "ipython3",
   "version": "3.11.5"
  }
 },
 "nbformat": 4,
 "nbformat_minor": 5
}

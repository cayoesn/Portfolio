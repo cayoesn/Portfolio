{
 "cells": [
  {
   "cell_type": "markdown",
   "metadata": {},
   "source": [
    "# Snowflake\n",
    "\n",
    "1. Instalando bibliotecas e inicializando variáveis do envs\n",
    "2. Criando os dois bancos de dados e fazendo as conexões\n",
    "3. Rodando scripts DDL no Snowflakes para criar as tabelas do banco Staging e DW\n",
    "4. Criando os streams de dados no banco Staging\n",
    "5. Criando as Tasks no banco Staging\n",
    "6. Testando a inserção de dados e consultados nas tabelas para testar o fluxo de dados\n",
    "7. Encerrando e excluindo as tasks\n",
    "\n",
    "<div class=\"alert alert-danger\">\n",
    "     \n",
    "**Nota**\n",
    " \n",
    "- Este notebook está utilizando o Python 3.10.9 para ser executado, versão superiores a essa ocorre um erro na conexão do snowflake (open ssl 3.0.9).\n",
    "     \n",
    "</div>\n"
   ]
  },
  {
   "cell_type": "code",
   "execution_count": 1,
   "metadata": {},
   "outputs": [
    {
     "name": "stdout",
     "output_type": "stream",
     "text": [
      "Requirement already satisfied: snowflake-connector-python in /home/cayoesn/anaconda3.03/lib/python3.10/site-packages (3.3.0)\n",
      "Requirement already satisfied: platformdirs<4.0.0,>=2.6.0 in /home/cayoesn/.local/lib/python3.10/site-packages (from snowflake-connector-python) (3.10.0)\n",
      "Requirement already satisfied: sortedcontainers>=2.4.0 in /home/cayoesn/anaconda3.03/lib/python3.10/site-packages (from snowflake-connector-python) (2.4.0)\n",
      "Requirement already satisfied: oscrypto<2.0.0 in /home/cayoesn/anaconda3.03/lib/python3.10/site-packages (from snowflake-connector-python) (1.3.0)\n",
      "Requirement already satisfied: pytz in /home/cayoesn/.local/lib/python3.10/site-packages (from snowflake-connector-python) (2023.3)\n",
      "Requirement already satisfied: pycryptodomex!=3.5.0,<4.0.0,>=3.2 in /home/cayoesn/anaconda3.03/lib/python3.10/site-packages (from snowflake-connector-python) (3.19.0)\n",
      "Requirement already satisfied: pyOpenSSL<24.0.0,>=16.2.0 in /home/cayoesn/anaconda3.03/lib/python3.10/site-packages (from snowflake-connector-python) (23.0.0)\n",
      "Requirement already satisfied: cryptography<42.0.0,>=3.1.0 in /home/cayoesn/anaconda3.03/lib/python3.10/site-packages (from snowflake-connector-python) (39.0.1)\n",
      "Requirement already satisfied: cffi<2.0.0,>=1.9 in /home/cayoesn/anaconda3.03/lib/python3.10/site-packages (from snowflake-connector-python) (1.15.1)\n",
      "Requirement already satisfied: packaging in /home/cayoesn/.local/lib/python3.10/site-packages (from snowflake-connector-python) (23.1)\n",
      "Requirement already satisfied: typing-extensions<5,>=4.3 in /home/cayoesn/anaconda3.03/lib/python3.10/site-packages (from snowflake-connector-python) (4.4.0)\n",
      "Requirement already satisfied: asn1crypto<2.0.0,>0.24.0 in /home/cayoesn/anaconda3.03/lib/python3.10/site-packages (from snowflake-connector-python) (1.5.1)\n",
      "Requirement already satisfied: urllib3<1.27,>=1.21.1 in /home/cayoesn/anaconda3.03/lib/python3.10/site-packages (from snowflake-connector-python) (1.26.14)\n",
      "Requirement already satisfied: pyjwt<3.0.0 in /home/cayoesn/anaconda3.03/lib/python3.10/site-packages (from snowflake-connector-python) (2.4.0)\n",
      "Requirement already satisfied: charset-normalizer<4,>=2 in /home/cayoesn/.local/lib/python3.10/site-packages (from snowflake-connector-python) (3.2.0)\n",
      "Requirement already satisfied: tomlkit in /home/cayoesn/anaconda3.03/lib/python3.10/site-packages (from snowflake-connector-python) (0.11.1)\n",
      "Requirement already satisfied: filelock<4,>=3.5 in /home/cayoesn/anaconda3.03/lib/python3.10/site-packages (from snowflake-connector-python) (3.9.0)\n",
      "Requirement already satisfied: certifi>=2017.4.17 in /home/cayoesn/anaconda3.03/lib/python3.10/site-packages (from snowflake-connector-python) (2022.12.7)\n",
      "Requirement already satisfied: idna<4,>=2.5 in /home/cayoesn/anaconda3.03/lib/python3.10/site-packages (from snowflake-connector-python) (3.4)\n",
      "Requirement already satisfied: requests<3.0.0 in /home/cayoesn/.local/lib/python3.10/site-packages (from snowflake-connector-python) (2.31.0)\n",
      "Requirement already satisfied: pycparser in /home/cayoesn/anaconda3.03/lib/python3.10/site-packages (from cffi<2.0.0,>=1.9->snowflake-connector-python) (2.21)\n",
      "Note: you may need to restart the kernel to use updated packages.\n",
      "Requirement already satisfied: python-dotenv in /home/cayoesn/anaconda3.03/lib/python3.10/site-packages (1.0.0)\n",
      "Note: you may need to restart the kernel to use updated packages.\n"
     ]
    }
   ],
   "source": [
    "%pip install snowflake-connector-python\n",
    "%pip install python-dotenv"
   ]
  },
  {
   "cell_type": "code",
   "execution_count": 19,
   "metadata": {},
   "outputs": [
    {
     "data": {
      "text/plain": [
       "True"
      ]
     },
     "execution_count": 19,
     "metadata": {},
     "output_type": "execute_result"
    }
   ],
   "source": [
    "import snowflake.connector\n",
    "from dotenv import load_dotenv\n",
    "import os\n",
    "\n",
    "load_dotenv()"
   ]
  },
  {
   "cell_type": "markdown",
   "metadata": {},
   "source": [
    "## Inicializando variáveis utiilizandas no código com os valores do arquivo env"
   ]
  },
  {
   "cell_type": "code",
   "execution_count": 20,
   "metadata": {},
   "outputs": [],
   "source": [
    "user = os.getenv('SNOWFLAKE_USER')\n",
    "password = os.getenv('SNOWFLAKE_PASSWORD')\n",
    "account = os.getenv('SNOWFLAKE_ACCOUNT')\n",
    "warehouse = os.getenv('SNOWFLAKE_WAREHOUSE')\n",
    "schema = os.getenv('SNOWFLAKE_SCHEMA')\n",
    "\n",
    "database2 = os.getenv('SNOWFLAKE_DATABASE2')\n",
    "database3 = os.getenv('SNOWFLAKE_DATABASE3')"
   ]
  },
  {
   "cell_type": "code",
   "execution_count": 21,
   "metadata": {},
   "outputs": [],
   "source": [
    "conn = snowflake.connector.connect(\n",
    "    user=user,\n",
    "    password=password,\n",
    "    account=account\n",
    ")\n",
    "\n",
    "cur = conn.cursor()"
   ]
  },
  {
   "cell_type": "markdown",
   "metadata": {},
   "source": [
    "## Criando os dois bancos de dados e fazendo as conexões\n",
    "\n",
    "Banco de dados 1: Staging, onde serão armazenados os dados brutos, sem tratamento.\n",
    "\n",
    "Banco de dados 2: DW, onde serão armazenados os dados tratados e prontos para serem consumidos.\n"
   ]
  },
  {
   "cell_type": "code",
   "execution_count": 22,
   "metadata": {},
   "outputs": [],
   "source": [
    "cur.execute(f\"CREATE DATABASE IF NOT EXISTS {database2}\")\n",
    "\n",
    "cur.execute(f\"CREATE DATABASE IF NOT EXISTS {database3}\")\n",
    "\n",
    "conn = snowflake.connector.connect(\n",
    "    user=user,\n",
    "    password=password,\n",
    "    account=account,\n",
    "    warehouse=warehouse,\n",
    "    database=database2,\n",
    "    schema=schema\n",
    ")\n",
    "\n",
    "conn2 = snowflake.connector.connect(\n",
    "    user=user,\n",
    "    password=password,\n",
    "    account=account,\n",
    "    warehouse=warehouse,\n",
    "    database=database3,\n",
    "    schema=schema\n",
    ")\n",
    "\n",
    "cur = conn.cursor()\n",
    "cur2 = conn2.cursor()"
   ]
  },
  {
   "cell_type": "markdown",
   "metadata": {},
   "source": [
    "## Rodando scripts DDL no Snowflakes\n"
   ]
  },
  {
   "cell_type": "markdown",
   "metadata": {},
   "source": [
    "### Criando tabelas no banco Staging\n"
   ]
  },
  {
   "cell_type": "code",
   "execution_count": 23,
   "metadata": {},
   "outputs": [
    {
     "data": {
      "text/plain": [
       "<snowflake.connector.cursor.SnowflakeCursor at 0x7fd8e10cb9d0>"
      ]
     },
     "execution_count": 23,
     "metadata": {},
     "output_type": "execute_result"
    }
   ],
   "source": [
    "query = \"\"\"\n",
    "CREATE TABLE customers (\n",
    "  customer_id INTEGER PRIMARY KEY,\n",
    "  customer_name VARCHAR(50) NOT NULL,\n",
    "  email VARCHAR(50) UNIQUE,\n",
    "  address VARCHAR(100)\n",
    ");\n",
    "\n",
    "CREATE TABLE products (\n",
    "  product_id INTEGER PRIMARY KEY,\n",
    "  product_name VARCHAR(50) NOT NULL,\n",
    "  description VARCHAR(500),\n",
    "  price DECIMAL(10,2) NOT NULL\n",
    ");\n",
    "\n",
    "CREATE TABLE sales (\n",
    "  sale_id INTEGER PRIMARY KEY,\n",
    "  customer_id INTEGER NOT NULL,\n",
    "  product_id INTEGER NOT NULL,\n",
    "  sale_date DATE NOT NULL,\n",
    "  quantity INTEGER NOT NULL,\n",
    "  FOREIGN KEY (customer_id) REFERENCES customers(customer_id),\n",
    "  FOREIGN KEY (product_id) REFERENCES products(product_id)\n",
    ");\n",
    "\"\"\"\n",
    "\n",
    "cur.execute(query, num_statements=3)"
   ]
  },
  {
   "cell_type": "markdown",
   "metadata": {},
   "source": [
    "### Criando tabelas no banco DW\n"
   ]
  },
  {
   "cell_type": "code",
   "execution_count": 24,
   "metadata": {},
   "outputs": [
    {
     "data": {
      "text/plain": [
       "<snowflake.connector.cursor.SnowflakeCursor at 0x7fd8e0fbbf70>"
      ]
     },
     "execution_count": 24,
     "metadata": {},
     "output_type": "execute_result"
    }
   ],
   "source": [
    "query = \"\"\"\n",
    "CREATE TABLE dim_customers (\n",
    "  customer_sk INTEGER AUTOINCREMENT PRIMARY KEY,\n",
    "  customer_id INTEGER NOT NULL UNIQUE,\n",
    "  customer_name VARCHAR(50) NOT NULL,\n",
    "  email VARCHAR(50) UNIQUE,\n",
    "  address VARCHAR(100)\n",
    ");\n",
    "\n",
    "CREATE TABLE dim_products (\n",
    "  product_sk INTEGER AUTOINCREMENT PRIMARY KEY,\n",
    "  product_id INTEGER NOT NULL UNIQUE,\n",
    "  product_name VARCHAR(50) NOT NULL,\n",
    "  description VARCHAR(500),\n",
    "  price DECIMAL(10,2) NOT NULL\n",
    ");\n",
    "\n",
    "CREATE TABLE dim_dates (\n",
    "  date_sk INTEGER AUTOINCREMENT PRIMARY KEY,\n",
    "  date DATE NOT NULL UNIQUE,\n",
    "  day INTEGER NOT NULL,\n",
    "  month INTEGER NOT NULL,\n",
    "  year INTEGER NOT NULL,\n",
    "  quarter INTEGER NOT NULL\n",
    ");\n",
    "\n",
    "CREATE TABLE fact_sales (\n",
    "  sale_sk INTEGER AUTOINCREMENT PRIMARY KEY,\t\n",
    "  sale_id INTEGER,\n",
    "  customer_sk INTEGER NOT NULL,\n",
    "  product_sk INTEGER NOT NULL,\n",
    "  date_sk INTEGER NOT NULL,\n",
    "  quantity INTEGER NOT NULL,\n",
    "  FOREIGN KEY (customer_sk) REFERENCES dim_customers(customer_sk),\n",
    "  FOREIGN KEY (product_sk) REFERENCES dim_products(product_sk),\n",
    "  FOREIGN KEY (date_sk) REFERENCES dim_dates(date_sk)\n",
    ");\n",
    "\"\"\"\n",
    "\n",
    "cur2.execute(query, num_statements=4)"
   ]
  },
  {
   "cell_type": "markdown",
   "metadata": {},
   "source": [
    "### Criando tabela de dimensão de tempo no Banco DW\n"
   ]
  },
  {
   "cell_type": "code",
   "execution_count": 25,
   "metadata": {},
   "outputs": [
    {
     "data": {
      "text/plain": [
       "<snowflake.connector.cursor.SnowflakeCursor at 0x7fd8e0fbbf70>"
      ]
     },
     "execution_count": 25,
     "metadata": {},
     "output_type": "execute_result"
    }
   ],
   "source": [
    "cur2.execute(\"\"\"\n",
    "INSERT  INTO DIM_DATES ( DATE,DAY,MONTH, YEAR, QUARTER)\n",
    "WITH date_range AS (\n",
    "  SELECT\n",
    "    DATEADD(day, ROW_NUMBER() OVER (ORDER BY seq4()) - 1, '2020-01-01') AS date\n",
    "  FROM\n",
    "    TABLE(GENERATOR(rowcount => 2191)) -- 2191 days between '2020-01-01' and '2025-12-31'\n",
    "),\n",
    "date_components AS (\n",
    "  SELECT\n",
    "    date,\n",
    "    EXTRACT(day FROM date) AS day,\n",
    "    EXTRACT(month FROM date) AS month,\n",
    "    EXTRACT(year FROM date) AS year,\n",
    "    EXTRACT(quarter FROM date) AS quarter\n",
    "  FROM\n",
    "    date_range\n",
    ")\n",
    "SELECT  date,day,month, year, quarter FROM  date_components\n",
    "\"\"\")"
   ]
  },
  {
   "cell_type": "markdown",
   "metadata": {},
   "source": [
    "## Criando os streams de dados no banco Staging"
   ]
  },
  {
   "cell_type": "code",
   "execution_count": 26,
   "metadata": {},
   "outputs": [
    {
     "data": {
      "text/plain": [
       "<snowflake.connector.cursor.SnowflakeCursor at 0x7fd8e10cb9d0>"
      ]
     },
     "execution_count": 26,
     "metadata": {},
     "output_type": "execute_result"
    }
   ],
   "source": [
    "cur.execute(\"\"\"create stream customers_stream on table customers\"\"\")\n",
    "cur.execute(\"\"\"create stream products_stream on table products\"\"\")\n",
    "cur.execute(\"\"\"create stream sales_stream on table sales\"\"\")"
   ]
  },
  {
   "cell_type": "markdown",
   "metadata": {},
   "source": [
    "## Criando as Tasks no banco Staging, para carregar os dados dos streams para as tabelas do banco DW.\n"
   ]
  },
  {
   "cell_type": "markdown",
   "metadata": {},
   "source": [
    "### Criando task da tabela de dim_customers"
   ]
  },
  {
   "cell_type": "code",
   "execution_count": 27,
   "metadata": {},
   "outputs": [
    {
     "data": {
      "text/plain": [
       "<snowflake.connector.cursor.SnowflakeCursor at 0x7fd8e10cb9d0>"
      ]
     },
     "execution_count": 27,
     "metadata": {},
     "output_type": "execute_result"
    }
   ],
   "source": [
    "cur.execute(f\"\"\"\n",
    "create or replace task dim_customers_task\n",
    "warehouse = WAREHOUSEDEV\n",
    "SCHEDULE = '1 MINUTE'\n",
    "AS\n",
    "insert into {database3}.{schema}.dim_customers (customer_id, customer_name, email, address)\n",
    "select\n",
    "    cs.customer_id,\n",
    "    cs.customer_name,\n",
    "    cs.email,\n",
    "    cs.address\n",
    "from\n",
    "    customers_stream cs\n",
    "where cs.METADATA$ACTION = 'INSERT'\n",
    "\"\"\")"
   ]
  },
  {
   "cell_type": "markdown",
   "metadata": {},
   "source": [
    "### Criando task da tabela de dim_products"
   ]
  },
  {
   "cell_type": "code",
   "execution_count": 28,
   "metadata": {},
   "outputs": [
    {
     "data": {
      "text/plain": [
       "<snowflake.connector.cursor.SnowflakeCursor at 0x7fd8e10cb9d0>"
      ]
     },
     "execution_count": 28,
     "metadata": {},
     "output_type": "execute_result"
    }
   ],
   "source": [
    "cur.execute(f\"\"\"\n",
    "create or replace task dim_products_task\n",
    "warehouse = WAREHOUSEDEV\n",
    "after dim_customers_task\n",
    "AS\n",
    "insert into {database3}.{schema}.dim_products (product_id, product_name, description, price)\n",
    "select\n",
    "    ps.product_id,\n",
    "    ps.product_name,\n",
    "    ps.description,\n",
    "    ps.price\n",
    "from\n",
    "    products_stream ps\n",
    "where \n",
    "    ps.METADATA$ACTION = 'INSERT'\n",
    "\"\"\")"
   ]
  },
  {
   "cell_type": "markdown",
   "metadata": {},
   "source": [
    "### Criando task da tabela de sales_stream"
   ]
  },
  {
   "cell_type": "code",
   "execution_count": 29,
   "metadata": {},
   "outputs": [
    {
     "data": {
      "text/plain": [
       "<snowflake.connector.cursor.SnowflakeCursor at 0x7fd8e10cb9d0>"
      ]
     },
     "execution_count": 29,
     "metadata": {},
     "output_type": "execute_result"
    }
   ],
   "source": [
    "cur.execute(f\"\"\"\n",
    "create or replace task fact_sales_task\n",
    "warehouse = WAREHOUSEDEV\n",
    "after dim_products_task\n",
    "AS\n",
    "insert into {database3}.{schema}.FACT_SALES (sale_id, customer_sk, product_sk, date_sk, quantity)\n",
    "select\n",
    "    ss.sale_id,\n",
    "    (select max(customer_sk) from {database3}.{schema}.DIM_CUSTOMERS where customer_id = ss.customer_id) as customer_sk,\n",
    "    (select max(product_sk) from {database3}.{schema}.DIM_PRODUCTS where product_id = ss.product_id) as product_sk,\n",
    "    (select max(date_sk) from {database3}.{schema}.DIM_DATES where date = ss.sale_date) as date_sk,\n",
    "    ss.quantity\n",
    "from\n",
    "    sales_stream ss\n",
    "where\n",
    "    ss.METADATA$ACTION = 'INSERT'\n",
    "\"\"\")"
   ]
  },
  {
   "cell_type": "markdown",
   "metadata": {},
   "source": [
    "### Iniciando as tasks, mudando o status de 'suspended' para 'resume'"
   ]
  },
  {
   "cell_type": "code",
   "execution_count": 30,
   "metadata": {},
   "outputs": [
    {
     "data": {
      "text/plain": [
       "<snowflake.connector.cursor.SnowflakeCursor at 0x7fd8e10cb9d0>"
      ]
     },
     "execution_count": 30,
     "metadata": {},
     "output_type": "execute_result"
    }
   ],
   "source": [
    "cur.execute(\"\"\"\n",
    "alter task fact_sales_task resume;\n",
    "alter task dim_products_task resume;\n",
    "alter task dim_customers_task resume;\n",
    "\"\"\", num_statements=3)"
   ]
  },
  {
   "cell_type": "markdown",
   "metadata": {},
   "source": [
    "## Testando a inserção de dados nas tabelas do banco Staging, para o stream de dados pegar os dados e inserir nas tabelas do banco DW.\n"
   ]
  },
  {
   "cell_type": "markdown",
   "metadata": {},
   "source": [
    "### Inserindo dados na tabela de products e verificando os dados na tabela products_stream"
   ]
  },
  {
   "cell_type": "code",
   "execution_count": 19,
   "metadata": {},
   "outputs": [
    {
     "name": "stdout",
     "output_type": "stream",
     "text": [
      "(1, 'Widget A', 'A great widget', Decimal('19.99'), 'INSERT', False, '63354edf1278566259b28e95588841a3d3685d76')\n",
      "(2, 'Widget B', 'A better widget', Decimal('29.99'), 'INSERT', False, '39f10ad34d27abcf861587dbca870abe67f64c8a')\n",
      "(3, 'Widget C', 'The best widget', Decimal('39.99'), 'INSERT', False, '637efc6d158cf6a6faf64c8ed0fec6f59f09ab0e')\n"
     ]
    }
   ],
   "source": [
    "cur.execute(\"\"\"\n",
    "insert into products (product_id, product_name, description, price)\n",
    "values\n",
    "(1, 'Widget A', 'A great widget', 19.99),\n",
    "(2, 'Widget B', 'A better widget', 29.99),\n",
    "(3, 'Widget C', 'The best widget', 39.99)\n",
    "\"\"\")\n",
    "\n",
    "cur.execute(\"\"\"select * from products_stream\"\"\")\n",
    "\n",
    "tables = cur.fetchall()\n",
    "\n",
    "for table in tables:\n",
    "    print(table)"
   ]
  },
  {
   "cell_type": "markdown",
   "metadata": {},
   "source": [
    "### Inserindo dados na tabela de customers e verificando os dados na tabela customers_stream"
   ]
  },
  {
   "cell_type": "code",
   "execution_count": 20,
   "metadata": {},
   "outputs": [
    {
     "name": "stdout",
     "output_type": "stream",
     "text": [
      "(1, 'Jhon Smith', 'jhon@smith', '123 Main St', 'INSERT', False, '80a550183056fb71679063bab90b91503daa9425')\n",
      "(2, 'Jane Doe', 'jane@doe', '456 Oak St', 'INSERT', False, '42c43b32c00a213b987431852a576af50d6a62c2')\n"
     ]
    }
   ],
   "source": [
    "cur.execute(\"\"\"\n",
    "insert into customers (customer_id, customer_name, email, address)\n",
    "values\n",
    "(1, 'Jhon Smith', 'jhon@smith', '123 Main St'),\n",
    "(2, 'Jane Doe', 'jane@doe', '456 Oak St')\n",
    "\"\"\")\n",
    "\n",
    "cur.execute(\"\"\"select * from customers_stream\"\"\")\n",
    "\n",
    "tables = cur.fetchall()\n",
    "\n",
    "for table in tables:\n",
    "    print(table)"
   ]
  },
  {
   "cell_type": "markdown",
   "metadata": {},
   "source": [
    "### Inserindo dados na tabela de sales e verificando os dados na tabela sales_stream"
   ]
  },
  {
   "cell_type": "code",
   "execution_count": 21,
   "metadata": {},
   "outputs": [
    {
     "name": "stdout",
     "output_type": "stream",
     "text": [
      "(1, 1, 1, datetime.date(2023, 10, 18), 1, 'INSERT', False, '97b3fc131e219ab52247c5fd3174943217296cb8')\n"
     ]
    }
   ],
   "source": [
    "cur.execute(\"\"\"\n",
    "insert into sales (sale_id, customer_id, product_id, sale_date, quantity)\n",
    "values\n",
    "(1, 1, 1, '2023-10-18', 1)\n",
    "\"\"\")\n",
    "\n",
    "cur.execute(\"\"\"select * from sales_stream\"\"\")\n",
    "\n",
    "tables = cur.fetchall()\n",
    "\n",
    "for table in tables:\n",
    "    print(table)"
   ]
  },
  {
   "cell_type": "markdown",
   "metadata": {},
   "source": [
    "## Consultando os dados nas tabelas do banco DW"
   ]
  },
  {
   "cell_type": "markdown",
   "metadata": {},
   "source": [
    "### Consultando dados na tabela de dim_customers"
   ]
  },
  {
   "cell_type": "code",
   "execution_count": 17,
   "metadata": {},
   "outputs": [
    {
     "name": "stdout",
     "output_type": "stream",
     "text": [
      "(1, 1, 'Jhon Smith', 'jhon@smith', '123 Main St')\n",
      "(2, 2, 'Jane Doe', 'jane@doe', '456 Oak St')\n"
     ]
    }
   ],
   "source": [
    "cur2.execute(\"\"\"select * from dim_customers\"\"\")\n",
    "\n",
    "tables = cur2.fetchall()\n",
    "\n",
    "for table in tables:\n",
    "    print(table)"
   ]
  },
  {
   "cell_type": "markdown",
   "metadata": {},
   "source": [
    "### Consultando dados na tabela de dim_products"
   ]
  },
  {
   "cell_type": "code",
   "execution_count": 16,
   "metadata": {},
   "outputs": [
    {
     "name": "stdout",
     "output_type": "stream",
     "text": [
      "(1, 1, 'Widget A', 'A great widget', Decimal('19.99'))\n",
      "(2, 2, 'Widget B', 'A better widget', Decimal('29.99'))\n",
      "(3, 3, 'Widget C', 'The best widget', Decimal('39.99'))\n"
     ]
    }
   ],
   "source": [
    "cur2.execute(\"\"\"select * from dim_products\"\"\")\n",
    "\n",
    "tables = cur2.fetchall()\n",
    "\n",
    "for table in tables:\n",
    "    print(table)"
   ]
  },
  {
   "cell_type": "markdown",
   "metadata": {},
   "source": [
    "### Consultando dados na tabela de fact_sales"
   ]
  },
  {
   "cell_type": "code",
   "execution_count": 12,
   "metadata": {},
   "outputs": [
    {
     "name": "stdout",
     "output_type": "stream",
     "text": [
      "(1, 1, 1, 1, 1387, 1)\n"
     ]
    }
   ],
   "source": [
    "cur2.execute(\"\"\"select * from fact_sales\"\"\")\n",
    "\n",
    "tables = cur2.fetchall()\n",
    "\n",
    "for table in tables:\n",
    "    print(table)"
   ]
  },
  {
   "cell_type": "markdown",
   "metadata": {},
   "source": [
    "## Encerrando das task e excluindo do banco de dados Staging"
   ]
  },
  {
   "cell_type": "code",
   "execution_count": 14,
   "metadata": {},
   "outputs": [
    {
     "data": {
      "text/plain": [
       "<snowflake.connector.cursor.SnowflakeCursor at 0x7fd8e0fbbc70>"
      ]
     },
     "execution_count": 14,
     "metadata": {},
     "output_type": "execute_result"
    }
   ],
   "source": [
    "\n",
    "cur.execute(\"\"\"\n",
    "alter task dim_customers_task suspend;\n",
    "alter task dim_products_task suspend;\n",
    "alter task fact_sales_task suspend;\n",
    "             \n",
    "drop task dim_customers_task; \n",
    "drop task dim_products_task; \n",
    "drop task fact_sales_task; \n",
    "\"\"\", num_statements=6)"
   ]
  }
 ],
 "metadata": {
  "kernelspec": {
   "display_name": "base",
   "language": "python",
   "name": "python3"
  },
  "language_info": {
   "codemirror_mode": {
    "name": "ipython",
    "version": 3
   },
   "file_extension": ".py",
   "mimetype": "text/x-python",
   "name": "python",
   "nbconvert_exporter": "python",
   "pygments_lexer": "ipython3",
   "version": "3.10.9"
  }
 },
 "nbformat": 4,
 "nbformat_minor": 2
}

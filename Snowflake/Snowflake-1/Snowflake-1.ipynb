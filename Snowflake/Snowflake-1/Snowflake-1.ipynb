{
 "cells": [
  {
   "cell_type": "markdown",
   "metadata": {},
   "source": [
    "# Snowflake\n",
    "\n",
    "1. Instalando bibliotecas e inicializando variáveis do envs\n",
    "2. Conectando ao Data Warehouse Snowflake\n",
    "3. Criando o banco de dados e se conectando a ele\n",
    "4. Criando tabelas e populando com dados dos scripts SQL (1 a 4)\n",
    "5. Criando views\n",
    "6. Carregando dados externos para o Snowflake do Bucket S3\n",
    "7. Consultas com TimeTravel e Fail-safe\n",
    "8. Criando Tasks\n",
    "9. Criando tabelas de stream\n",
    "\n",
    "<div class=\"alert alert-info\">\n",
    "     \n",
    "**Observações**\n",
    " \n",
    "- Para executar o notebook, é necessário ter a conta Snowflake configurado e rodando na servidor da AWS, além de ter criado um Bucket S3 para armazenar os dados.\n",
    "\n",
    "- O arquivo de exemplos de cargas de dados estará na pasta dados.\n",
    "\n",
    "</div>\n",
    "\n",
    "<div class=\"alert alert-danger\">\n",
    "     \n",
    "**Nota**\n",
    " \n",
    "- Este notebook está utilizando o Python 3.10.9 para ser executado, versão superiores a essa ocorre um erro na conexão do snowflake (open ssl 3.0.9).\n",
    "     \n",
    "</div>\n"
   ]
  },
  {
   "cell_type": "code",
   "execution_count": 1,
   "metadata": {},
   "outputs": [
    {
     "name": "stdout",
     "output_type": "stream",
     "text": [
      "Requirement already satisfied: snowflake-connector-python in /home/cayoesn/anaconda3.03/lib/python3.10/site-packages (3.3.0)\n",
      "Requirement already satisfied: filelock<4,>=3.5 in /home/cayoesn/anaconda3.03/lib/python3.10/site-packages (from snowflake-connector-python) (3.9.0)\n",
      "Requirement already satisfied: pyjwt<3.0.0 in /home/cayoesn/anaconda3.03/lib/python3.10/site-packages (from snowflake-connector-python) (2.4.0)\n",
      "Requirement already satisfied: oscrypto<2.0.0 in /home/cayoesn/anaconda3.03/lib/python3.10/site-packages (from snowflake-connector-python) (1.3.0)\n",
      "Requirement already satisfied: sortedcontainers>=2.4.0 in /home/cayoesn/anaconda3.03/lib/python3.10/site-packages (from snowflake-connector-python) (2.4.0)\n",
      "Requirement already satisfied: requests<3.0.0 in /home/cayoesn/.local/lib/python3.10/site-packages (from snowflake-connector-python) (2.31.0)\n",
      "Requirement already satisfied: urllib3<1.27,>=1.21.1 in /home/cayoesn/anaconda3.03/lib/python3.10/site-packages (from snowflake-connector-python) (1.26.14)\n",
      "Requirement already satisfied: certifi>=2017.4.17 in /home/cayoesn/anaconda3.03/lib/python3.10/site-packages (from snowflake-connector-python) (2022.12.7)\n",
      "Requirement already satisfied: tomlkit in /home/cayoesn/anaconda3.03/lib/python3.10/site-packages (from snowflake-connector-python) (0.11.1)\n",
      "Requirement already satisfied: pycryptodomex!=3.5.0,<4.0.0,>=3.2 in /home/cayoesn/anaconda3.03/lib/python3.10/site-packages (from snowflake-connector-python) (3.19.0)\n",
      "Requirement already satisfied: pytz in /home/cayoesn/.local/lib/python3.10/site-packages (from snowflake-connector-python) (2023.3)\n",
      "Requirement already satisfied: idna<4,>=2.5 in /home/cayoesn/anaconda3.03/lib/python3.10/site-packages (from snowflake-connector-python) (3.4)\n",
      "Requirement already satisfied: cryptography<42.0.0,>=3.1.0 in /home/cayoesn/anaconda3.03/lib/python3.10/site-packages (from snowflake-connector-python) (39.0.1)\n",
      "Requirement already satisfied: charset-normalizer<4,>=2 in /home/cayoesn/.local/lib/python3.10/site-packages (from snowflake-connector-python) (3.2.0)\n",
      "Requirement already satisfied: asn1crypto<2.0.0,>0.24.0 in /home/cayoesn/anaconda3.03/lib/python3.10/site-packages (from snowflake-connector-python) (1.5.1)\n",
      "Requirement already satisfied: pyOpenSSL<24.0.0,>=16.2.0 in /home/cayoesn/anaconda3.03/lib/python3.10/site-packages (from snowflake-connector-python) (23.0.0)\n",
      "Requirement already satisfied: platformdirs<4.0.0,>=2.6.0 in /home/cayoesn/.local/lib/python3.10/site-packages (from snowflake-connector-python) (3.10.0)\n",
      "Requirement already satisfied: cffi<2.0.0,>=1.9 in /home/cayoesn/anaconda3.03/lib/python3.10/site-packages (from snowflake-connector-python) (1.15.1)\n",
      "Requirement already satisfied: typing-extensions<5,>=4.3 in /home/cayoesn/anaconda3.03/lib/python3.10/site-packages (from snowflake-connector-python) (4.4.0)\n",
      "Requirement already satisfied: packaging in /home/cayoesn/.local/lib/python3.10/site-packages (from snowflake-connector-python) (23.1)\n",
      "Requirement already satisfied: pycparser in /home/cayoesn/anaconda3.03/lib/python3.10/site-packages (from cffi<2.0.0,>=1.9->snowflake-connector-python) (2.21)\n",
      "Note: you may need to restart the kernel to use updated packages.\n",
      "Requirement already satisfied: python-dotenv in /home/cayoesn/anaconda3.03/lib/python3.10/site-packages (1.0.0)\n",
      "Note: you may need to restart the kernel to use updated packages.\n"
     ]
    }
   ],
   "source": [
    "%pip install snowflake-connector-python\n",
    "%pip install python-dotenv"
   ]
  },
  {
   "cell_type": "code",
   "execution_count": 2,
   "metadata": {},
   "outputs": [
    {
     "data": {
      "text/plain": [
       "True"
      ]
     },
     "execution_count": 2,
     "metadata": {},
     "output_type": "execute_result"
    }
   ],
   "source": [
    "import snowflake.connector\n",
    "from dotenv import load_dotenv\n",
    "import os\n",
    "\n",
    "load_dotenv()"
   ]
  },
  {
   "cell_type": "markdown",
   "metadata": {},
   "source": [
    "## Inicializando variáveis utiilizandas no código com os valores do arquivo env"
   ]
  },
  {
   "cell_type": "code",
   "execution_count": 3,
   "metadata": {},
   "outputs": [],
   "source": [
    "user = os.getenv('SNOWFLAKE_USER')\n",
    "password = os.getenv('SNOWFLAKE_PASSWORD')\n",
    "account = os.getenv('SNOWFLAKE_ACCOUNT')\n",
    "warehouse = os.getenv('SNOWFLAKE_WAREHOUSE')\n",
    "database = os.getenv('SNOWFLAKE_DATABASE')\n",
    "schema = os.getenv('SNOWFLAKE_SCHEMA')\n",
    "\n",
    "s3_bucket = os.getenv('SNOWFLAKE_S3_BUCKET')\n",
    "aws_access_key_id = os.getenv('AWS_ACCESS_KEY_ID')\n",
    "aws_secret_access_key = os.getenv('AWS_SECRET_ACCESS_KEY')"
   ]
  },
  {
   "cell_type": "code",
   "execution_count": 47,
   "metadata": {},
   "outputs": [],
   "source": [
    "conn = snowflake.connector.connect(\n",
    "    user=user,\n",
    "    password=password,\n",
    "    account=account\n",
    ")\n",
    "\n",
    "cur = conn.cursor()"
   ]
  },
  {
   "cell_type": "markdown",
   "metadata": {},
   "source": [
    "## Criando o banco de dados, schema e conectando ao schema criado\n"
   ]
  },
  {
   "cell_type": "code",
   "execution_count": 5,
   "metadata": {},
   "outputs": [
    {
     "data": {
      "text/plain": [
       "<snowflake.connector.cursor.SnowflakeCursor at 0x7f6b20fd87f0>"
      ]
     },
     "execution_count": 5,
     "metadata": {},
     "output_type": "execute_result"
    }
   ],
   "source": [
    "create_database_sql = f\"CREATE DATABASE IF NOT EXISTS {database}\"\n",
    "cur.execute(create_database_sql)"
   ]
  },
  {
   "cell_type": "code",
   "execution_count": 4,
   "metadata": {},
   "outputs": [],
   "source": [
    "conn = snowflake.connector.connect(\n",
    "    user=user,\n",
    "    password=password,\n",
    "    account=account,\n",
    "    warehouse=warehouse,\n",
    "    database=database,\n",
    "    schema=schema\n",
    ")\n",
    "\n",
    "cur = conn.cursor()"
   ]
  },
  {
   "cell_type": "markdown",
   "metadata": {},
   "source": [
    "## Criando tabelas e populandos com dados\n",
    "\n",
    "### Criando tabelas no SnowFlake\n"
   ]
  },
  {
   "cell_type": "code",
   "execution_count": 9,
   "metadata": {},
   "outputs": [
    {
     "data": {
      "text/plain": [
       "<snowflake.connector.cursor.SnowflakeCursor at 0x7f6b7e441420>"
      ]
     },
     "execution_count": 9,
     "metadata": {},
     "output_type": "execute_result"
    }
   ],
   "source": [
    "query = \"\"\"\n",
    "CREATE TABLE categories (\n",
    "    category_id SMALLINT NOT NULL,\n",
    "    category_name STRING NOT NULL,\n",
    "    description STRING\n",
    ");\"\"\"\n",
    "\n",
    "cur.execute(query)\n",
    "\n",
    "query = \"\"\"\n",
    "CREATE TABLE customers (\n",
    "    customer_id STRING NOT NULL,\n",
    "    company_name STRING NOT NULL,\n",
    "    contact_name STRING,\n",
    "    contact_title STRING,\n",
    "    address STRING,\n",
    "    city STRING,\n",
    "    region STRING,\n",
    "    postal_code STRING,\n",
    "    country STRING,\n",
    "    phone STRING\n",
    ");\n",
    "\"\"\"\n",
    "\n",
    "cur.execute(query)\n",
    "\n",
    "query = \"\"\"\n",
    "CREATE TABLE employees (\n",
    "    employee_id SMALLINT NOT NULL,\n",
    "    last_name STRING NOT NULL,\n",
    "    first_name STRING NOT NULL,\n",
    "    title STRING,\n",
    "    title_of_courtesy STRING,\n",
    "    birth_date DATE,\n",
    "    hire_date DATE,\n",
    "    address STRING,\n",
    "    city STRING,\n",
    "    region STRING,\n",
    "    postal_code STRING,\n",
    "    country STRING,\n",
    "    home_phone STRING,\n",
    "    extension STRING,\n",
    "    notes STRING,\n",
    "    reports_to SMALLINT,\n",
    "    photo_path STRING,\n",
    "    salary FLOAT\n",
    ");\n",
    "\"\"\"\n",
    "\n",
    "cur.execute(query)\n",
    "\n",
    "query = \"\"\"\n",
    "CREATE TABLE order_details (\n",
    "    order_id SMALLINT NOT NULL,\n",
    "    product_id SMALLINT NOT NULL,\n",
    "    unit_price FLOAT NOT NULL,\n",
    "    quantity SMALLINT NOT NULL,\n",
    "    discount FLOAT NOT NULL\n",
    ");\n",
    "\"\"\"\n",
    "\n",
    "cur.execute(query)"
   ]
  },
  {
   "cell_type": "code",
   "execution_count": 10,
   "metadata": {},
   "outputs": [
    {
     "data": {
      "text/plain": [
       "<snowflake.connector.cursor.SnowflakeCursor at 0x7f6b7e441420>"
      ]
     },
     "execution_count": 10,
     "metadata": {},
     "output_type": "execute_result"
    }
   ],
   "source": [
    "query = \"\"\"\n",
    "CREATE TABLE orders (\n",
    "    order_id SMALLINT NOT NULL,\n",
    "    customer_id STRING,\n",
    "    employee_id SMALLINT,\n",
    "    order_date DATE ,\n",
    "    required_date DATE,\n",
    "    shipped_date DATE,\n",
    "    ship_via SMALLINT,\n",
    "    freight FLOAT,\n",
    "    ship_name STRING,\n",
    "    ship_address STRING,\n",
    "    ship_city STRING,\n",
    "    ship_region STRING,\n",
    "    ship_postal_code STRING,\n",
    "    ship_country STRING\n",
    ")\n",
    "CLUSTER BY (order_date);\n",
    "\"\"\"\n",
    "\n",
    "cur.execute(query)\n",
    "\n",
    "query = \"\"\"\n",
    "CREATE TABLE products (\n",
    "    product_id SMALLINT NOT NULL,\n",
    "    product_name STRING NOT NULL,\n",
    "    supplier_id SMALLINT,\n",
    "    category_id SMALLINT,\n",
    "    quantity_per_unit STRING,\n",
    "    unit_price FLOAT,\n",
    "    units_in_stock SMALLINT,\n",
    "    units_on_order SMALLINT,\n",
    "    reorder_level SMALLINT,\n",
    "    discontinued BOOLEAN NOT NULL\n",
    ");\n",
    "\"\"\"\n",
    "\n",
    "cur.execute(query)\n",
    "\n",
    "query = \"\"\"\n",
    "CREATE TABLE shippers (\n",
    "    shipper_id SMALLINT NOT NULL,\n",
    "    company_name STRING NOT NULL,\n",
    "    phone STRING\n",
    ");\n",
    "\"\"\"\n",
    "\n",
    "cur.execute(query)\n",
    "\n",
    "query = \"\"\"\n",
    "CREATE TABLE suppliers (\n",
    "    supplier_id SMALLINT NOT NULL,\n",
    "    company_name STRING NOT NULL,\n",
    "    contact_name STRING,\n",
    "    contact_title STRING,\n",
    "    address STRING,\n",
    "    city STRING,\n",
    "    region STRING,\n",
    "    postal_code STRING,\n",
    "    country STRING,\n",
    "    phone STRING,\n",
    "    fax STRING,\n",
    "    homepage STRING\n",
    ");\n",
    "\"\"\"\n",
    "\n",
    "cur.execute(query)"
   ]
  },
  {
   "cell_type": "code",
   "execution_count": 11,
   "metadata": {},
   "outputs": [
    {
     "name": "stdout",
     "output_type": "stream",
     "text": [
      "('PUBLIC', 'CUSTOMERS')\n",
      "('PUBLIC', 'ORDERS')\n",
      "('PUBLIC', 'PRODUCTS')\n",
      "('PUBLIC', 'SHIPPERS')\n",
      "('PUBLIC', 'CATEGORIES')\n",
      "('PUBLIC', 'EMPLOYEES')\n",
      "('PUBLIC', 'SUPPLIERS')\n",
      "('PUBLIC', 'ORDER_DETAILS')\n"
     ]
    }
   ],
   "source": [
    "cur.execute(\n",
    "    \"\"\"SELECT TABLE_SCHEMA,TABLE_NAME FROM information_schema.tables WHERE TABLE_SCHEMA = 'PUBLIC';\"\"\")\n",
    "\n",
    "tables = cur.fetchall()\n",
    "\n",
    "for table in tables:\n",
    "    print(table)"
   ]
  },
  {
   "cell_type": "markdown",
   "metadata": {},
   "source": [
    "### Carregar os dados das tabelas no SnowFlake através dos scripts SQL (1 a 4)\n"
   ]
  },
  {
   "cell_type": "code",
   "execution_count": 25,
   "metadata": {},
   "outputs": [
    {
     "data": {
      "text/plain": [
       "<snowflake.connector.cursor.SnowflakeCursor at 0x7f6b7e441420>"
      ]
     },
     "execution_count": 25,
     "metadata": {},
     "output_type": "execute_result"
    }
   ],
   "source": [
    "with open('1.categories_shippers_suppliers.sql', 'r') as file:\n",
    "    query1 = file.read()\n",
    "\n",
    "with open('2.customers_employees_products.sql', 'r') as file:\n",
    "    query2 = file.read()\n",
    "\n",
    "with open('3.orders.sql', 'r') as file:\n",
    "    query3 = file.read()\n",
    "\n",
    "with open('4.orderdetails.sql', 'r') as file:\n",
    "    query4 = file.read()\n",
    "\n",
    "cur.execute(query1, num_statements=3)\n",
    "cur.execute(query2, num_statements=3)\n",
    "cur.execute(query3)\n",
    "cur.execute(query4)"
   ]
  },
  {
   "cell_type": "markdown",
   "metadata": {},
   "source": [
    "## Views\n"
   ]
  },
  {
   "cell_type": "code",
   "execution_count": 8,
   "metadata": {},
   "outputs": [
    {
     "data": {
      "text/plain": [
       "<snowflake.connector.cursor.SnowflakeCursor at 0x7fe99bbc6b60>"
      ]
     },
     "execution_count": 8,
     "metadata": {},
     "output_type": "execute_result"
    }
   ],
   "source": [
    "cur.execute(\"\"\"\n",
    "create view sales_by_category as\n",
    "select \n",
    "cat.category_name,\n",
    "sum(od.unit_price * od.quantity) as total_vendas\n",
    "from order_details od \n",
    "join products p on od.product_id = p.product_id\n",
    "join categories cat on p.category_id = cat.category_id\n",
    "group by cat.category_name\n",
    "\"\"\")"
   ]
  },
  {
   "cell_type": "code",
   "execution_count": 9,
   "metadata": {},
   "outputs": [
    {
     "name": "stdout",
     "output_type": "stream",
     "text": [
      "('Dairy Products', 251330.5)\n",
      "('Grains/Cereals', 100726.8)\n",
      "('Produce', 105268.6)\n",
      "('Seafood', 141623.09)\n",
      "('Condiments', 113694.75)\n",
      "('Confections', 177099.1)\n",
      "('Beverages', 286526.95)\n",
      "('Meat/Poultry', 178188.80000000002)\n"
     ]
    }
   ],
   "source": [
    "cur.execute(\"\"\"select * from sales_by_category\"\"\")\n",
    "\n",
    "tables = cur.fetchall()\n",
    "\n",
    "for table in tables:\n",
    "    print(table)"
   ]
  },
  {
   "cell_type": "markdown",
   "metadata": {},
   "source": [
    "## Produtos mais vendidos por categoria\n",
    "\n",
    "Liste os 3 produtos mais vendidos por categoria.\n"
   ]
  },
  {
   "cell_type": "code",
   "execution_count": 10,
   "metadata": {},
   "outputs": [
    {
     "name": "stdout",
     "output_type": "stream",
     "text": [
      "('Rhnbru Klosterbier', 'Beverages', 1155, 1)\n",
      "('Guaran Fantstica', 'Beverages', 1125, 2)\n",
      "('Chang', 'Beverages', 1057, 3)\n",
      "('Original Frankfurter grne Soe', 'Condiments', 791, 1)\n",
      "('Louisiana Fiery Hot Pepper Sauce', 'Condiments', 745, 2)\n",
      "('Sirop drable', 'Condiments', 603, 3)\n",
      "('Pavlova', 'Confections', 1158, 1)\n",
      "('Tarte au sucre', 'Confections', 1083, 2)\n",
      "('Sir Rodneys Scones', 'Confections', 1016, 3)\n",
      "('Camembert Pierrot', 'Dairy Products', 1577, 1)\n",
      "('Raclette Courdavault', 'Dairy Products', 1496, 2)\n",
      "('Gorgonzola Telino', 'Dairy Products', 1397, 3)\n",
      "('Gnocchi di nonna Alice', 'Grains/Cereals', 1263, 1)\n",
      "('Wimmers gute Semmelkndel', 'Grains/Cereals', 740, 2)\n",
      "('Singaporean Hokkien Fried Mee', 'Grains/Cereals', 697, 3)\n",
      "('Alice Mutton', 'Meat/Poultry', 978, 1)\n",
      "('Pt chinois', 'Meat/Poultry', 903, 2)\n",
      "('Tourtire', 'Meat/Poultry', 755, 3)\n",
      "('Manjimup Dried Apples', 'Produce', 886, 1)\n",
      "('Uncle Bobs Organic Dried Pears', 'Produce', 763, 2)\n",
      "('Rssle Sauerkraut', 'Produce', 640, 3)\n",
      "('Boston Crab Meat', 'Seafood', 1103, 1)\n",
      "('Jacks New England Clam Chowder', 'Seafood', 981, 2)\n",
      "('Konbu', 'Seafood', 891, 3)\n"
     ]
    }
   ],
   "source": [
    "cur.execute(\"\"\"\n",
    "with sales_data as (\n",
    "    select\n",
    "    p.product_name,\n",
    "    c.category_name,\n",
    "    sum(od.quantity),\n",
    "    rank() over (partition by c.category_name order by sum(od.quantity) desc) as rank\n",
    "    from order_details od\n",
    "    join products p on p.product_id = od.product_id\n",
    "    join categories c on c.category_id = p.category_id\n",
    "    group by p.product_name, category_name\n",
    ")\n",
    "select * from sales_data\n",
    "where rank <= 3\n",
    "order by category_name, rank\n",
    "\"\"\")\n",
    "\n",
    "tables = cur.fetchall()\n",
    "\n",
    "for table in tables:\n",
    "    print(table)"
   ]
  },
  {
   "cell_type": "markdown",
   "metadata": {},
   "source": [
    "## Total e média de vendas por mês\n"
   ]
  },
  {
   "cell_type": "code",
   "execution_count": 11,
   "metadata": {},
   "outputs": [
    {
     "name": "stdout",
     "output_type": "stream",
     "text": [
      "(2020, 7, 30192.1, 511.73050847457625)\n",
      "(2020, 8, 26609.399999999998, 385.64347826086953)\n",
      "(2020, 9, 27636.0, 484.8421052631579)\n",
      "(2020, 10, 41203.6, 564.4328767123287)\n",
      "(2020, 11, 49704.0, 753.0909090909091)\n",
      "(2020, 12, 50953.4, 629.0543209876544)\n",
      "(2021, 1, 66692.8, 784.6211764705882)\n",
      "(2021, 2, 41207.2, 521.6101265822784)\n",
      "(2021, 3, 39979.9, 519.2194805194805)\n",
      "(2021, 4, 55699.39, 687.6467901234568)\n",
      "(2021, 5, 56823.7, 591.9135416666667)\n",
      "(2021, 6, 39088.0, 514.3157894736842)\n",
      "(2021, 7, 55464.93, 720.3237662337663)\n",
      "(2021, 8, 49981.69, 595.0201190476191)\n",
      "(2021, 9, 59733.020000000004, 628.7686315789474)\n",
      "(2021, 10, 70328.5, 663.4764150943396)\n",
      "(2021, 11, 45913.36, 515.8804494382023)\n",
      "(2021, 12, 77476.26, 679.6163157894737)\n",
      "(2022, 1, 100854.72, 663.5178947368421)\n",
      "(2022, 2, 104561.95, 857.0651639344262)\n",
      "(2022, 3, 109825.45, 616.9969101123595)\n",
      "(2022, 4, 134630.56, 747.9475555555556)\n",
      "(2022, 5, 19898.66, 337.2654237288136)\n"
     ]
    }
   ],
   "source": [
    "cur.execute(\"\"\"\n",
    "select \n",
    "extract(year from o.order_date) as ano,\n",
    "extract(month from o.order_date) as mes,\n",
    "sum(od.unit_price * od.quantity) as total,\n",
    "avg(od.unit_price * od.quantity) as media\n",
    "from order_details od\n",
    "join orders o on od.order_id = o.order_id\n",
    "group by ano, mes\n",
    "order by ano, mes\n",
    "\"\"\")\n",
    "\n",
    "tables = cur.fetchall()\n",
    "\n",
    "for table in tables:\n",
    "    print(table)"
   ]
  },
  {
   "cell_type": "markdown",
   "metadata": {},
   "source": [
    "## Carga de dados externos para o Snowflake do Bucket S3\n",
    "\n",
    "Importação de dados de um arquivo parquet.\n"
   ]
  },
  {
   "cell_type": "code",
   "execution_count": 15,
   "metadata": {},
   "outputs": [
    {
     "data": {
      "text/plain": [
       "<snowflake.connector.cursor.SnowflakeCursor at 0x7fe93da2c5e0>"
      ]
     },
     "execution_count": 15,
     "metadata": {},
     "output_type": "execute_result"
    }
   ],
   "source": [
    "cur.execute(\"\"\"\n",
    "CREATE TABLE employeespq (\n",
    "    employeeid SMALLINT,\n",
    "    lastname STRING,\n",
    "    firstname STRING,\n",
    "    title STRING,\n",
    "    titleofcourtesy STRING,\n",
    "    birthdate STRING,\n",
    "    hiredate STRING,\n",
    "    address STRING,\n",
    "    city STRING,\n",
    "    region STRING,\n",
    "    postalcode STRING,\n",
    "    country STRING,\n",
    "    homephone STRING,\n",
    "    extension STRING,\n",
    "    notes STRING,\n",
    "    reportsto SMALLINT,\n",
    "    photopath STRING,\n",
    "    salary FLOAT\n",
    ")\"\"\")"
   ]
  },
  {
   "cell_type": "code",
   "execution_count": 17,
   "metadata": {},
   "outputs": [
    {
     "data": {
      "text/plain": [
       "<snowflake.connector.cursor.SnowflakeCursor at 0x7fe93da2c5e0>"
      ]
     },
     "execution_count": 17,
     "metadata": {},
     "output_type": "execute_result"
    }
   ],
   "source": [
    "cur.execute(f\"\"\"\n",
    "COPY INTO employeespq\n",
    "FROM {s3_bucket}redshift/employees.parquet\n",
    "CREDENTIALS=(aws_key_id='{aws_access_key_id}' aws_secret_key='{aws_secret_access_key}')\n",
    "FILE_FORMAT=(type='PARQUET')\n",
    "MATCH_BY_COLUMN_NAME=CASE_INSENSITIVE\"\"\")"
   ]
  },
  {
   "cell_type": "code",
   "execution_count": 18,
   "metadata": {},
   "outputs": [
    {
     "name": "stdout",
     "output_type": "stream",
     "text": [
      "(1, 'Davolio', 'Nancy', 'Sales Representative', 'Ms.', '-664761600000000', '704678400000000', '507 - 20th Ave. E.Apt. 2A', 'Seattle', 'WA', '98122', 'USA', '(206) 555-9857', '5467', 'Education includes a BA in psychology from Colorado State University in 1970.  She also completed \"The Art of the Cold Call.\"  Nancy is a member of Toastmasters International.', 2, 'http://accweb/emmployees/davolio.bmp', 2954.55)\n",
      "(2, 'Fuller', 'Andrew', 'Vice President, Sales', 'Dr.', '-563846400000000', '713750400000000', '908 W. Capital Way', 'Tacoma', 'WA', '98401', 'USA', '(206) 555-9482', '3457', 'Andrew received his BTS commercial in 1974 and a Ph.D. in international marketing from the University of Dallas in 1981.  He is fluent in French and Italian and reads German.  He joined the company as a sales representative, was promoted to sales manager in January 1992 and to vice president of sales in March 1993.  Andrew is a member of the Sales Management Roundtable, the Seattle Chamber of Commerce, and the Pacific Rim Importers Association.', 0, 'http://accweb/emmployees/fuller.bmp', 2254.49)\n",
      "(3, 'Leverling', 'Janet', 'Sales Representative', 'Ms.', '-200102400000000', '702086400000000', '722 Moss Bay Blvd.', 'Kirkland', 'WA', '98033', 'USA', '(206) 555-3412', '3355', 'Janet has a BS degree in chemistry from Boston College (1984).  She has also completed a certificate program in food retailing management.  Janet was hired as a sales associate in 1991 and promoted to sales representative in February 1992.', 2, 'http://accweb/emmployees/leverling.bmp', 3119.15)\n",
      "(4, 'Peacock', 'Margaret', 'Sales Representative', 'Mrs.', '-1018828800000000', '736387200000000', '4110 Old Redmond Rd.', 'Redmond', 'WA', '98052', 'USA', '(206) 555-8122', '5176', 'Margaret holds a BA in English literature from Concordia College (1958) and an MA from the American Institute of Culinary Arts (1966).  She was assigned to the London office temporarily from July through November 1992.', 2, 'http://accweb/emmployees/peacock.bmp', 1861.08)\n",
      "(5, 'Buchanan', 'Steven', 'Sales Manager', 'Mr.', '-468028800000000', '750816000000000', '14 Garrett Hill', 'London', None, 'SW1 8JR', 'UK', '(71) 555-4848', '3453', 'Steven Buchanan graduated from St. Andrews University, Scotland, with a BSC degree in 1976.  Upon joining the company as a sales representative in 1992, he spent 6 months in an orientation program at the Seattle office and then returned to his permanent post in London.  He was promoted to sales manager in March 1993.  Mr. Buchanan has completed the courses \"Successful Telemarketing\" and \"International Sales Management.\"  He is fluent in French.', 2, 'http://accweb/emmployees/buchanan.bmp', 1744.21)\n",
      "(6, 'Suyama', 'Michael', 'Sales Representative', 'Mr.', '-205200000000000', '750816000000000', 'Coventry House Miner Rd.', 'London', None, 'EC2 7JR', 'UK', '(71) 555-7773', '428', 'Michael is a graduate of Sussex University (MA, economics, 1983) and the University of California at Los Angeles (MBA, marketing, 1986).  He has also taken the courses \"Multi-Cultural Selling\" and \"Time Management for the Sales Professional.\"  He is fluent in Japanese and can read and write French, Portuguese, and Spanish.', 5, 'http://accweb/emmployees/davolio.bmp', 2004.07)\n",
      "(7, 'King', 'Robert', 'Sales Representative', 'Mr.', '-302745600000000', '757468800000000', 'Edgeham Hollow Winchester Way', 'London', None, 'RG1 9SP', 'UK', '(71) 555-5598', '465', 'Robert King served in the Peace Corps and traveled extensively before completing his degree in English at the University of Michigan in 1992, the year he joined the company.  After completing a course entitled \"Selling in Europe,\" he was transferred to the London office in March 1993.', 5, 'http://accweb/emmployees/davolio.bmp', 1991.55)\n",
      "(8, 'Callahan', 'Laura', 'Inside Sales Coordinator', 'Ms.', '-378000000000000', '762825600000000', '4726 - 11th Ave. N.E.', 'Seattle', 'WA', '98105', 'USA', '(206) 555-1189', '2344', 'Laura received a BA in psychology from the University of Washington.  She has also completed a course in business French.  She reads and writes French.', 2, 'http://accweb/emmployees/davolio.bmp', 2100.5)\n",
      "(9, 'Dodsworth', 'Anne', 'Sales Representative', 'Ms.', '-123984000000000', '784857600000000', '7 Houndstooth Rd.', 'London', None, 'WG2 7LT', 'UK', '(71) 555-4444', '452', 'Anne has a BA degree in English from St. Lawrence College.  She is fluent in French and German.', 5, 'http://accweb/emmployees/davolio.bmp', 2333.33)\n"
     ]
    }
   ],
   "source": [
    "cur.execute(\"\"\"select * from employeespq\"\"\")\n",
    "\n",
    "tables = cur.fetchall()\n",
    "\n",
    "for table in tables:\n",
    "    print(table)"
   ]
  },
  {
   "cell_type": "markdown",
   "metadata": {},
   "source": [
    "## TimeTravel e Fail-safe\n",
    "\n",
    "Inserindo dados na tabela e consultando com 90 segundos atrás, para verificar que os dados nesse tempo ainda não estavam no banco.\n",
    "\n",
    "Consultando dados por datas anteriores para recuperar dados perdidos (recurso de Fail-safe do Snowflake).\n"
   ]
  },
  {
   "cell_type": "code",
   "execution_count": 19,
   "metadata": {},
   "outputs": [
    {
     "name": "stdout",
     "output_type": "stream",
     "text": [
      "(1, 'Speedy Express', '(503) 555-9831')\n",
      "(2, 'United Package', '(503) 555-3199')\n",
      "(3, 'Federal Shipping', '(503) 555-9931')\n"
     ]
    }
   ],
   "source": [
    "cur.execute(\"\"\"select * from shippers\"\"\")\n",
    "\n",
    "tables = cur.fetchall()\n",
    "\n",
    "for table in tables:\n",
    "    print(table)"
   ]
  },
  {
   "cell_type": "code",
   "execution_count": 20,
   "metadata": {},
   "outputs": [
    {
     "data": {
      "text/plain": [
       "<snowflake.connector.cursor.SnowflakeCursor at 0x7fe93da2c5e0>"
      ]
     },
     "execution_count": 20,
     "metadata": {},
     "output_type": "execute_result"
    }
   ],
   "source": [
    "cur.execute(\n",
    "    f\"\"\"insert into shippers values (4, 'SnowFlake Express', '(51) 4545-89745')\"\"\")"
   ]
  },
  {
   "cell_type": "code",
   "execution_count": 22,
   "metadata": {},
   "outputs": [
    {
     "name": "stdout",
     "output_type": "stream",
     "text": [
      "(1, 'Speedy Express', '(503) 555-9831')\n",
      "(2, 'United Package', '(503) 555-3199')\n",
      "(3, 'Federal Shipping', '(503) 555-9931')\n"
     ]
    }
   ],
   "source": [
    "cur.execute(\"\"\"select * from shippers at (offset => -90)\"\"\")\n",
    "\n",
    "tables = cur.fetchall()\n",
    "\n",
    "for table in tables:\n",
    "    print(table)"
   ]
  },
  {
   "cell_type": "code",
   "execution_count": 50,
   "metadata": {},
   "outputs": [
    {
     "name": "stdout",
     "output_type": "stream",
     "text": [
      "(datetime.datetime(2023, 10, 18, 3, 25, 14, 848000, tzinfo=<DstTzInfo 'America/Los_Angeles' PDT-1 day, 17:00:00 DST>),)\n"
     ]
    }
   ],
   "source": [
    "cur.execute(\"\"\"select current_timestamp();\"\"\")\n",
    "\n",
    "tables = cur.fetchall()\n",
    "\n",
    "for table in tables:\n",
    "    print(table)"
   ]
  },
  {
   "cell_type": "code",
   "execution_count": 54,
   "metadata": {},
   "outputs": [
    {
     "name": "stdout",
     "output_type": "stream",
     "text": [
      "(1, 'Speedy Express', '(503) 555-9831')\n",
      "(2, 'United Package', '(503) 555-3199')\n",
      "(3, 'Federal Shipping', '(503) 555-9931')\n",
      "(4, 'SnowFlake Express', '(51) 4545-89745')\n"
     ]
    }
   ],
   "source": [
    "cur.execute(\n",
    "    \"\"\"select * from shippers before (timestamp => '2023-10-18 3:24:47.142 -0700'::timestamp)\"\"\")\n",
    "\n",
    "tables = cur.fetchall()\n",
    "\n",
    "for table in tables:\n",
    "    print(table)"
   ]
  },
  {
   "cell_type": "markdown",
   "metadata": {},
   "source": [
    "## Task e Tasks agrupadas\n",
    "\n",
    "### Task única\n"
   ]
  },
  {
   "cell_type": "markdown",
   "metadata": {},
   "source": [
    "Listando as tasks já criadas no banco\n"
   ]
  },
  {
   "cell_type": "code",
   "execution_count": 30,
   "metadata": {},
   "outputs": [
    {
     "name": "stdout",
     "output_type": "stream",
     "text": [
      "(datetime.datetime(2023, 10, 21, 10, 49, 53, 393000, tzinfo=<DstTzInfo 'America/Los_Angeles' PDT-1 day, 17:00:00 DST>), 'INSERT_ID', '01afcd0d-ceb1-ea21-0000-000000000012', 'NORTHWIND2', 'PUBLIC', 'ACCOUNTADMIN', '', 'WAREHOUSEDEV', '1 MINUTE', '[]', 'started', 'INSERT INTO IDS SELECT random()', None, 'false', 'null', datetime.datetime(2023, 10, 21, 10, 49, 53, 577000, tzinfo=<DstTzInfo 'America/Los_Angeles' PDT-1 day, 17:00:00 DST>), None, 'ROLE', None, None)\n"
     ]
    }
   ],
   "source": [
    "cur.execute(\"\"\"show tasks\"\"\")\n",
    "\n",
    "tables = cur.fetchall()\n",
    "\n",
    "for table in tables:\n",
    "    print(table)"
   ]
  },
  {
   "cell_type": "markdown",
   "metadata": {},
   "source": [
    "Criando uma tabela simples, e uma task para inserir dados nessa tabela a cada 1 minuto.\n",
    "\n",
    "A task é inserida no banco com status 'suspend', para iniciar a task deve ser alterado o status dela para 'resume'.\n"
   ]
  },
  {
   "cell_type": "code",
   "execution_count": 24,
   "metadata": {},
   "outputs": [
    {
     "data": {
      "text/plain": [
       "<snowflake.connector.cursor.SnowflakeCursor at 0x7f545ac7f3d0>"
      ]
     },
     "execution_count": 24,
     "metadata": {},
     "output_type": "execute_result"
    }
   ],
   "source": [
    "cur.execute(\"\"\"create or replace table ids (my_id int)\"\"\")\n",
    "\n",
    "cur.execute(\"\"\"\n",
    "create or replace task insert_id \n",
    "warehouse = WAREHOUSEDEV\n",
    "SCHEDULE = '1 MINUTE' \n",
    "AS INSERT INTO IDS SELECT random()\"\"\")\n",
    "\n",
    "cur.execute(\"\"\"alter task insert_id resume\"\"\")"
   ]
  },
  {
   "cell_type": "markdown",
   "metadata": {},
   "source": [
    "Visualizando os dados inseridos na tabela pela task."
   ]
  },
  {
   "cell_type": "code",
   "execution_count": 31,
   "metadata": {},
   "outputs": [
    {
     "name": "stdout",
     "output_type": "stream",
     "text": [
      "(-1289401867754936316,)\n"
     ]
    }
   ],
   "source": [
    "cur.execute(\"\"\"select * from ids;\"\"\")\n",
    "\n",
    "tables = cur.fetchall()\n",
    "\n",
    "for table in tables:\n",
    "    print(table)"
   ]
  },
  {
   "cell_type": "markdown",
   "metadata": {},
   "source": [
    "### Task agrupada\n",
    "\n",
    "Tasks agrupadas são task que dependem de outras tasks para serem executadas, ou seja, uma task só será executada quando a task anterior tiver sido executada.\n",
    "\n",
    "Criando uma tabela simples, e uma task agrupada para inserir dados nessa tabela a cada 1 minuto, a task só será executada quando a task insert_id for executada.\n",
    "\n",
    "Para criar uma task agrupada, a task que será executada primeiro deve estar no estado de suspend para permitir alterações, então antes de vincular ela a outra task é necessário alterar o status dela.\n"
   ]
  },
  {
   "cell_type": "code",
   "execution_count": 35,
   "metadata": {},
   "outputs": [
    {
     "data": {
      "text/plain": [
       "<snowflake.connector.cursor.SnowflakeCursor at 0x7f545ac7f3d0>"
      ]
     },
     "execution_count": 35,
     "metadata": {},
     "output_type": "execute_result"
    }
   ],
   "source": [
    "cur.execute(\"\"\"alter task insert_id suspend\"\"\")\n",
    "\n",
    "cur.execute(\"\"\"create or replace table ids2 (my_id int)\"\"\")\n",
    "\n",
    "cur.execute(\"\"\"\n",
    "create or replace task insert_id2 \n",
    "warehouse = WAREHOUSEDEV\n",
    "after insert_id AS INSERT INTO IDS2 SELECT random()\"\"\")\n",
    "\n",
    "cur.execute(\"\"\"alter task insert_id2 resume\"\"\")\n",
    "cur.execute(\"\"\"alter task insert_id resume\"\"\")"
   ]
  },
  {
   "cell_type": "code",
   "execution_count": 40,
   "metadata": {},
   "outputs": [
    {
     "name": "stdout",
     "output_type": "stream",
     "text": [
      "(datetime.datetime(2023, 10, 21, 10, 49, 53, 393000, tzinfo=<DstTzInfo 'America/Los_Angeles' PDT-1 day, 17:00:00 DST>), 'INSERT_ID', '01afcd0d-ceb1-ea21-0000-000000000012', 'NORTHWIND2', 'PUBLIC', 'ACCOUNTADMIN', '', 'WAREHOUSEDEV', '1 MINUTE', '[]', 'started', 'INSERT INTO IDS SELECT random()', None, 'false', 'null', datetime.datetime(2023, 10, 21, 10, 51, 56, 91000, tzinfo=<DstTzInfo 'America/Los_Angeles' PDT-1 day, 17:00:00 DST>), datetime.datetime(2023, 10, 21, 10, 51, 33, 567000, tzinfo=<DstTzInfo 'America/Los_Angeles' PDT-1 day, 17:00:00 DST>), 'ROLE', None, None)\n",
      "(datetime.datetime(2023, 10, 21, 10, 51, 55, 818000, tzinfo=<DstTzInfo 'America/Los_Angeles' PDT-1 day, 17:00:00 DST>), 'INSERT_ID2', '01afcd0f-4e2c-dacc-0000-000000000019', 'NORTHWIND2', 'PUBLIC', 'ACCOUNTADMIN', '', 'WAREHOUSEDEV', None, '[\\n  \"NORTHWIND2.PUBLIC.INSERT_ID\"\\n]', 'started', 'INSERT INTO IDS2 SELECT random()', None, 'null', 'null', None, None, 'ROLE', None, None)\n"
     ]
    }
   ],
   "source": [
    "cur.execute(\"\"\"show tasks\"\"\")\n",
    "\n",
    "tables = cur.fetchall()\n",
    "\n",
    "for table in tables:\n",
    "    print(table)"
   ]
  },
  {
   "cell_type": "code",
   "execution_count": 41,
   "metadata": {},
   "outputs": [
    {
     "name": "stdout",
     "output_type": "stream",
     "text": [
      "(-7091646375063312208,)\n"
     ]
    }
   ],
   "source": [
    "cur.execute(\"\"\"select * from ids2\"\"\")\n",
    "\n",
    "tables = cur.fetchall()\n",
    "\n",
    "for table in tables:\n",
    "    print(table)"
   ]
  },
  {
   "cell_type": "markdown",
   "metadata": {},
   "source": [
    "Alterando o status das stasks para 'suspend' e excluindo as tasks."
   ]
  },
  {
   "cell_type": "code",
   "execution_count": 43,
   "metadata": {},
   "outputs": [
    {
     "data": {
      "text/plain": [
       "<snowflake.connector.cursor.SnowflakeCursor at 0x7f545ac7f3d0>"
      ]
     },
     "execution_count": 43,
     "metadata": {},
     "output_type": "execute_result"
    }
   ],
   "source": [
    "cur.execute(\"\"\"alter task insert_id suspend\"\"\")\n",
    "cur.execute(\"\"\"alter task insert_id2 suspend\"\"\")\n",
    "\n",
    "cur.execute(\"\"\"drop task insert_id\"\"\")\n",
    "cur.execute(\"\"\"drop task insert_id2\"\"\")"
   ]
  },
  {
   "cell_type": "markdown",
   "metadata": {},
   "source": [
    "## Stream e tabela de logs\n",
    "\n",
    "Será criada uma tabela de logs para armazenar os logs de alterações de uma tabela, e um stream para capturar esses logs e inserir na tabela de logs.\n",
    "\n",
    "Os stream serão feitos de maneira manual, mas em um ambiente de produção o mais correto seria criar uma task que executaria o stream de tempos em tempos para capturar os dados e colocar na tabela de logs.\n"
   ]
  },
  {
   "cell_type": "code",
   "execution_count": 44,
   "metadata": {},
   "outputs": [
    {
     "data": {
      "text/plain": [
       "<snowflake.connector.cursor.SnowflakeCursor at 0x7f545ac7f3d0>"
      ]
     },
     "execution_count": 44,
     "metadata": {},
     "output_type": "execute_result"
    }
   ],
   "source": [
    "cur.execute(\"\"\"\n",
    "CREATE TABLE shippers_log (\n",
    "    shipper_id SMALLINT NOT NULL,\n",
    "    company_name STRING NOT NULL,\n",
    "    phone STRING\n",
    ");\"\"\")\n",
    "\n",
    "cur.execute(\"\"\"create stream shipper_stream on table shippers\"\"\")"
   ]
  },
  {
   "cell_type": "markdown",
   "metadata": {},
   "source": [
    "Realizando operações de insert, update e delete na tabela shippers para executar as operações do stream e gravar os dados da tabela de logs."
   ]
  },
  {
   "cell_type": "code",
   "execution_count": 51,
   "metadata": {},
   "outputs": [
    {
     "data": {
      "text/plain": [
       "<snowflake.connector.cursor.SnowflakeCursor at 0x7f545ac7f3d0>"
      ]
     },
     "execution_count": 51,
     "metadata": {},
     "output_type": "execute_result"
    }
   ],
   "source": [
    "cur.execute(\"\"\"insert into shippers values (5, 'XYZ Express', '77-7777-7777')\"\"\")\n",
    "cur.execute(\"\"\"insert into shippers_log\n",
    "select shipper_id, company_name, phone from shipper_stream\n",
    "where metadata$action = 'INSERT' and metadata$isupdate = false\"\"\")\n"
   ]
  },
  {
   "cell_type": "code",
   "execution_count": 52,
   "metadata": {},
   "outputs": [
    {
     "data": {
      "text/plain": [
       "<snowflake.connector.cursor.SnowflakeCursor at 0x7f545ac7f3d0>"
      ]
     },
     "execution_count": 52,
     "metadata": {},
     "output_type": "execute_result"
    }
   ],
   "source": [
    "cur.execute(\"\"\"update shippers set company_name = 'XYZW Express' where shipper_id = 5\"\"\")\n",
    "cur.execute(\"\"\"update shippers_log sl\n",
    "set sl.company_name = s.company_name,\n",
    "sl.phone = s.phone\n",
    "from shipper_stream s\n",
    "where s.shipper_id = sl.shipper_id\n",
    "and s.metadata$action = 'INSERT' and s.metadata$isupdate = true\"\"\")\n"
   ]
  },
  {
   "cell_type": "markdown",
   "metadata": {},
   "source": [
    "Verificando tabela de logs onde os stream foram gravados."
   ]
  },
  {
   "cell_type": "code",
   "execution_count": 53,
   "metadata": {},
   "outputs": [
    {
     "name": "stdout",
     "output_type": "stream",
     "text": [
      "(5, 'XYZW Express', '77-7777-7777')\n"
     ]
    }
   ],
   "source": [
    "cur.execute(\"\"\"select * from shippers_log\"\"\")\n",
    "\n",
    "tables = cur.fetchall()\n",
    "\n",
    "for table in tables:\n",
    "    print(table)"
   ]
  },
  {
   "cell_type": "code",
   "execution_count": 54,
   "metadata": {},
   "outputs": [
    {
     "data": {
      "text/plain": [
       "<snowflake.connector.cursor.SnowflakeCursor at 0x7f545ac7f3d0>"
      ]
     },
     "execution_count": 54,
     "metadata": {},
     "output_type": "execute_result"
    }
   ],
   "source": [
    "cur.execute(\"\"\"delete from shippers where shipper_id = 5\"\"\")\n",
    "cur.execute(\"\"\"delete from shippers_log\n",
    "where shippers_log.shipper_id in (select shipper_id from shipper_stream where\n",
    "shipper_stream.metadata$action = 'DELETE' and shipper_stream.metadata$isupdate = false)\"\"\")"
   ]
  }
 ],
 "metadata": {
  "kernelspec": {
   "display_name": "base",
   "language": "python",
   "name": "python3"
  },
  "language_info": {
   "codemirror_mode": {
    "name": "ipython",
    "version": 3
   },
   "file_extension": ".py",
   "mimetype": "text/x-python",
   "name": "python",
   "nbconvert_exporter": "python",
   "pygments_lexer": "ipython3",
   "version": "3.10.9"
  }
 },
 "nbformat": 4,
 "nbformat_minor": 2
}
